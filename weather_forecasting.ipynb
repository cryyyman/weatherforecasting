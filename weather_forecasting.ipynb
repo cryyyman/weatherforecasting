{
  "cells": [
    {
      "cell_type": "code",
      "execution_count": 10,
      "metadata": {
        "id": "91YrVXvDMO0c"
      },
      "outputs": [],
      "source": [
        "import numpy as np\n",
        "import pandas as pd\n",
        "import matplotlib.pyplot as plt\n",
        "import seaborn as sns\n",
        "import plotly.express as px"
      ]
    },
    {
      "cell_type": "code",
      "execution_count": 11,
      "metadata": {
        "colab": {
          "base_uri": "https://localhost:8080/",
          "height": 206
        },
        "id": "vjJJV0iEM9w0",
        "outputId": "9aadb315-f33a-4fde-abbf-d747c8749edb"
      },
      "outputs": [
        {
          "name": "stderr",
          "output_type": "stream",
          "text": [
            "<>:1: SyntaxWarning: invalid escape sequence '\\L'\n",
            "<>:1: SyntaxWarning: invalid escape sequence '\\L'\n",
            "C:\\Users\\ADMIN\\AppData\\Local\\Temp\\ipykernel_14692\\147603158.py:1: SyntaxWarning: invalid escape sequence '\\L'\n",
            "  data = pd.read_csv(\"F:\\Learning\\DailyDelhiClimateTest.csv\")\n"
          ]
        },
        {
          "data": {
            "text/html": [
              "<div>\n",
              "<style scoped>\n",
              "    .dataframe tbody tr th:only-of-type {\n",
              "        vertical-align: middle;\n",
              "    }\n",
              "\n",
              "    .dataframe tbody tr th {\n",
              "        vertical-align: top;\n",
              "    }\n",
              "\n",
              "    .dataframe thead th {\n",
              "        text-align: right;\n",
              "    }\n",
              "</style>\n",
              "<table border=\"1\" class=\"dataframe\">\n",
              "  <thead>\n",
              "    <tr style=\"text-align: right;\">\n",
              "      <th></th>\n",
              "      <th>date</th>\n",
              "      <th>meantemp</th>\n",
              "      <th>humidity</th>\n",
              "      <th>wind_speed</th>\n",
              "      <th>meanpressure</th>\n",
              "    </tr>\n",
              "  </thead>\n",
              "  <tbody>\n",
              "    <tr>\n",
              "      <th>0</th>\n",
              "      <td>2017-01-01</td>\n",
              "      <td>15.913043</td>\n",
              "      <td>85.869565</td>\n",
              "      <td>2.743478</td>\n",
              "      <td>59.000000</td>\n",
              "    </tr>\n",
              "    <tr>\n",
              "      <th>1</th>\n",
              "      <td>2017-01-02</td>\n",
              "      <td>18.500000</td>\n",
              "      <td>77.222222</td>\n",
              "      <td>2.894444</td>\n",
              "      <td>1018.277778</td>\n",
              "    </tr>\n",
              "    <tr>\n",
              "      <th>2</th>\n",
              "      <td>2017-01-03</td>\n",
              "      <td>17.111111</td>\n",
              "      <td>81.888889</td>\n",
              "      <td>4.016667</td>\n",
              "      <td>1018.333333</td>\n",
              "    </tr>\n",
              "    <tr>\n",
              "      <th>3</th>\n",
              "      <td>2017-01-04</td>\n",
              "      <td>18.700000</td>\n",
              "      <td>70.050000</td>\n",
              "      <td>4.545000</td>\n",
              "      <td>1015.700000</td>\n",
              "    </tr>\n",
              "    <tr>\n",
              "      <th>4</th>\n",
              "      <td>2017-01-05</td>\n",
              "      <td>18.388889</td>\n",
              "      <td>74.944444</td>\n",
              "      <td>3.300000</td>\n",
              "      <td>1014.333333</td>\n",
              "    </tr>\n",
              "  </tbody>\n",
              "</table>\n",
              "</div>"
            ],
            "text/plain": [
              "         date   meantemp   humidity  wind_speed  meanpressure\n",
              "0  2017-01-01  15.913043  85.869565    2.743478     59.000000\n",
              "1  2017-01-02  18.500000  77.222222    2.894444   1018.277778\n",
              "2  2017-01-03  17.111111  81.888889    4.016667   1018.333333\n",
              "3  2017-01-04  18.700000  70.050000    4.545000   1015.700000\n",
              "4  2017-01-05  18.388889  74.944444    3.300000   1014.333333"
            ]
          },
          "execution_count": 11,
          "metadata": {},
          "output_type": "execute_result"
        }
      ],
      "source": [
        "data = pd.read_csv(\"F:\\Learning\\DailyDelhiClimateTest.csv\")\n",
        "data.head()"
      ]
    },
    {
      "cell_type": "code",
      "execution_count": 12,
      "metadata": {
        "colab": {
          "base_uri": "https://localhost:8080/",
          "height": 300
        },
        "id": "gU_YqI-cNEnQ",
        "outputId": "94bf4640-6fbb-41db-d6d5-0bf0ce2fc596"
      },
      "outputs": [
        {
          "data": {
            "text/html": [
              "<div>\n",
              "<style scoped>\n",
              "    .dataframe tbody tr th:only-of-type {\n",
              "        vertical-align: middle;\n",
              "    }\n",
              "\n",
              "    .dataframe tbody tr th {\n",
              "        vertical-align: top;\n",
              "    }\n",
              "\n",
              "    .dataframe thead th {\n",
              "        text-align: right;\n",
              "    }\n",
              "</style>\n",
              "<table border=\"1\" class=\"dataframe\">\n",
              "  <thead>\n",
              "    <tr style=\"text-align: right;\">\n",
              "      <th></th>\n",
              "      <th>meantemp</th>\n",
              "      <th>humidity</th>\n",
              "      <th>wind_speed</th>\n",
              "      <th>meanpressure</th>\n",
              "    </tr>\n",
              "  </thead>\n",
              "  <tbody>\n",
              "    <tr>\n",
              "      <th>count</th>\n",
              "      <td>114.000000</td>\n",
              "      <td>114.000000</td>\n",
              "      <td>114.000000</td>\n",
              "      <td>114.000000</td>\n",
              "    </tr>\n",
              "    <tr>\n",
              "      <th>mean</th>\n",
              "      <td>21.713079</td>\n",
              "      <td>56.258362</td>\n",
              "      <td>8.143924</td>\n",
              "      <td>1004.035090</td>\n",
              "    </tr>\n",
              "    <tr>\n",
              "      <th>std</th>\n",
              "      <td>6.360072</td>\n",
              "      <td>19.068083</td>\n",
              "      <td>3.588049</td>\n",
              "      <td>89.474692</td>\n",
              "    </tr>\n",
              "    <tr>\n",
              "      <th>min</th>\n",
              "      <td>11.000000</td>\n",
              "      <td>17.750000</td>\n",
              "      <td>1.387500</td>\n",
              "      <td>59.000000</td>\n",
              "    </tr>\n",
              "    <tr>\n",
              "      <th>25%</th>\n",
              "      <td>16.437198</td>\n",
              "      <td>39.625000</td>\n",
              "      <td>5.563542</td>\n",
              "      <td>1007.437500</td>\n",
              "    </tr>\n",
              "    <tr>\n",
              "      <th>50%</th>\n",
              "      <td>19.875000</td>\n",
              "      <td>57.750000</td>\n",
              "      <td>8.069444</td>\n",
              "      <td>1012.739316</td>\n",
              "    </tr>\n",
              "    <tr>\n",
              "      <th>75%</th>\n",
              "      <td>27.705357</td>\n",
              "      <td>71.902778</td>\n",
              "      <td>10.068750</td>\n",
              "      <td>1016.739583</td>\n",
              "    </tr>\n",
              "    <tr>\n",
              "      <th>max</th>\n",
              "      <td>34.500000</td>\n",
              "      <td>95.833333</td>\n",
              "      <td>19.314286</td>\n",
              "      <td>1022.809524</td>\n",
              "    </tr>\n",
              "  </tbody>\n",
              "</table>\n",
              "</div>"
            ],
            "text/plain": [
              "         meantemp    humidity  wind_speed  meanpressure\n",
              "count  114.000000  114.000000  114.000000    114.000000\n",
              "mean    21.713079   56.258362    8.143924   1004.035090\n",
              "std      6.360072   19.068083    3.588049     89.474692\n",
              "min     11.000000   17.750000    1.387500     59.000000\n",
              "25%     16.437198   39.625000    5.563542   1007.437500\n",
              "50%     19.875000   57.750000    8.069444   1012.739316\n",
              "75%     27.705357   71.902778   10.068750   1016.739583\n",
              "max     34.500000   95.833333   19.314286   1022.809524"
            ]
          },
          "execution_count": 12,
          "metadata": {},
          "output_type": "execute_result"
        }
      ],
      "source": [
        "data.describe()"
      ]
    },
    {
      "cell_type": "code",
      "execution_count": 13,
      "metadata": {
        "colab": {
          "base_uri": "https://localhost:8080/"
        },
        "id": "mpM2ZTC-NpTX",
        "outputId": "30397ceb-7178-44f4-e8f8-c19fc79eee1c"
      },
      "outputs": [
        {
          "name": "stdout",
          "output_type": "stream",
          "text": [
            "<class 'pandas.core.frame.DataFrame'>\n",
            "RangeIndex: 114 entries, 0 to 113\n",
            "Data columns (total 5 columns):\n",
            " #   Column        Non-Null Count  Dtype  \n",
            "---  ------        --------------  -----  \n",
            " 0   date          114 non-null    object \n",
            " 1   meantemp      114 non-null    float64\n",
            " 2   humidity      114 non-null    float64\n",
            " 3   wind_speed    114 non-null    float64\n",
            " 4   meanpressure  114 non-null    float64\n",
            "dtypes: float64(4), object(1)\n",
            "memory usage: 4.6+ KB\n"
          ]
        }
      ],
      "source": [
        "data.info()"
      ]
    },
    {
      "cell_type": "code",
      "execution_count": 14,
      "metadata": {
        "colab": {
          "base_uri": "https://localhost:8080/",
          "height": 542
        },
        "id": "-NKCVnonNr3b",
        "outputId": "46c09d62-98a5-49f3-d7b4-63324b44659d"
      },
      "outputs": [
        {
          "data": {
            "application/vnd.plotly.v1+json": {
              "config": {
                "plotlyServerURL": "https://plot.ly"
              },
              "data": [
                {
                  "hovertemplate": "date=%{x}<br>meantemp=%{y}<extra></extra>",
                  "legendgroup": "",
                  "line": {
                    "color": "#636efa",
                    "dash": "solid"
                  },
                  "marker": {
                    "symbol": "circle"
                  },
                  "mode": "lines",
                  "name": "",
                  "orientation": "v",
                  "showlegend": false,
                  "type": "scatter",
                  "x": [
                    "2017-01-01",
                    "2017-01-02",
                    "2017-01-03",
                    "2017-01-04",
                    "2017-01-05",
                    "2017-01-06",
                    "2017-01-07",
                    "2017-01-08",
                    "2017-01-09",
                    "2017-01-10",
                    "2017-01-11",
                    "2017-01-12",
                    "2017-01-13",
                    "2017-01-14",
                    "2017-01-15",
                    "2017-01-16",
                    "2017-01-17",
                    "2017-01-18",
                    "2017-01-19",
                    "2017-01-20",
                    "2017-01-21",
                    "2017-01-22",
                    "2017-01-23",
                    "2017-01-24",
                    "2017-01-25",
                    "2017-01-26",
                    "2017-01-27",
                    "2017-01-28",
                    "2017-01-29",
                    "2017-01-30",
                    "2017-01-31",
                    "2017-02-01",
                    "2017-02-02",
                    "2017-02-03",
                    "2017-02-04",
                    "2017-02-05",
                    "2017-02-06",
                    "2017-02-07",
                    "2017-02-08",
                    "2017-02-09",
                    "2017-02-10",
                    "2017-02-11",
                    "2017-02-12",
                    "2017-02-13",
                    "2017-02-14",
                    "2017-02-15",
                    "2017-02-16",
                    "2017-02-17",
                    "2017-02-18",
                    "2017-02-19",
                    "2017-02-20",
                    "2017-02-21",
                    "2017-02-22",
                    "2017-02-23",
                    "2017-02-24",
                    "2017-02-25",
                    "2017-02-26",
                    "2017-02-27",
                    "2017-02-28",
                    "2017-03-01",
                    "2017-03-02",
                    "2017-03-03",
                    "2017-03-04",
                    "2017-03-05",
                    "2017-03-06",
                    "2017-03-07",
                    "2017-03-08",
                    "2017-03-09",
                    "2017-03-10",
                    "2017-03-11",
                    "2017-03-12",
                    "2017-03-13",
                    "2017-03-14",
                    "2017-03-15",
                    "2017-03-16",
                    "2017-03-17",
                    "2017-03-18",
                    "2017-03-19",
                    "2017-03-20",
                    "2017-03-21",
                    "2017-03-22",
                    "2017-03-23",
                    "2017-03-24",
                    "2017-03-25",
                    "2017-03-26",
                    "2017-03-27",
                    "2017-03-28",
                    "2017-03-29",
                    "2017-03-30",
                    "2017-03-31",
                    "2017-04-01",
                    "2017-04-02",
                    "2017-04-03",
                    "2017-04-04",
                    "2017-04-05",
                    "2017-04-06",
                    "2017-04-07",
                    "2017-04-08",
                    "2017-04-09",
                    "2017-04-10",
                    "2017-04-11",
                    "2017-04-12",
                    "2017-04-13",
                    "2017-04-14",
                    "2017-04-15",
                    "2017-04-16",
                    "2017-04-17",
                    "2017-04-18",
                    "2017-04-19",
                    "2017-04-20",
                    "2017-04-21",
                    "2017-04-22",
                    "2017-04-23",
                    "2017-04-24"
                  ],
                  "xaxis": "x",
                  "y": [
                    15.91304347826087,
                    18.5,
                    17.11111111111111,
                    18.7,
                    18.38888888888889,
                    19.318181818181817,
                    14.708333333333334,
                    15.68421052631579,
                    14.571428571428571,
                    12.11111111111111,
                    11,
                    11.789473684210526,
                    13.235294117647058,
                    13.2,
                    16.434782608695652,
                    14.65,
                    11.72222222222222,
                    13.041666666666666,
                    14.61904761904762,
                    15.263157894736842,
                    15.391304347826088,
                    18.44,
                    18.11764705882353,
                    18.347826086956523,
                    21,
                    16.178571428571427,
                    16.5,
                    14.863636363636363,
                    15.666666666666666,
                    16.444444444444443,
                    16.125,
                    15.25,
                    17.09090909090909,
                    15.636363636363637,
                    18.7,
                    18.63157894736842,
                    16.88888888888889,
                    15.125,
                    15.7,
                    15.375,
                    14.666666666666666,
                    15.625,
                    16.25,
                    16.333333333333332,
                    16.875,
                    17.571428571428573,
                    20.25,
                    21.3,
                    21.125,
                    22.363636363636363,
                    23.375,
                    21.83333333333333,
                    19.125,
                    18.625,
                    19.125,
                    19,
                    18.75,
                    19.875,
                    23.33333333333333,
                    24.46153846153846,
                    23.75,
                    20.5,
                    19.125,
                    19.75,
                    20,
                    22.625,
                    21.545454545454547,
                    20.785714285714285,
                    19.9375,
                    18.53333333333333,
                    17.375,
                    17.444444444444443,
                    18,
                    19.875,
                    24,
                    20.9,
                    24.692307692307693,
                    24.666666666666668,
                    23.33333333333333,
                    25,
                    27.25,
                    28,
                    28.916666666666668,
                    26.5,
                    29.1,
                    29.5,
                    29.88888888888889,
                    31,
                    29.285714285714285,
                    30.625,
                    31.375,
                    29.75,
                    30.5,
                    30.933333333333334,
                    29.23076923076923,
                    31.22222222222222,
                    27,
                    25.625,
                    27.125,
                    27.857142857142858,
                    29.25,
                    29.25,
                    29.666666666666668,
                    30.5,
                    31.22222222222222,
                    31,
                    32.55555555555556,
                    34,
                    33.5,
                    34.5,
                    34.25,
                    32.9,
                    32.875,
                    32
                  ],
                  "yaxis": "y"
                }
              ],
              "layout": {
                "legend": {
                  "tracegroupgap": 0
                },
                "template": {
                  "data": {
                    "bar": [
                      {
                        "error_x": {
                          "color": "#2a3f5f"
                        },
                        "error_y": {
                          "color": "#2a3f5f"
                        },
                        "marker": {
                          "line": {
                            "color": "#E5ECF6",
                            "width": 0.5
                          },
                          "pattern": {
                            "fillmode": "overlay",
                            "size": 10,
                            "solidity": 0.2
                          }
                        },
                        "type": "bar"
                      }
                    ],
                    "barpolar": [
                      {
                        "marker": {
                          "line": {
                            "color": "#E5ECF6",
                            "width": 0.5
                          },
                          "pattern": {
                            "fillmode": "overlay",
                            "size": 10,
                            "solidity": 0.2
                          }
                        },
                        "type": "barpolar"
                      }
                    ],
                    "carpet": [
                      {
                        "aaxis": {
                          "endlinecolor": "#2a3f5f",
                          "gridcolor": "white",
                          "linecolor": "white",
                          "minorgridcolor": "white",
                          "startlinecolor": "#2a3f5f"
                        },
                        "baxis": {
                          "endlinecolor": "#2a3f5f",
                          "gridcolor": "white",
                          "linecolor": "white",
                          "minorgridcolor": "white",
                          "startlinecolor": "#2a3f5f"
                        },
                        "type": "carpet"
                      }
                    ],
                    "choropleth": [
                      {
                        "colorbar": {
                          "outlinewidth": 0,
                          "ticks": ""
                        },
                        "type": "choropleth"
                      }
                    ],
                    "contour": [
                      {
                        "colorbar": {
                          "outlinewidth": 0,
                          "ticks": ""
                        },
                        "colorscale": [
                          [
                            0,
                            "#0d0887"
                          ],
                          [
                            0.1111111111111111,
                            "#46039f"
                          ],
                          [
                            0.2222222222222222,
                            "#7201a8"
                          ],
                          [
                            0.3333333333333333,
                            "#9c179e"
                          ],
                          [
                            0.4444444444444444,
                            "#bd3786"
                          ],
                          [
                            0.5555555555555556,
                            "#d8576b"
                          ],
                          [
                            0.6666666666666666,
                            "#ed7953"
                          ],
                          [
                            0.7777777777777778,
                            "#fb9f3a"
                          ],
                          [
                            0.8888888888888888,
                            "#fdca26"
                          ],
                          [
                            1,
                            "#f0f921"
                          ]
                        ],
                        "type": "contour"
                      }
                    ],
                    "contourcarpet": [
                      {
                        "colorbar": {
                          "outlinewidth": 0,
                          "ticks": ""
                        },
                        "type": "contourcarpet"
                      }
                    ],
                    "heatmap": [
                      {
                        "colorbar": {
                          "outlinewidth": 0,
                          "ticks": ""
                        },
                        "colorscale": [
                          [
                            0,
                            "#0d0887"
                          ],
                          [
                            0.1111111111111111,
                            "#46039f"
                          ],
                          [
                            0.2222222222222222,
                            "#7201a8"
                          ],
                          [
                            0.3333333333333333,
                            "#9c179e"
                          ],
                          [
                            0.4444444444444444,
                            "#bd3786"
                          ],
                          [
                            0.5555555555555556,
                            "#d8576b"
                          ],
                          [
                            0.6666666666666666,
                            "#ed7953"
                          ],
                          [
                            0.7777777777777778,
                            "#fb9f3a"
                          ],
                          [
                            0.8888888888888888,
                            "#fdca26"
                          ],
                          [
                            1,
                            "#f0f921"
                          ]
                        ],
                        "type": "heatmap"
                      }
                    ],
                    "heatmapgl": [
                      {
                        "colorbar": {
                          "outlinewidth": 0,
                          "ticks": ""
                        },
                        "colorscale": [
                          [
                            0,
                            "#0d0887"
                          ],
                          [
                            0.1111111111111111,
                            "#46039f"
                          ],
                          [
                            0.2222222222222222,
                            "#7201a8"
                          ],
                          [
                            0.3333333333333333,
                            "#9c179e"
                          ],
                          [
                            0.4444444444444444,
                            "#bd3786"
                          ],
                          [
                            0.5555555555555556,
                            "#d8576b"
                          ],
                          [
                            0.6666666666666666,
                            "#ed7953"
                          ],
                          [
                            0.7777777777777778,
                            "#fb9f3a"
                          ],
                          [
                            0.8888888888888888,
                            "#fdca26"
                          ],
                          [
                            1,
                            "#f0f921"
                          ]
                        ],
                        "type": "heatmapgl"
                      }
                    ],
                    "histogram": [
                      {
                        "marker": {
                          "pattern": {
                            "fillmode": "overlay",
                            "size": 10,
                            "solidity": 0.2
                          }
                        },
                        "type": "histogram"
                      }
                    ],
                    "histogram2d": [
                      {
                        "colorbar": {
                          "outlinewidth": 0,
                          "ticks": ""
                        },
                        "colorscale": [
                          [
                            0,
                            "#0d0887"
                          ],
                          [
                            0.1111111111111111,
                            "#46039f"
                          ],
                          [
                            0.2222222222222222,
                            "#7201a8"
                          ],
                          [
                            0.3333333333333333,
                            "#9c179e"
                          ],
                          [
                            0.4444444444444444,
                            "#bd3786"
                          ],
                          [
                            0.5555555555555556,
                            "#d8576b"
                          ],
                          [
                            0.6666666666666666,
                            "#ed7953"
                          ],
                          [
                            0.7777777777777778,
                            "#fb9f3a"
                          ],
                          [
                            0.8888888888888888,
                            "#fdca26"
                          ],
                          [
                            1,
                            "#f0f921"
                          ]
                        ],
                        "type": "histogram2d"
                      }
                    ],
                    "histogram2dcontour": [
                      {
                        "colorbar": {
                          "outlinewidth": 0,
                          "ticks": ""
                        },
                        "colorscale": [
                          [
                            0,
                            "#0d0887"
                          ],
                          [
                            0.1111111111111111,
                            "#46039f"
                          ],
                          [
                            0.2222222222222222,
                            "#7201a8"
                          ],
                          [
                            0.3333333333333333,
                            "#9c179e"
                          ],
                          [
                            0.4444444444444444,
                            "#bd3786"
                          ],
                          [
                            0.5555555555555556,
                            "#d8576b"
                          ],
                          [
                            0.6666666666666666,
                            "#ed7953"
                          ],
                          [
                            0.7777777777777778,
                            "#fb9f3a"
                          ],
                          [
                            0.8888888888888888,
                            "#fdca26"
                          ],
                          [
                            1,
                            "#f0f921"
                          ]
                        ],
                        "type": "histogram2dcontour"
                      }
                    ],
                    "mesh3d": [
                      {
                        "colorbar": {
                          "outlinewidth": 0,
                          "ticks": ""
                        },
                        "type": "mesh3d"
                      }
                    ],
                    "parcoords": [
                      {
                        "line": {
                          "colorbar": {
                            "outlinewidth": 0,
                            "ticks": ""
                          }
                        },
                        "type": "parcoords"
                      }
                    ],
                    "pie": [
                      {
                        "automargin": true,
                        "type": "pie"
                      }
                    ],
                    "scatter": [
                      {
                        "fillpattern": {
                          "fillmode": "overlay",
                          "size": 10,
                          "solidity": 0.2
                        },
                        "type": "scatter"
                      }
                    ],
                    "scatter3d": [
                      {
                        "line": {
                          "colorbar": {
                            "outlinewidth": 0,
                            "ticks": ""
                          }
                        },
                        "marker": {
                          "colorbar": {
                            "outlinewidth": 0,
                            "ticks": ""
                          }
                        },
                        "type": "scatter3d"
                      }
                    ],
                    "scattercarpet": [
                      {
                        "marker": {
                          "colorbar": {
                            "outlinewidth": 0,
                            "ticks": ""
                          }
                        },
                        "type": "scattercarpet"
                      }
                    ],
                    "scattergeo": [
                      {
                        "marker": {
                          "colorbar": {
                            "outlinewidth": 0,
                            "ticks": ""
                          }
                        },
                        "type": "scattergeo"
                      }
                    ],
                    "scattergl": [
                      {
                        "marker": {
                          "colorbar": {
                            "outlinewidth": 0,
                            "ticks": ""
                          }
                        },
                        "type": "scattergl"
                      }
                    ],
                    "scattermapbox": [
                      {
                        "marker": {
                          "colorbar": {
                            "outlinewidth": 0,
                            "ticks": ""
                          }
                        },
                        "type": "scattermapbox"
                      }
                    ],
                    "scatterpolar": [
                      {
                        "marker": {
                          "colorbar": {
                            "outlinewidth": 0,
                            "ticks": ""
                          }
                        },
                        "type": "scatterpolar"
                      }
                    ],
                    "scatterpolargl": [
                      {
                        "marker": {
                          "colorbar": {
                            "outlinewidth": 0,
                            "ticks": ""
                          }
                        },
                        "type": "scatterpolargl"
                      }
                    ],
                    "scatterternary": [
                      {
                        "marker": {
                          "colorbar": {
                            "outlinewidth": 0,
                            "ticks": ""
                          }
                        },
                        "type": "scatterternary"
                      }
                    ],
                    "surface": [
                      {
                        "colorbar": {
                          "outlinewidth": 0,
                          "ticks": ""
                        },
                        "colorscale": [
                          [
                            0,
                            "#0d0887"
                          ],
                          [
                            0.1111111111111111,
                            "#46039f"
                          ],
                          [
                            0.2222222222222222,
                            "#7201a8"
                          ],
                          [
                            0.3333333333333333,
                            "#9c179e"
                          ],
                          [
                            0.4444444444444444,
                            "#bd3786"
                          ],
                          [
                            0.5555555555555556,
                            "#d8576b"
                          ],
                          [
                            0.6666666666666666,
                            "#ed7953"
                          ],
                          [
                            0.7777777777777778,
                            "#fb9f3a"
                          ],
                          [
                            0.8888888888888888,
                            "#fdca26"
                          ],
                          [
                            1,
                            "#f0f921"
                          ]
                        ],
                        "type": "surface"
                      }
                    ],
                    "table": [
                      {
                        "cells": {
                          "fill": {
                            "color": "#EBF0F8"
                          },
                          "line": {
                            "color": "white"
                          }
                        },
                        "header": {
                          "fill": {
                            "color": "#C8D4E3"
                          },
                          "line": {
                            "color": "white"
                          }
                        },
                        "type": "table"
                      }
                    ]
                  },
                  "layout": {
                    "annotationdefaults": {
                      "arrowcolor": "#2a3f5f",
                      "arrowhead": 0,
                      "arrowwidth": 1
                    },
                    "autotypenumbers": "strict",
                    "coloraxis": {
                      "colorbar": {
                        "outlinewidth": 0,
                        "ticks": ""
                      }
                    },
                    "colorscale": {
                      "diverging": [
                        [
                          0,
                          "#8e0152"
                        ],
                        [
                          0.1,
                          "#c51b7d"
                        ],
                        [
                          0.2,
                          "#de77ae"
                        ],
                        [
                          0.3,
                          "#f1b6da"
                        ],
                        [
                          0.4,
                          "#fde0ef"
                        ],
                        [
                          0.5,
                          "#f7f7f7"
                        ],
                        [
                          0.6,
                          "#e6f5d0"
                        ],
                        [
                          0.7,
                          "#b8e186"
                        ],
                        [
                          0.8,
                          "#7fbc41"
                        ],
                        [
                          0.9,
                          "#4d9221"
                        ],
                        [
                          1,
                          "#276419"
                        ]
                      ],
                      "sequential": [
                        [
                          0,
                          "#0d0887"
                        ],
                        [
                          0.1111111111111111,
                          "#46039f"
                        ],
                        [
                          0.2222222222222222,
                          "#7201a8"
                        ],
                        [
                          0.3333333333333333,
                          "#9c179e"
                        ],
                        [
                          0.4444444444444444,
                          "#bd3786"
                        ],
                        [
                          0.5555555555555556,
                          "#d8576b"
                        ],
                        [
                          0.6666666666666666,
                          "#ed7953"
                        ],
                        [
                          0.7777777777777778,
                          "#fb9f3a"
                        ],
                        [
                          0.8888888888888888,
                          "#fdca26"
                        ],
                        [
                          1,
                          "#f0f921"
                        ]
                      ],
                      "sequentialminus": [
                        [
                          0,
                          "#0d0887"
                        ],
                        [
                          0.1111111111111111,
                          "#46039f"
                        ],
                        [
                          0.2222222222222222,
                          "#7201a8"
                        ],
                        [
                          0.3333333333333333,
                          "#9c179e"
                        ],
                        [
                          0.4444444444444444,
                          "#bd3786"
                        ],
                        [
                          0.5555555555555556,
                          "#d8576b"
                        ],
                        [
                          0.6666666666666666,
                          "#ed7953"
                        ],
                        [
                          0.7777777777777778,
                          "#fb9f3a"
                        ],
                        [
                          0.8888888888888888,
                          "#fdca26"
                        ],
                        [
                          1,
                          "#f0f921"
                        ]
                      ]
                    },
                    "colorway": [
                      "#636efa",
                      "#EF553B",
                      "#00cc96",
                      "#ab63fa",
                      "#FFA15A",
                      "#19d3f3",
                      "#FF6692",
                      "#B6E880",
                      "#FF97FF",
                      "#FECB52"
                    ],
                    "font": {
                      "color": "#2a3f5f"
                    },
                    "geo": {
                      "bgcolor": "white",
                      "lakecolor": "white",
                      "landcolor": "#E5ECF6",
                      "showlakes": true,
                      "showland": true,
                      "subunitcolor": "white"
                    },
                    "hoverlabel": {
                      "align": "left"
                    },
                    "hovermode": "closest",
                    "mapbox": {
                      "style": "light"
                    },
                    "paper_bgcolor": "white",
                    "plot_bgcolor": "#E5ECF6",
                    "polar": {
                      "angularaxis": {
                        "gridcolor": "white",
                        "linecolor": "white",
                        "ticks": ""
                      },
                      "bgcolor": "#E5ECF6",
                      "radialaxis": {
                        "gridcolor": "white",
                        "linecolor": "white",
                        "ticks": ""
                      }
                    },
                    "scene": {
                      "xaxis": {
                        "backgroundcolor": "#E5ECF6",
                        "gridcolor": "white",
                        "gridwidth": 2,
                        "linecolor": "white",
                        "showbackground": true,
                        "ticks": "",
                        "zerolinecolor": "white"
                      },
                      "yaxis": {
                        "backgroundcolor": "#E5ECF6",
                        "gridcolor": "white",
                        "gridwidth": 2,
                        "linecolor": "white",
                        "showbackground": true,
                        "ticks": "",
                        "zerolinecolor": "white"
                      },
                      "zaxis": {
                        "backgroundcolor": "#E5ECF6",
                        "gridcolor": "white",
                        "gridwidth": 2,
                        "linecolor": "white",
                        "showbackground": true,
                        "ticks": "",
                        "zerolinecolor": "white"
                      }
                    },
                    "shapedefaults": {
                      "line": {
                        "color": "#2a3f5f"
                      }
                    },
                    "ternary": {
                      "aaxis": {
                        "gridcolor": "white",
                        "linecolor": "white",
                        "ticks": ""
                      },
                      "baxis": {
                        "gridcolor": "white",
                        "linecolor": "white",
                        "ticks": ""
                      },
                      "bgcolor": "#E5ECF6",
                      "caxis": {
                        "gridcolor": "white",
                        "linecolor": "white",
                        "ticks": ""
                      }
                    },
                    "title": {
                      "x": 0.05
                    },
                    "xaxis": {
                      "automargin": true,
                      "gridcolor": "white",
                      "linecolor": "white",
                      "ticks": "",
                      "title": {
                        "standoff": 15
                      },
                      "zerolinecolor": "white",
                      "zerolinewidth": 2
                    },
                    "yaxis": {
                      "automargin": true,
                      "gridcolor": "white",
                      "linecolor": "white",
                      "ticks": "",
                      "title": {
                        "standoff": 15
                      },
                      "zerolinecolor": "white",
                      "zerolinewidth": 2
                    }
                  }
                },
                "title": {
                  "text": "Mean Temperature"
                },
                "xaxis": {
                  "anchor": "y",
                  "domain": [
                    0,
                    1
                  ],
                  "title": {
                    "text": "date"
                  }
                },
                "yaxis": {
                  "anchor": "x",
                  "domain": [
                    0,
                    1
                  ],
                  "title": {
                    "text": "meantemp"
                  }
                }
              }
            }
          },
          "metadata": {},
          "output_type": "display_data"
        }
      ],
      "source": [
        "figure1 = px.line(data, x=\"date\", y=\"meantemp\", title='Mean Temperature')\n",
        "figure1.show()"
      ]
    },
    {
      "cell_type": "code",
      "execution_count": 15,
      "metadata": {
        "colab": {
          "base_uri": "https://localhost:8080/",
          "height": 542
        },
        "id": "L56uis_UNz6Z",
        "outputId": "d223cebe-7802-4536-8aa9-9fbdba5e443e"
      },
      "outputs": [
        {
          "data": {
            "application/vnd.plotly.v1+json": {
              "config": {
                "plotlyServerURL": "https://plot.ly"
              },
              "data": [
                {
                  "hovertemplate": "date=%{x}<br>humidity=%{y}<extra></extra>",
                  "legendgroup": "",
                  "line": {
                    "color": "#636efa",
                    "dash": "solid"
                  },
                  "marker": {
                    "symbol": "circle"
                  },
                  "mode": "lines",
                  "name": "",
                  "orientation": "v",
                  "showlegend": false,
                  "type": "scatter",
                  "x": [
                    "2017-01-01",
                    "2017-01-02",
                    "2017-01-03",
                    "2017-01-04",
                    "2017-01-05",
                    "2017-01-06",
                    "2017-01-07",
                    "2017-01-08",
                    "2017-01-09",
                    "2017-01-10",
                    "2017-01-11",
                    "2017-01-12",
                    "2017-01-13",
                    "2017-01-14",
                    "2017-01-15",
                    "2017-01-16",
                    "2017-01-17",
                    "2017-01-18",
                    "2017-01-19",
                    "2017-01-20",
                    "2017-01-21",
                    "2017-01-22",
                    "2017-01-23",
                    "2017-01-24",
                    "2017-01-25",
                    "2017-01-26",
                    "2017-01-27",
                    "2017-01-28",
                    "2017-01-29",
                    "2017-01-30",
                    "2017-01-31",
                    "2017-02-01",
                    "2017-02-02",
                    "2017-02-03",
                    "2017-02-04",
                    "2017-02-05",
                    "2017-02-06",
                    "2017-02-07",
                    "2017-02-08",
                    "2017-02-09",
                    "2017-02-10",
                    "2017-02-11",
                    "2017-02-12",
                    "2017-02-13",
                    "2017-02-14",
                    "2017-02-15",
                    "2017-02-16",
                    "2017-02-17",
                    "2017-02-18",
                    "2017-02-19",
                    "2017-02-20",
                    "2017-02-21",
                    "2017-02-22",
                    "2017-02-23",
                    "2017-02-24",
                    "2017-02-25",
                    "2017-02-26",
                    "2017-02-27",
                    "2017-02-28",
                    "2017-03-01",
                    "2017-03-02",
                    "2017-03-03",
                    "2017-03-04",
                    "2017-03-05",
                    "2017-03-06",
                    "2017-03-07",
                    "2017-03-08",
                    "2017-03-09",
                    "2017-03-10",
                    "2017-03-11",
                    "2017-03-12",
                    "2017-03-13",
                    "2017-03-14",
                    "2017-03-15",
                    "2017-03-16",
                    "2017-03-17",
                    "2017-03-18",
                    "2017-03-19",
                    "2017-03-20",
                    "2017-03-21",
                    "2017-03-22",
                    "2017-03-23",
                    "2017-03-24",
                    "2017-03-25",
                    "2017-03-26",
                    "2017-03-27",
                    "2017-03-28",
                    "2017-03-29",
                    "2017-03-30",
                    "2017-03-31",
                    "2017-04-01",
                    "2017-04-02",
                    "2017-04-03",
                    "2017-04-04",
                    "2017-04-05",
                    "2017-04-06",
                    "2017-04-07",
                    "2017-04-08",
                    "2017-04-09",
                    "2017-04-10",
                    "2017-04-11",
                    "2017-04-12",
                    "2017-04-13",
                    "2017-04-14",
                    "2017-04-15",
                    "2017-04-16",
                    "2017-04-17",
                    "2017-04-18",
                    "2017-04-19",
                    "2017-04-20",
                    "2017-04-21",
                    "2017-04-22",
                    "2017-04-23",
                    "2017-04-24"
                  ],
                  "xaxis": "x",
                  "y": [
                    85.8695652173913,
                    77.22222222222223,
                    81.88888888888889,
                    70.05,
                    74.94444444444444,
                    79.31818181818181,
                    95.83333333333331,
                    83.52631578947368,
                    80.80952380952381,
                    71.94444444444444,
                    72.11111111111111,
                    74.57894736842105,
                    67.05882352941177,
                    74.28,
                    72.56521739130434,
                    78.45,
                    84.44444444444444,
                    78.33333333333333,
                    75.14285714285714,
                    66.47368421052632,
                    70.8695652173913,
                    76.24,
                    76,
                    68.1304347826087,
                    69.96,
                    91.64285714285714,
                    77.04166666666667,
                    82.77272727272727,
                    81.77777777777777,
                    77.55555555555556,
                    76,
                    78.625,
                    66.54545454545455,
                    78.18181818181819,
                    77.6,
                    77.63157894736842,
                    69.66666666666667,
                    63.75,
                    68.4,
                    68.375,
                    71.77777777777777,
                    64,
                    70.375,
                    67,
                    65.5,
                    67.71428571428571,
                    56.75,
                    64.4,
                    70.75,
                    66.0909090909091,
                    60.125,
                    69.41666666666667,
                    57.125,
                    42.875,
                    40.375,
                    50.42857142857143,
                    59,
                    58.375,
                    51.66666666666666,
                    47.92307692307692,
                    54.25,
                    42.5,
                    43.125,
                    41.25,
                    42.44444444444444,
                    41.5,
                    52.72727272727273,
                    69.07142857142857,
                    67.75,
                    60.4,
                    56.625,
                    49.333333333333336,
                    56.333333333333336,
                    54.75,
                    49.2,
                    59.7,
                    46.30769230769231,
                    52.27777777777778,
                    54.66666666666666,
                    49,
                    45,
                    49.75,
                    37.66666666666666,
                    39.375,
                    37.1,
                    38.625,
                    40.66666666666666,
                    34.5,
                    36.85714285714285,
                    37.625,
                    35.125,
                    33.75,
                    29.75,
                    31.866666666666667,
                    46,
                    26,
                    29.875,
                    29.375,
                    21.125,
                    19.428571428571427,
                    17.75,
                    26,
                    29.11111111111111,
                    37.625,
                    30.444444444444443,
                    34.25,
                    38.44444444444444,
                    27.33333333333333,
                    24.125,
                    27.5,
                    39.375,
                    40.9,
                    27.5,
                    27.142857142857142
                  ],
                  "yaxis": "y"
                }
              ],
              "layout": {
                "legend": {
                  "tracegroupgap": 0
                },
                "template": {
                  "data": {
                    "bar": [
                      {
                        "error_x": {
                          "color": "#2a3f5f"
                        },
                        "error_y": {
                          "color": "#2a3f5f"
                        },
                        "marker": {
                          "line": {
                            "color": "#E5ECF6",
                            "width": 0.5
                          },
                          "pattern": {
                            "fillmode": "overlay",
                            "size": 10,
                            "solidity": 0.2
                          }
                        },
                        "type": "bar"
                      }
                    ],
                    "barpolar": [
                      {
                        "marker": {
                          "line": {
                            "color": "#E5ECF6",
                            "width": 0.5
                          },
                          "pattern": {
                            "fillmode": "overlay",
                            "size": 10,
                            "solidity": 0.2
                          }
                        },
                        "type": "barpolar"
                      }
                    ],
                    "carpet": [
                      {
                        "aaxis": {
                          "endlinecolor": "#2a3f5f",
                          "gridcolor": "white",
                          "linecolor": "white",
                          "minorgridcolor": "white",
                          "startlinecolor": "#2a3f5f"
                        },
                        "baxis": {
                          "endlinecolor": "#2a3f5f",
                          "gridcolor": "white",
                          "linecolor": "white",
                          "minorgridcolor": "white",
                          "startlinecolor": "#2a3f5f"
                        },
                        "type": "carpet"
                      }
                    ],
                    "choropleth": [
                      {
                        "colorbar": {
                          "outlinewidth": 0,
                          "ticks": ""
                        },
                        "type": "choropleth"
                      }
                    ],
                    "contour": [
                      {
                        "colorbar": {
                          "outlinewidth": 0,
                          "ticks": ""
                        },
                        "colorscale": [
                          [
                            0,
                            "#0d0887"
                          ],
                          [
                            0.1111111111111111,
                            "#46039f"
                          ],
                          [
                            0.2222222222222222,
                            "#7201a8"
                          ],
                          [
                            0.3333333333333333,
                            "#9c179e"
                          ],
                          [
                            0.4444444444444444,
                            "#bd3786"
                          ],
                          [
                            0.5555555555555556,
                            "#d8576b"
                          ],
                          [
                            0.6666666666666666,
                            "#ed7953"
                          ],
                          [
                            0.7777777777777778,
                            "#fb9f3a"
                          ],
                          [
                            0.8888888888888888,
                            "#fdca26"
                          ],
                          [
                            1,
                            "#f0f921"
                          ]
                        ],
                        "type": "contour"
                      }
                    ],
                    "contourcarpet": [
                      {
                        "colorbar": {
                          "outlinewidth": 0,
                          "ticks": ""
                        },
                        "type": "contourcarpet"
                      }
                    ],
                    "heatmap": [
                      {
                        "colorbar": {
                          "outlinewidth": 0,
                          "ticks": ""
                        },
                        "colorscale": [
                          [
                            0,
                            "#0d0887"
                          ],
                          [
                            0.1111111111111111,
                            "#46039f"
                          ],
                          [
                            0.2222222222222222,
                            "#7201a8"
                          ],
                          [
                            0.3333333333333333,
                            "#9c179e"
                          ],
                          [
                            0.4444444444444444,
                            "#bd3786"
                          ],
                          [
                            0.5555555555555556,
                            "#d8576b"
                          ],
                          [
                            0.6666666666666666,
                            "#ed7953"
                          ],
                          [
                            0.7777777777777778,
                            "#fb9f3a"
                          ],
                          [
                            0.8888888888888888,
                            "#fdca26"
                          ],
                          [
                            1,
                            "#f0f921"
                          ]
                        ],
                        "type": "heatmap"
                      }
                    ],
                    "heatmapgl": [
                      {
                        "colorbar": {
                          "outlinewidth": 0,
                          "ticks": ""
                        },
                        "colorscale": [
                          [
                            0,
                            "#0d0887"
                          ],
                          [
                            0.1111111111111111,
                            "#46039f"
                          ],
                          [
                            0.2222222222222222,
                            "#7201a8"
                          ],
                          [
                            0.3333333333333333,
                            "#9c179e"
                          ],
                          [
                            0.4444444444444444,
                            "#bd3786"
                          ],
                          [
                            0.5555555555555556,
                            "#d8576b"
                          ],
                          [
                            0.6666666666666666,
                            "#ed7953"
                          ],
                          [
                            0.7777777777777778,
                            "#fb9f3a"
                          ],
                          [
                            0.8888888888888888,
                            "#fdca26"
                          ],
                          [
                            1,
                            "#f0f921"
                          ]
                        ],
                        "type": "heatmapgl"
                      }
                    ],
                    "histogram": [
                      {
                        "marker": {
                          "pattern": {
                            "fillmode": "overlay",
                            "size": 10,
                            "solidity": 0.2
                          }
                        },
                        "type": "histogram"
                      }
                    ],
                    "histogram2d": [
                      {
                        "colorbar": {
                          "outlinewidth": 0,
                          "ticks": ""
                        },
                        "colorscale": [
                          [
                            0,
                            "#0d0887"
                          ],
                          [
                            0.1111111111111111,
                            "#46039f"
                          ],
                          [
                            0.2222222222222222,
                            "#7201a8"
                          ],
                          [
                            0.3333333333333333,
                            "#9c179e"
                          ],
                          [
                            0.4444444444444444,
                            "#bd3786"
                          ],
                          [
                            0.5555555555555556,
                            "#d8576b"
                          ],
                          [
                            0.6666666666666666,
                            "#ed7953"
                          ],
                          [
                            0.7777777777777778,
                            "#fb9f3a"
                          ],
                          [
                            0.8888888888888888,
                            "#fdca26"
                          ],
                          [
                            1,
                            "#f0f921"
                          ]
                        ],
                        "type": "histogram2d"
                      }
                    ],
                    "histogram2dcontour": [
                      {
                        "colorbar": {
                          "outlinewidth": 0,
                          "ticks": ""
                        },
                        "colorscale": [
                          [
                            0,
                            "#0d0887"
                          ],
                          [
                            0.1111111111111111,
                            "#46039f"
                          ],
                          [
                            0.2222222222222222,
                            "#7201a8"
                          ],
                          [
                            0.3333333333333333,
                            "#9c179e"
                          ],
                          [
                            0.4444444444444444,
                            "#bd3786"
                          ],
                          [
                            0.5555555555555556,
                            "#d8576b"
                          ],
                          [
                            0.6666666666666666,
                            "#ed7953"
                          ],
                          [
                            0.7777777777777778,
                            "#fb9f3a"
                          ],
                          [
                            0.8888888888888888,
                            "#fdca26"
                          ],
                          [
                            1,
                            "#f0f921"
                          ]
                        ],
                        "type": "histogram2dcontour"
                      }
                    ],
                    "mesh3d": [
                      {
                        "colorbar": {
                          "outlinewidth": 0,
                          "ticks": ""
                        },
                        "type": "mesh3d"
                      }
                    ],
                    "parcoords": [
                      {
                        "line": {
                          "colorbar": {
                            "outlinewidth": 0,
                            "ticks": ""
                          }
                        },
                        "type": "parcoords"
                      }
                    ],
                    "pie": [
                      {
                        "automargin": true,
                        "type": "pie"
                      }
                    ],
                    "scatter": [
                      {
                        "fillpattern": {
                          "fillmode": "overlay",
                          "size": 10,
                          "solidity": 0.2
                        },
                        "type": "scatter"
                      }
                    ],
                    "scatter3d": [
                      {
                        "line": {
                          "colorbar": {
                            "outlinewidth": 0,
                            "ticks": ""
                          }
                        },
                        "marker": {
                          "colorbar": {
                            "outlinewidth": 0,
                            "ticks": ""
                          }
                        },
                        "type": "scatter3d"
                      }
                    ],
                    "scattercarpet": [
                      {
                        "marker": {
                          "colorbar": {
                            "outlinewidth": 0,
                            "ticks": ""
                          }
                        },
                        "type": "scattercarpet"
                      }
                    ],
                    "scattergeo": [
                      {
                        "marker": {
                          "colorbar": {
                            "outlinewidth": 0,
                            "ticks": ""
                          }
                        },
                        "type": "scattergeo"
                      }
                    ],
                    "scattergl": [
                      {
                        "marker": {
                          "colorbar": {
                            "outlinewidth": 0,
                            "ticks": ""
                          }
                        },
                        "type": "scattergl"
                      }
                    ],
                    "scattermapbox": [
                      {
                        "marker": {
                          "colorbar": {
                            "outlinewidth": 0,
                            "ticks": ""
                          }
                        },
                        "type": "scattermapbox"
                      }
                    ],
                    "scatterpolar": [
                      {
                        "marker": {
                          "colorbar": {
                            "outlinewidth": 0,
                            "ticks": ""
                          }
                        },
                        "type": "scatterpolar"
                      }
                    ],
                    "scatterpolargl": [
                      {
                        "marker": {
                          "colorbar": {
                            "outlinewidth": 0,
                            "ticks": ""
                          }
                        },
                        "type": "scatterpolargl"
                      }
                    ],
                    "scatterternary": [
                      {
                        "marker": {
                          "colorbar": {
                            "outlinewidth": 0,
                            "ticks": ""
                          }
                        },
                        "type": "scatterternary"
                      }
                    ],
                    "surface": [
                      {
                        "colorbar": {
                          "outlinewidth": 0,
                          "ticks": ""
                        },
                        "colorscale": [
                          [
                            0,
                            "#0d0887"
                          ],
                          [
                            0.1111111111111111,
                            "#46039f"
                          ],
                          [
                            0.2222222222222222,
                            "#7201a8"
                          ],
                          [
                            0.3333333333333333,
                            "#9c179e"
                          ],
                          [
                            0.4444444444444444,
                            "#bd3786"
                          ],
                          [
                            0.5555555555555556,
                            "#d8576b"
                          ],
                          [
                            0.6666666666666666,
                            "#ed7953"
                          ],
                          [
                            0.7777777777777778,
                            "#fb9f3a"
                          ],
                          [
                            0.8888888888888888,
                            "#fdca26"
                          ],
                          [
                            1,
                            "#f0f921"
                          ]
                        ],
                        "type": "surface"
                      }
                    ],
                    "table": [
                      {
                        "cells": {
                          "fill": {
                            "color": "#EBF0F8"
                          },
                          "line": {
                            "color": "white"
                          }
                        },
                        "header": {
                          "fill": {
                            "color": "#C8D4E3"
                          },
                          "line": {
                            "color": "white"
                          }
                        },
                        "type": "table"
                      }
                    ]
                  },
                  "layout": {
                    "annotationdefaults": {
                      "arrowcolor": "#2a3f5f",
                      "arrowhead": 0,
                      "arrowwidth": 1
                    },
                    "autotypenumbers": "strict",
                    "coloraxis": {
                      "colorbar": {
                        "outlinewidth": 0,
                        "ticks": ""
                      }
                    },
                    "colorscale": {
                      "diverging": [
                        [
                          0,
                          "#8e0152"
                        ],
                        [
                          0.1,
                          "#c51b7d"
                        ],
                        [
                          0.2,
                          "#de77ae"
                        ],
                        [
                          0.3,
                          "#f1b6da"
                        ],
                        [
                          0.4,
                          "#fde0ef"
                        ],
                        [
                          0.5,
                          "#f7f7f7"
                        ],
                        [
                          0.6,
                          "#e6f5d0"
                        ],
                        [
                          0.7,
                          "#b8e186"
                        ],
                        [
                          0.8,
                          "#7fbc41"
                        ],
                        [
                          0.9,
                          "#4d9221"
                        ],
                        [
                          1,
                          "#276419"
                        ]
                      ],
                      "sequential": [
                        [
                          0,
                          "#0d0887"
                        ],
                        [
                          0.1111111111111111,
                          "#46039f"
                        ],
                        [
                          0.2222222222222222,
                          "#7201a8"
                        ],
                        [
                          0.3333333333333333,
                          "#9c179e"
                        ],
                        [
                          0.4444444444444444,
                          "#bd3786"
                        ],
                        [
                          0.5555555555555556,
                          "#d8576b"
                        ],
                        [
                          0.6666666666666666,
                          "#ed7953"
                        ],
                        [
                          0.7777777777777778,
                          "#fb9f3a"
                        ],
                        [
                          0.8888888888888888,
                          "#fdca26"
                        ],
                        [
                          1,
                          "#f0f921"
                        ]
                      ],
                      "sequentialminus": [
                        [
                          0,
                          "#0d0887"
                        ],
                        [
                          0.1111111111111111,
                          "#46039f"
                        ],
                        [
                          0.2222222222222222,
                          "#7201a8"
                        ],
                        [
                          0.3333333333333333,
                          "#9c179e"
                        ],
                        [
                          0.4444444444444444,
                          "#bd3786"
                        ],
                        [
                          0.5555555555555556,
                          "#d8576b"
                        ],
                        [
                          0.6666666666666666,
                          "#ed7953"
                        ],
                        [
                          0.7777777777777778,
                          "#fb9f3a"
                        ],
                        [
                          0.8888888888888888,
                          "#fdca26"
                        ],
                        [
                          1,
                          "#f0f921"
                        ]
                      ]
                    },
                    "colorway": [
                      "#636efa",
                      "#EF553B",
                      "#00cc96",
                      "#ab63fa",
                      "#FFA15A",
                      "#19d3f3",
                      "#FF6692",
                      "#B6E880",
                      "#FF97FF",
                      "#FECB52"
                    ],
                    "font": {
                      "color": "#2a3f5f"
                    },
                    "geo": {
                      "bgcolor": "white",
                      "lakecolor": "white",
                      "landcolor": "#E5ECF6",
                      "showlakes": true,
                      "showland": true,
                      "subunitcolor": "white"
                    },
                    "hoverlabel": {
                      "align": "left"
                    },
                    "hovermode": "closest",
                    "mapbox": {
                      "style": "light"
                    },
                    "paper_bgcolor": "white",
                    "plot_bgcolor": "#E5ECF6",
                    "polar": {
                      "angularaxis": {
                        "gridcolor": "white",
                        "linecolor": "white",
                        "ticks": ""
                      },
                      "bgcolor": "#E5ECF6",
                      "radialaxis": {
                        "gridcolor": "white",
                        "linecolor": "white",
                        "ticks": ""
                      }
                    },
                    "scene": {
                      "xaxis": {
                        "backgroundcolor": "#E5ECF6",
                        "gridcolor": "white",
                        "gridwidth": 2,
                        "linecolor": "white",
                        "showbackground": true,
                        "ticks": "",
                        "zerolinecolor": "white"
                      },
                      "yaxis": {
                        "backgroundcolor": "#E5ECF6",
                        "gridcolor": "white",
                        "gridwidth": 2,
                        "linecolor": "white",
                        "showbackground": true,
                        "ticks": "",
                        "zerolinecolor": "white"
                      },
                      "zaxis": {
                        "backgroundcolor": "#E5ECF6",
                        "gridcolor": "white",
                        "gridwidth": 2,
                        "linecolor": "white",
                        "showbackground": true,
                        "ticks": "",
                        "zerolinecolor": "white"
                      }
                    },
                    "shapedefaults": {
                      "line": {
                        "color": "#2a3f5f"
                      }
                    },
                    "ternary": {
                      "aaxis": {
                        "gridcolor": "white",
                        "linecolor": "white",
                        "ticks": ""
                      },
                      "baxis": {
                        "gridcolor": "white",
                        "linecolor": "white",
                        "ticks": ""
                      },
                      "bgcolor": "#E5ECF6",
                      "caxis": {
                        "gridcolor": "white",
                        "linecolor": "white",
                        "ticks": ""
                      }
                    },
                    "title": {
                      "x": 0.05
                    },
                    "xaxis": {
                      "automargin": true,
                      "gridcolor": "white",
                      "linecolor": "white",
                      "ticks": "",
                      "title": {
                        "standoff": 15
                      },
                      "zerolinecolor": "white",
                      "zerolinewidth": 2
                    },
                    "yaxis": {
                      "automargin": true,
                      "gridcolor": "white",
                      "linecolor": "white",
                      "ticks": "",
                      "title": {
                        "standoff": 15
                      },
                      "zerolinecolor": "white",
                      "zerolinewidth": 2
                    }
                  }
                },
                "title": {
                  "text": "Humidity in Delhi Over the Years"
                },
                "xaxis": {
                  "anchor": "y",
                  "domain": [
                    0,
                    1
                  ],
                  "title": {
                    "text": "date"
                  }
                },
                "yaxis": {
                  "anchor": "x",
                  "domain": [
                    0,
                    1
                  ],
                  "title": {
                    "text": "humidity"
                  }
                }
              }
            }
          },
          "metadata": {},
          "output_type": "display_data"
        }
      ],
      "source": [
        "figure2 = px.line(data, x=\"date\", y=\"humidity\", title=\"Humidity in Delhi Over the Years\")\n",
        "figure2.show()"
      ]
    },
    {
      "cell_type": "code",
      "execution_count": 16,
      "metadata": {
        "colab": {
          "base_uri": "https://localhost:8080/",
          "height": 542
        },
        "id": "61zBxmPQOHmW",
        "outputId": "a9a241f5-506b-4646-9004-5d685ac406c5"
      },
      "outputs": [
        {
          "data": {
            "application/vnd.plotly.v1+json": {
              "config": {
                "plotlyServerURL": "https://plot.ly"
              },
              "data": [
                {
                  "hovertemplate": "date=%{x}<br>wind_speed=%{y}<extra></extra>",
                  "legendgroup": "",
                  "line": {
                    "color": "#636efa",
                    "dash": "solid"
                  },
                  "marker": {
                    "symbol": "circle"
                  },
                  "mode": "lines",
                  "name": "",
                  "orientation": "v",
                  "showlegend": false,
                  "type": "scatter",
                  "x": [
                    "2017-01-01",
                    "2017-01-02",
                    "2017-01-03",
                    "2017-01-04",
                    "2017-01-05",
                    "2017-01-06",
                    "2017-01-07",
                    "2017-01-08",
                    "2017-01-09",
                    "2017-01-10",
                    "2017-01-11",
                    "2017-01-12",
                    "2017-01-13",
                    "2017-01-14",
                    "2017-01-15",
                    "2017-01-16",
                    "2017-01-17",
                    "2017-01-18",
                    "2017-01-19",
                    "2017-01-20",
                    "2017-01-21",
                    "2017-01-22",
                    "2017-01-23",
                    "2017-01-24",
                    "2017-01-25",
                    "2017-01-26",
                    "2017-01-27",
                    "2017-01-28",
                    "2017-01-29",
                    "2017-01-30",
                    "2017-01-31",
                    "2017-02-01",
                    "2017-02-02",
                    "2017-02-03",
                    "2017-02-04",
                    "2017-02-05",
                    "2017-02-06",
                    "2017-02-07",
                    "2017-02-08",
                    "2017-02-09",
                    "2017-02-10",
                    "2017-02-11",
                    "2017-02-12",
                    "2017-02-13",
                    "2017-02-14",
                    "2017-02-15",
                    "2017-02-16",
                    "2017-02-17",
                    "2017-02-18",
                    "2017-02-19",
                    "2017-02-20",
                    "2017-02-21",
                    "2017-02-22",
                    "2017-02-23",
                    "2017-02-24",
                    "2017-02-25",
                    "2017-02-26",
                    "2017-02-27",
                    "2017-02-28",
                    "2017-03-01",
                    "2017-03-02",
                    "2017-03-03",
                    "2017-03-04",
                    "2017-03-05",
                    "2017-03-06",
                    "2017-03-07",
                    "2017-03-08",
                    "2017-03-09",
                    "2017-03-10",
                    "2017-03-11",
                    "2017-03-12",
                    "2017-03-13",
                    "2017-03-14",
                    "2017-03-15",
                    "2017-03-16",
                    "2017-03-17",
                    "2017-03-18",
                    "2017-03-19",
                    "2017-03-20",
                    "2017-03-21",
                    "2017-03-22",
                    "2017-03-23",
                    "2017-03-24",
                    "2017-03-25",
                    "2017-03-26",
                    "2017-03-27",
                    "2017-03-28",
                    "2017-03-29",
                    "2017-03-30",
                    "2017-03-31",
                    "2017-04-01",
                    "2017-04-02",
                    "2017-04-03",
                    "2017-04-04",
                    "2017-04-05",
                    "2017-04-06",
                    "2017-04-07",
                    "2017-04-08",
                    "2017-04-09",
                    "2017-04-10",
                    "2017-04-11",
                    "2017-04-12",
                    "2017-04-13",
                    "2017-04-14",
                    "2017-04-15",
                    "2017-04-16",
                    "2017-04-17",
                    "2017-04-18",
                    "2017-04-19",
                    "2017-04-20",
                    "2017-04-21",
                    "2017-04-22",
                    "2017-04-23",
                    "2017-04-24"
                  ],
                  "xaxis": "x",
                  "y": [
                    2.743478260869565,
                    2.8944444444444444,
                    4.016666666666667,
                    4.545,
                    3.3000000000000003,
                    8.681818181818182,
                    10.041666666666664,
                    1.95,
                    6.542857142857142,
                    9.361111111111107,
                    9.77222222222222,
                    6.626315789473684,
                    6.435294117647059,
                    5.276,
                    3.630434782608696,
                    10.38,
                    8.038888888888888,
                    6.029166666666664,
                    10.33809523809524,
                    11.226315789473684,
                    13.695652173913045,
                    5.867999999999999,
                    6.752941176470588,
                    3.3913043478260865,
                    8.755999999999998,
                    8.467857142857143,
                    14.358333333333333,
                    9.690909090909091,
                    10.294444444444444,
                    4.322222222222222,
                    4.625,
                    5.1000000000000005,
                    3.027272727272727,
                    1.8545454545454545,
                    9.82,
                    8.099999999999998,
                    9.044444444444444,
                    7.637500000000001,
                    4.08,
                    7.875000000000002,
                    9.066666666666666,
                    3.95,
                    1.625,
                    6.377777777777778,
                    6.9625,
                    5.557142857142857,
                    10.4375,
                    9.279999999999998,
                    6.25,
                    6.054545454545456,
                    6.937499999999999,
                    12.341666666666669,
                    7.4125,
                    14.35,
                    16.6625,
                    11.928571428571429,
                    11.1125,
                    5.1000000000000005,
                    3.911111111111112,
                    6.415384615384617,
                    5.930000000000001,
                    7.4125,
                    8.350000000000001,
                    9.9625,
                    9.666666666666664,
                    6.025,
                    10.263636363636364,
                    8.342857142857143,
                    11.4625,
                    5.566666666666666,
                    7.637499999999999,
                    9.055555555555554,
                    4.522222222222222,
                    7.175000000000001,
                    5.5600000000000005,
                    11.489999999999998,
                    7.123076923076924,
                    9.161111111111111,
                    10.077777777777778,
                    9.2625,
                    10.187500000000002,
                    3.4875000000000003,
                    10.033333333333337,
                    10.425,
                    17.59,
                    13.65,
                    8.844444444444445,
                    13.2,
                    10.585714285714284,
                    6.949999999999999,
                    9.0375,
                    9.2625,
                    6.9375,
                    14.32,
                    14.384615384615389,
                    13.577777777777776,
                    4.65,
                    8.337499999999999,
                    14.125,
                    19.314285714285717,
                    15.5125,
                    9.4875,
                    4.944444444444445,
                    1.3875000000000002,
                    5.966666666666667,
                    2.1,
                    5.366666666666666,
                    7.811111111111111,
                    9.025,
                    5.5625,
                    6.9625,
                    8.89,
                    9.9625,
                    12.157142857142858
                  ],
                  "yaxis": "y"
                }
              ],
              "layout": {
                "legend": {
                  "tracegroupgap": 0
                },
                "template": {
                  "data": {
                    "bar": [
                      {
                        "error_x": {
                          "color": "#2a3f5f"
                        },
                        "error_y": {
                          "color": "#2a3f5f"
                        },
                        "marker": {
                          "line": {
                            "color": "#E5ECF6",
                            "width": 0.5
                          },
                          "pattern": {
                            "fillmode": "overlay",
                            "size": 10,
                            "solidity": 0.2
                          }
                        },
                        "type": "bar"
                      }
                    ],
                    "barpolar": [
                      {
                        "marker": {
                          "line": {
                            "color": "#E5ECF6",
                            "width": 0.5
                          },
                          "pattern": {
                            "fillmode": "overlay",
                            "size": 10,
                            "solidity": 0.2
                          }
                        },
                        "type": "barpolar"
                      }
                    ],
                    "carpet": [
                      {
                        "aaxis": {
                          "endlinecolor": "#2a3f5f",
                          "gridcolor": "white",
                          "linecolor": "white",
                          "minorgridcolor": "white",
                          "startlinecolor": "#2a3f5f"
                        },
                        "baxis": {
                          "endlinecolor": "#2a3f5f",
                          "gridcolor": "white",
                          "linecolor": "white",
                          "minorgridcolor": "white",
                          "startlinecolor": "#2a3f5f"
                        },
                        "type": "carpet"
                      }
                    ],
                    "choropleth": [
                      {
                        "colorbar": {
                          "outlinewidth": 0,
                          "ticks": ""
                        },
                        "type": "choropleth"
                      }
                    ],
                    "contour": [
                      {
                        "colorbar": {
                          "outlinewidth": 0,
                          "ticks": ""
                        },
                        "colorscale": [
                          [
                            0,
                            "#0d0887"
                          ],
                          [
                            0.1111111111111111,
                            "#46039f"
                          ],
                          [
                            0.2222222222222222,
                            "#7201a8"
                          ],
                          [
                            0.3333333333333333,
                            "#9c179e"
                          ],
                          [
                            0.4444444444444444,
                            "#bd3786"
                          ],
                          [
                            0.5555555555555556,
                            "#d8576b"
                          ],
                          [
                            0.6666666666666666,
                            "#ed7953"
                          ],
                          [
                            0.7777777777777778,
                            "#fb9f3a"
                          ],
                          [
                            0.8888888888888888,
                            "#fdca26"
                          ],
                          [
                            1,
                            "#f0f921"
                          ]
                        ],
                        "type": "contour"
                      }
                    ],
                    "contourcarpet": [
                      {
                        "colorbar": {
                          "outlinewidth": 0,
                          "ticks": ""
                        },
                        "type": "contourcarpet"
                      }
                    ],
                    "heatmap": [
                      {
                        "colorbar": {
                          "outlinewidth": 0,
                          "ticks": ""
                        },
                        "colorscale": [
                          [
                            0,
                            "#0d0887"
                          ],
                          [
                            0.1111111111111111,
                            "#46039f"
                          ],
                          [
                            0.2222222222222222,
                            "#7201a8"
                          ],
                          [
                            0.3333333333333333,
                            "#9c179e"
                          ],
                          [
                            0.4444444444444444,
                            "#bd3786"
                          ],
                          [
                            0.5555555555555556,
                            "#d8576b"
                          ],
                          [
                            0.6666666666666666,
                            "#ed7953"
                          ],
                          [
                            0.7777777777777778,
                            "#fb9f3a"
                          ],
                          [
                            0.8888888888888888,
                            "#fdca26"
                          ],
                          [
                            1,
                            "#f0f921"
                          ]
                        ],
                        "type": "heatmap"
                      }
                    ],
                    "heatmapgl": [
                      {
                        "colorbar": {
                          "outlinewidth": 0,
                          "ticks": ""
                        },
                        "colorscale": [
                          [
                            0,
                            "#0d0887"
                          ],
                          [
                            0.1111111111111111,
                            "#46039f"
                          ],
                          [
                            0.2222222222222222,
                            "#7201a8"
                          ],
                          [
                            0.3333333333333333,
                            "#9c179e"
                          ],
                          [
                            0.4444444444444444,
                            "#bd3786"
                          ],
                          [
                            0.5555555555555556,
                            "#d8576b"
                          ],
                          [
                            0.6666666666666666,
                            "#ed7953"
                          ],
                          [
                            0.7777777777777778,
                            "#fb9f3a"
                          ],
                          [
                            0.8888888888888888,
                            "#fdca26"
                          ],
                          [
                            1,
                            "#f0f921"
                          ]
                        ],
                        "type": "heatmapgl"
                      }
                    ],
                    "histogram": [
                      {
                        "marker": {
                          "pattern": {
                            "fillmode": "overlay",
                            "size": 10,
                            "solidity": 0.2
                          }
                        },
                        "type": "histogram"
                      }
                    ],
                    "histogram2d": [
                      {
                        "colorbar": {
                          "outlinewidth": 0,
                          "ticks": ""
                        },
                        "colorscale": [
                          [
                            0,
                            "#0d0887"
                          ],
                          [
                            0.1111111111111111,
                            "#46039f"
                          ],
                          [
                            0.2222222222222222,
                            "#7201a8"
                          ],
                          [
                            0.3333333333333333,
                            "#9c179e"
                          ],
                          [
                            0.4444444444444444,
                            "#bd3786"
                          ],
                          [
                            0.5555555555555556,
                            "#d8576b"
                          ],
                          [
                            0.6666666666666666,
                            "#ed7953"
                          ],
                          [
                            0.7777777777777778,
                            "#fb9f3a"
                          ],
                          [
                            0.8888888888888888,
                            "#fdca26"
                          ],
                          [
                            1,
                            "#f0f921"
                          ]
                        ],
                        "type": "histogram2d"
                      }
                    ],
                    "histogram2dcontour": [
                      {
                        "colorbar": {
                          "outlinewidth": 0,
                          "ticks": ""
                        },
                        "colorscale": [
                          [
                            0,
                            "#0d0887"
                          ],
                          [
                            0.1111111111111111,
                            "#46039f"
                          ],
                          [
                            0.2222222222222222,
                            "#7201a8"
                          ],
                          [
                            0.3333333333333333,
                            "#9c179e"
                          ],
                          [
                            0.4444444444444444,
                            "#bd3786"
                          ],
                          [
                            0.5555555555555556,
                            "#d8576b"
                          ],
                          [
                            0.6666666666666666,
                            "#ed7953"
                          ],
                          [
                            0.7777777777777778,
                            "#fb9f3a"
                          ],
                          [
                            0.8888888888888888,
                            "#fdca26"
                          ],
                          [
                            1,
                            "#f0f921"
                          ]
                        ],
                        "type": "histogram2dcontour"
                      }
                    ],
                    "mesh3d": [
                      {
                        "colorbar": {
                          "outlinewidth": 0,
                          "ticks": ""
                        },
                        "type": "mesh3d"
                      }
                    ],
                    "parcoords": [
                      {
                        "line": {
                          "colorbar": {
                            "outlinewidth": 0,
                            "ticks": ""
                          }
                        },
                        "type": "parcoords"
                      }
                    ],
                    "pie": [
                      {
                        "automargin": true,
                        "type": "pie"
                      }
                    ],
                    "scatter": [
                      {
                        "fillpattern": {
                          "fillmode": "overlay",
                          "size": 10,
                          "solidity": 0.2
                        },
                        "type": "scatter"
                      }
                    ],
                    "scatter3d": [
                      {
                        "line": {
                          "colorbar": {
                            "outlinewidth": 0,
                            "ticks": ""
                          }
                        },
                        "marker": {
                          "colorbar": {
                            "outlinewidth": 0,
                            "ticks": ""
                          }
                        },
                        "type": "scatter3d"
                      }
                    ],
                    "scattercarpet": [
                      {
                        "marker": {
                          "colorbar": {
                            "outlinewidth": 0,
                            "ticks": ""
                          }
                        },
                        "type": "scattercarpet"
                      }
                    ],
                    "scattergeo": [
                      {
                        "marker": {
                          "colorbar": {
                            "outlinewidth": 0,
                            "ticks": ""
                          }
                        },
                        "type": "scattergeo"
                      }
                    ],
                    "scattergl": [
                      {
                        "marker": {
                          "colorbar": {
                            "outlinewidth": 0,
                            "ticks": ""
                          }
                        },
                        "type": "scattergl"
                      }
                    ],
                    "scattermapbox": [
                      {
                        "marker": {
                          "colorbar": {
                            "outlinewidth": 0,
                            "ticks": ""
                          }
                        },
                        "type": "scattermapbox"
                      }
                    ],
                    "scatterpolar": [
                      {
                        "marker": {
                          "colorbar": {
                            "outlinewidth": 0,
                            "ticks": ""
                          }
                        },
                        "type": "scatterpolar"
                      }
                    ],
                    "scatterpolargl": [
                      {
                        "marker": {
                          "colorbar": {
                            "outlinewidth": 0,
                            "ticks": ""
                          }
                        },
                        "type": "scatterpolargl"
                      }
                    ],
                    "scatterternary": [
                      {
                        "marker": {
                          "colorbar": {
                            "outlinewidth": 0,
                            "ticks": ""
                          }
                        },
                        "type": "scatterternary"
                      }
                    ],
                    "surface": [
                      {
                        "colorbar": {
                          "outlinewidth": 0,
                          "ticks": ""
                        },
                        "colorscale": [
                          [
                            0,
                            "#0d0887"
                          ],
                          [
                            0.1111111111111111,
                            "#46039f"
                          ],
                          [
                            0.2222222222222222,
                            "#7201a8"
                          ],
                          [
                            0.3333333333333333,
                            "#9c179e"
                          ],
                          [
                            0.4444444444444444,
                            "#bd3786"
                          ],
                          [
                            0.5555555555555556,
                            "#d8576b"
                          ],
                          [
                            0.6666666666666666,
                            "#ed7953"
                          ],
                          [
                            0.7777777777777778,
                            "#fb9f3a"
                          ],
                          [
                            0.8888888888888888,
                            "#fdca26"
                          ],
                          [
                            1,
                            "#f0f921"
                          ]
                        ],
                        "type": "surface"
                      }
                    ],
                    "table": [
                      {
                        "cells": {
                          "fill": {
                            "color": "#EBF0F8"
                          },
                          "line": {
                            "color": "white"
                          }
                        },
                        "header": {
                          "fill": {
                            "color": "#C8D4E3"
                          },
                          "line": {
                            "color": "white"
                          }
                        },
                        "type": "table"
                      }
                    ]
                  },
                  "layout": {
                    "annotationdefaults": {
                      "arrowcolor": "#2a3f5f",
                      "arrowhead": 0,
                      "arrowwidth": 1
                    },
                    "autotypenumbers": "strict",
                    "coloraxis": {
                      "colorbar": {
                        "outlinewidth": 0,
                        "ticks": ""
                      }
                    },
                    "colorscale": {
                      "diverging": [
                        [
                          0,
                          "#8e0152"
                        ],
                        [
                          0.1,
                          "#c51b7d"
                        ],
                        [
                          0.2,
                          "#de77ae"
                        ],
                        [
                          0.3,
                          "#f1b6da"
                        ],
                        [
                          0.4,
                          "#fde0ef"
                        ],
                        [
                          0.5,
                          "#f7f7f7"
                        ],
                        [
                          0.6,
                          "#e6f5d0"
                        ],
                        [
                          0.7,
                          "#b8e186"
                        ],
                        [
                          0.8,
                          "#7fbc41"
                        ],
                        [
                          0.9,
                          "#4d9221"
                        ],
                        [
                          1,
                          "#276419"
                        ]
                      ],
                      "sequential": [
                        [
                          0,
                          "#0d0887"
                        ],
                        [
                          0.1111111111111111,
                          "#46039f"
                        ],
                        [
                          0.2222222222222222,
                          "#7201a8"
                        ],
                        [
                          0.3333333333333333,
                          "#9c179e"
                        ],
                        [
                          0.4444444444444444,
                          "#bd3786"
                        ],
                        [
                          0.5555555555555556,
                          "#d8576b"
                        ],
                        [
                          0.6666666666666666,
                          "#ed7953"
                        ],
                        [
                          0.7777777777777778,
                          "#fb9f3a"
                        ],
                        [
                          0.8888888888888888,
                          "#fdca26"
                        ],
                        [
                          1,
                          "#f0f921"
                        ]
                      ],
                      "sequentialminus": [
                        [
                          0,
                          "#0d0887"
                        ],
                        [
                          0.1111111111111111,
                          "#46039f"
                        ],
                        [
                          0.2222222222222222,
                          "#7201a8"
                        ],
                        [
                          0.3333333333333333,
                          "#9c179e"
                        ],
                        [
                          0.4444444444444444,
                          "#bd3786"
                        ],
                        [
                          0.5555555555555556,
                          "#d8576b"
                        ],
                        [
                          0.6666666666666666,
                          "#ed7953"
                        ],
                        [
                          0.7777777777777778,
                          "#fb9f3a"
                        ],
                        [
                          0.8888888888888888,
                          "#fdca26"
                        ],
                        [
                          1,
                          "#f0f921"
                        ]
                      ]
                    },
                    "colorway": [
                      "#636efa",
                      "#EF553B",
                      "#00cc96",
                      "#ab63fa",
                      "#FFA15A",
                      "#19d3f3",
                      "#FF6692",
                      "#B6E880",
                      "#FF97FF",
                      "#FECB52"
                    ],
                    "font": {
                      "color": "#2a3f5f"
                    },
                    "geo": {
                      "bgcolor": "white",
                      "lakecolor": "white",
                      "landcolor": "#E5ECF6",
                      "showlakes": true,
                      "showland": true,
                      "subunitcolor": "white"
                    },
                    "hoverlabel": {
                      "align": "left"
                    },
                    "hovermode": "closest",
                    "mapbox": {
                      "style": "light"
                    },
                    "paper_bgcolor": "white",
                    "plot_bgcolor": "#E5ECF6",
                    "polar": {
                      "angularaxis": {
                        "gridcolor": "white",
                        "linecolor": "white",
                        "ticks": ""
                      },
                      "bgcolor": "#E5ECF6",
                      "radialaxis": {
                        "gridcolor": "white",
                        "linecolor": "white",
                        "ticks": ""
                      }
                    },
                    "scene": {
                      "xaxis": {
                        "backgroundcolor": "#E5ECF6",
                        "gridcolor": "white",
                        "gridwidth": 2,
                        "linecolor": "white",
                        "showbackground": true,
                        "ticks": "",
                        "zerolinecolor": "white"
                      },
                      "yaxis": {
                        "backgroundcolor": "#E5ECF6",
                        "gridcolor": "white",
                        "gridwidth": 2,
                        "linecolor": "white",
                        "showbackground": true,
                        "ticks": "",
                        "zerolinecolor": "white"
                      },
                      "zaxis": {
                        "backgroundcolor": "#E5ECF6",
                        "gridcolor": "white",
                        "gridwidth": 2,
                        "linecolor": "white",
                        "showbackground": true,
                        "ticks": "",
                        "zerolinecolor": "white"
                      }
                    },
                    "shapedefaults": {
                      "line": {
                        "color": "#2a3f5f"
                      }
                    },
                    "ternary": {
                      "aaxis": {
                        "gridcolor": "white",
                        "linecolor": "white",
                        "ticks": ""
                      },
                      "baxis": {
                        "gridcolor": "white",
                        "linecolor": "white",
                        "ticks": ""
                      },
                      "bgcolor": "#E5ECF6",
                      "caxis": {
                        "gridcolor": "white",
                        "linecolor": "white",
                        "ticks": ""
                      }
                    },
                    "title": {
                      "x": 0.05
                    },
                    "xaxis": {
                      "automargin": true,
                      "gridcolor": "white",
                      "linecolor": "white",
                      "ticks": "",
                      "title": {
                        "standoff": 15
                      },
                      "zerolinecolor": "white",
                      "zerolinewidth": 2
                    },
                    "yaxis": {
                      "automargin": true,
                      "gridcolor": "white",
                      "linecolor": "white",
                      "ticks": "",
                      "title": {
                        "standoff": 15
                      },
                      "zerolinecolor": "white",
                      "zerolinewidth": 2
                    }
                  }
                },
                "title": {
                  "text": "Wind Speed in Delhi Over the Years"
                },
                "xaxis": {
                  "anchor": "y",
                  "domain": [
                    0,
                    1
                  ],
                  "title": {
                    "text": "date"
                  }
                },
                "yaxis": {
                  "anchor": "x",
                  "domain": [
                    0,
                    1
                  ],
                  "title": {
                    "text": "wind_speed"
                  }
                }
              }
            }
          },
          "metadata": {},
          "output_type": "display_data"
        }
      ],
      "source": [
        "figure3 = px.line(data, x=\"date\", y=\"wind_speed\", title=\"Wind Speed in Delhi Over the Years\")\n",
        "figure3.show()"
      ]
    },
    {
      "cell_type": "code",
      "execution_count": 19,
      "metadata": {
        "colab": {
          "base_uri": "https://localhost:8080/",
          "height": 542
        },
        "id": "UeQNtP_5OYDC",
        "outputId": "85d47040-5182-4edd-e13a-04f1011f55f1"
      },
      "outputs": [
        {
          "data": {
            "application/vnd.plotly.v1+json": {
              "config": {
                "plotlyServerURL": "https://plot.ly"
              },
              "data": [
                {
                  "hovertemplate": "humidity=%{x}<br>meantemp=%{marker.size}<extra></extra>",
                  "legendgroup": "",
                  "marker": {
                    "color": "#636efa",
                    "size": [
                      15.91304347826087,
                      18.5,
                      17.11111111111111,
                      18.7,
                      18.38888888888889,
                      19.318181818181817,
                      14.708333333333334,
                      15.68421052631579,
                      14.571428571428571,
                      12.11111111111111,
                      11,
                      11.789473684210526,
                      13.235294117647058,
                      13.2,
                      16.434782608695652,
                      14.65,
                      11.72222222222222,
                      13.041666666666666,
                      14.61904761904762,
                      15.263157894736842,
                      15.391304347826088,
                      18.44,
                      18.11764705882353,
                      18.347826086956523,
                      21,
                      16.178571428571427,
                      16.5,
                      14.863636363636363,
                      15.666666666666666,
                      16.444444444444443,
                      16.125,
                      15.25,
                      17.09090909090909,
                      15.636363636363637,
                      18.7,
                      18.63157894736842,
                      16.88888888888889,
                      15.125,
                      15.7,
                      15.375,
                      14.666666666666666,
                      15.625,
                      16.25,
                      16.333333333333332,
                      16.875,
                      17.571428571428573,
                      20.25,
                      21.3,
                      21.125,
                      22.363636363636363,
                      23.375,
                      21.83333333333333,
                      19.125,
                      18.625,
                      19.125,
                      19,
                      18.75,
                      19.875,
                      23.33333333333333,
                      24.46153846153846,
                      23.75,
                      20.5,
                      19.125,
                      19.75,
                      20,
                      22.625,
                      21.545454545454547,
                      20.785714285714285,
                      19.9375,
                      18.53333333333333,
                      17.375,
                      17.444444444444443,
                      18,
                      19.875,
                      24,
                      20.9,
                      24.692307692307693,
                      24.666666666666668,
                      23.33333333333333,
                      25,
                      27.25,
                      28,
                      28.916666666666668,
                      26.5,
                      29.1,
                      29.5,
                      29.88888888888889,
                      31,
                      29.285714285714285,
                      30.625,
                      31.375,
                      29.75,
                      30.5,
                      30.933333333333334,
                      29.23076923076923,
                      31.22222222222222,
                      27,
                      25.625,
                      27.125,
                      27.857142857142858,
                      29.25,
                      29.25,
                      29.666666666666668,
                      30.5,
                      31.22222222222222,
                      31,
                      32.55555555555556,
                      34,
                      33.5,
                      34.5,
                      34.25,
                      32.9,
                      32.875,
                      32
                    ],
                    "sizemode": "area",
                    "sizeref": 0.08625,
                    "symbol": "circle"
                  },
                  "mode": "markers",
                  "name": "",
                  "orientation": "v",
                  "showlegend": false,
                  "type": "scatter",
                  "x": [
                    85.8695652173913,
                    77.22222222222223,
                    81.88888888888889,
                    70.05,
                    74.94444444444444,
                    79.31818181818181,
                    95.83333333333331,
                    83.52631578947368,
                    80.80952380952381,
                    71.94444444444444,
                    72.11111111111111,
                    74.57894736842105,
                    67.05882352941177,
                    74.28,
                    72.56521739130434,
                    78.45,
                    84.44444444444444,
                    78.33333333333333,
                    75.14285714285714,
                    66.47368421052632,
                    70.8695652173913,
                    76.24,
                    76,
                    68.1304347826087,
                    69.96,
                    91.64285714285714,
                    77.04166666666667,
                    82.77272727272727,
                    81.77777777777777,
                    77.55555555555556,
                    76,
                    78.625,
                    66.54545454545455,
                    78.18181818181819,
                    77.6,
                    77.63157894736842,
                    69.66666666666667,
                    63.75,
                    68.4,
                    68.375,
                    71.77777777777777,
                    64,
                    70.375,
                    67,
                    65.5,
                    67.71428571428571,
                    56.75,
                    64.4,
                    70.75,
                    66.0909090909091,
                    60.125,
                    69.41666666666667,
                    57.125,
                    42.875,
                    40.375,
                    50.42857142857143,
                    59,
                    58.375,
                    51.66666666666666,
                    47.92307692307692,
                    54.25,
                    42.5,
                    43.125,
                    41.25,
                    42.44444444444444,
                    41.5,
                    52.72727272727273,
                    69.07142857142857,
                    67.75,
                    60.4,
                    56.625,
                    49.333333333333336,
                    56.333333333333336,
                    54.75,
                    49.2,
                    59.7,
                    46.30769230769231,
                    52.27777777777778,
                    54.66666666666666,
                    49,
                    45,
                    49.75,
                    37.66666666666666,
                    39.375,
                    37.1,
                    38.625,
                    40.66666666666666,
                    34.5,
                    36.85714285714285,
                    37.625,
                    35.125,
                    33.75,
                    29.75,
                    31.866666666666667,
                    46,
                    26,
                    29.875,
                    29.375,
                    21.125,
                    19.428571428571427,
                    17.75,
                    26,
                    29.11111111111111,
                    37.625,
                    30.444444444444443,
                    34.25,
                    38.44444444444444,
                    27.33333333333333,
                    24.125,
                    27.5,
                    39.375,
                    40.9,
                    27.5,
                    27.142857142857142
                  ],
                  "xaxis": "x",
                  "y": [
                    15.91304347826087,
                    18.5,
                    17.11111111111111,
                    18.7,
                    18.38888888888889,
                    19.318181818181817,
                    14.708333333333334,
                    15.68421052631579,
                    14.571428571428571,
                    12.11111111111111,
                    11,
                    11.789473684210526,
                    13.235294117647058,
                    13.2,
                    16.434782608695652,
                    14.65,
                    11.72222222222222,
                    13.041666666666666,
                    14.61904761904762,
                    15.263157894736842,
                    15.391304347826088,
                    18.44,
                    18.11764705882353,
                    18.347826086956523,
                    21,
                    16.178571428571427,
                    16.5,
                    14.863636363636363,
                    15.666666666666666,
                    16.444444444444443,
                    16.125,
                    15.25,
                    17.09090909090909,
                    15.636363636363637,
                    18.7,
                    18.63157894736842,
                    16.88888888888889,
                    15.125,
                    15.7,
                    15.375,
                    14.666666666666666,
                    15.625,
                    16.25,
                    16.333333333333332,
                    16.875,
                    17.571428571428573,
                    20.25,
                    21.3,
                    21.125,
                    22.363636363636363,
                    23.375,
                    21.83333333333333,
                    19.125,
                    18.625,
                    19.125,
                    19,
                    18.75,
                    19.875,
                    23.33333333333333,
                    24.46153846153846,
                    23.75,
                    20.5,
                    19.125,
                    19.75,
                    20,
                    22.625,
                    21.545454545454547,
                    20.785714285714285,
                    19.9375,
                    18.53333333333333,
                    17.375,
                    17.444444444444443,
                    18,
                    19.875,
                    24,
                    20.9,
                    24.692307692307693,
                    24.666666666666668,
                    23.33333333333333,
                    25,
                    27.25,
                    28,
                    28.916666666666668,
                    26.5,
                    29.1,
                    29.5,
                    29.88888888888889,
                    31,
                    29.285714285714285,
                    30.625,
                    31.375,
                    29.75,
                    30.5,
                    30.933333333333334,
                    29.23076923076923,
                    31.22222222222222,
                    27,
                    25.625,
                    27.125,
                    27.857142857142858,
                    29.25,
                    29.25,
                    29.666666666666668,
                    30.5,
                    31.22222222222222,
                    31,
                    32.55555555555556,
                    34,
                    33.5,
                    34.5,
                    34.25,
                    32.9,
                    32.875,
                    32
                  ],
                  "yaxis": "y"
                },
                {
                  "hovertemplate": "<b>OLS trendline</b><br>meantemp = -0.286091 * humidity + 37.8081<br>R<sup>2</sup>=0.735694<br><br>humidity=%{x}<br>meantemp=%{y} <b>(trend)</b><extra></extra>",
                  "legendgroup": "",
                  "marker": {
                    "color": "#636efa",
                    "symbol": "circle"
                  },
                  "mode": "lines",
                  "name": "",
                  "showlegend": false,
                  "type": "scatter",
                  "x": [
                    17.75,
                    19.428571428571427,
                    21.125,
                    24.125,
                    26,
                    26,
                    27.142857142857142,
                    27.33333333333333,
                    27.5,
                    27.5,
                    29.11111111111111,
                    29.375,
                    29.75,
                    29.875,
                    30.444444444444443,
                    31.866666666666667,
                    33.75,
                    34.25,
                    34.5,
                    35.125,
                    36.85714285714285,
                    37.1,
                    37.625,
                    37.625,
                    37.66666666666666,
                    38.44444444444444,
                    38.625,
                    39.375,
                    39.375,
                    40.375,
                    40.66666666666666,
                    40.9,
                    41.25,
                    41.5,
                    42.44444444444444,
                    42.5,
                    42.875,
                    43.125,
                    45,
                    46,
                    46.30769230769231,
                    47.92307692307692,
                    49,
                    49.2,
                    49.333333333333336,
                    49.75,
                    50.42857142857143,
                    51.66666666666666,
                    52.27777777777778,
                    52.72727272727273,
                    54.25,
                    54.66666666666666,
                    54.75,
                    56.333333333333336,
                    56.625,
                    56.75,
                    57.125,
                    58.375,
                    59,
                    59.7,
                    60.125,
                    60.4,
                    63.75,
                    64,
                    64.4,
                    65.5,
                    66.0909090909091,
                    66.47368421052632,
                    66.54545454545455,
                    67,
                    67.05882352941177,
                    67.71428571428571,
                    67.75,
                    68.1304347826087,
                    68.375,
                    68.4,
                    69.07142857142857,
                    69.41666666666667,
                    69.66666666666667,
                    69.96,
                    70.05,
                    70.375,
                    70.75,
                    70.8695652173913,
                    71.77777777777777,
                    71.94444444444444,
                    72.11111111111111,
                    72.56521739130434,
                    74.28,
                    74.57894736842105,
                    74.94444444444444,
                    75.14285714285714,
                    76,
                    76,
                    76.24,
                    77.04166666666667,
                    77.22222222222223,
                    77.55555555555556,
                    77.6,
                    77.63157894736842,
                    78.18181818181819,
                    78.33333333333333,
                    78.45,
                    78.625,
                    79.31818181818181,
                    80.80952380952381,
                    81.77777777777777,
                    81.88888888888889,
                    82.77272727272727,
                    83.52631578947368,
                    84.44444444444444,
                    85.8695652173913,
                    91.64285714285714,
                    95.83333333333331
                  ],
                  "xaxis": "x",
                  "y": [
                    32.7299615933519,
                    32.24973798464117,
                    31.76440561413565,
                    30.906133632610093,
                    30.36971364415662,
                    30.36971364415662,
                    30.04275288928974,
                    29.988259430145263,
                    29.94057765339384,
                    29.94057765339384,
                    29.47965381146345,
                    29.40415766494037,
                    29.296873667249674,
                    29.26111233468611,
                    29.098199597452094,
                    28.691315102506643,
                    28.152511025215595,
                    28.00946569496134,
                    27.93794302983421,
                    27.759136367016385,
                    27.263586472921276,
                    27.19410731251206,
                    27.043909715745087,
                    27.043909715745087,
                    27.031989271557237,
                    26.809474313383937,
                    26.757819055236567,
                    26.54325105985518,
                    26.54325105985518,
                    26.25716039934666,
                    26.173717290031675,
                    26.106962802579687,
                    26.006831071401706,
                    25.935308406274576,
                    25.665111671349862,
                    25.64921774576606,
                    25.541933748075362,
                    25.47041108294823,
                    24.933991094494758,
                    24.647900433986237,
                    24.559872538445155,
                    24.097726086854472,
                    23.789628452460683,
                    23.73241032035898,
                    23.69426489895784,
                    23.575060457079292,
                    23.380927508877082,
                    23.026720024437967,
                    22.85188684301609,
                    22.72329053601984,
                    22.287652484790957,
                    22.16844804291241,
                    22.144607154536697,
                    21.691630275398207,
                    21.608187166083226,
                    21.57242583351966,
                    21.465141835828966,
                    21.107528510193315,
                    20.928721847375492,
                    20.72845838501953,
                    20.606869854303408,
                    20.528194922663566,
                    19.569791209960027,
                    19.498268544832897,
                    19.383832280629488,
                    19.06913255407012,
                    18.900078981951445,
                    18.790570595153927,
                    18.770037772629394,
                    18.63999656330734,
                    18.623167700924483,
                    18.43564609151554,
                    18.42542856792595,
                    18.31658972968901,
                    18.246621905108125,
                    18.239469638595413,
                    18.04738019511112,
                    17.94861080041175,
                    17.87708813528462,
                    17.793168208202125,
                    17.767420048756357,
                    17.674440584091087,
                    17.567156586400394,
                    17.53295009438307,
                    17.27311896309997,
                    17.22543718634855,
                    17.17775540959713,
                    17.047839843955582,
                    16.55725655480532,
                    16.471730504716458,
                    16.367165204822992,
                    16.310401184880828,
                    16.06518061873067,
                    16.06518061873067,
                    15.996518860208624,
                    15.767169514034293,
                    15.71551425588692,
                    15.62015070238408,
                    15.60743556191704,
                    15.59840112000624,
                    15.440982813984807,
                    15.397635744210792,
                    15.364258500484794,
                    15.314192634895804,
                    15.115879790679674,
                    14.68922077533255,
                    14.41221235801478,
                    14.380424506847167,
                    14.127566599832065,
                    13.911971963324444,
                    13.649303929992062,
                    13.241590186755285,
                    11.589905286490264,
                    10.391049185311712
                  ],
                  "yaxis": "y"
                }
              ],
              "layout": {
                "legend": {
                  "itemsizing": "constant",
                  "tracegroupgap": 0
                },
                "template": {
                  "data": {
                    "bar": [
                      {
                        "error_x": {
                          "color": "#2a3f5f"
                        },
                        "error_y": {
                          "color": "#2a3f5f"
                        },
                        "marker": {
                          "line": {
                            "color": "#E5ECF6",
                            "width": 0.5
                          },
                          "pattern": {
                            "fillmode": "overlay",
                            "size": 10,
                            "solidity": 0.2
                          }
                        },
                        "type": "bar"
                      }
                    ],
                    "barpolar": [
                      {
                        "marker": {
                          "line": {
                            "color": "#E5ECF6",
                            "width": 0.5
                          },
                          "pattern": {
                            "fillmode": "overlay",
                            "size": 10,
                            "solidity": 0.2
                          }
                        },
                        "type": "barpolar"
                      }
                    ],
                    "carpet": [
                      {
                        "aaxis": {
                          "endlinecolor": "#2a3f5f",
                          "gridcolor": "white",
                          "linecolor": "white",
                          "minorgridcolor": "white",
                          "startlinecolor": "#2a3f5f"
                        },
                        "baxis": {
                          "endlinecolor": "#2a3f5f",
                          "gridcolor": "white",
                          "linecolor": "white",
                          "minorgridcolor": "white",
                          "startlinecolor": "#2a3f5f"
                        },
                        "type": "carpet"
                      }
                    ],
                    "choropleth": [
                      {
                        "colorbar": {
                          "outlinewidth": 0,
                          "ticks": ""
                        },
                        "type": "choropleth"
                      }
                    ],
                    "contour": [
                      {
                        "colorbar": {
                          "outlinewidth": 0,
                          "ticks": ""
                        },
                        "colorscale": [
                          [
                            0,
                            "#0d0887"
                          ],
                          [
                            0.1111111111111111,
                            "#46039f"
                          ],
                          [
                            0.2222222222222222,
                            "#7201a8"
                          ],
                          [
                            0.3333333333333333,
                            "#9c179e"
                          ],
                          [
                            0.4444444444444444,
                            "#bd3786"
                          ],
                          [
                            0.5555555555555556,
                            "#d8576b"
                          ],
                          [
                            0.6666666666666666,
                            "#ed7953"
                          ],
                          [
                            0.7777777777777778,
                            "#fb9f3a"
                          ],
                          [
                            0.8888888888888888,
                            "#fdca26"
                          ],
                          [
                            1,
                            "#f0f921"
                          ]
                        ],
                        "type": "contour"
                      }
                    ],
                    "contourcarpet": [
                      {
                        "colorbar": {
                          "outlinewidth": 0,
                          "ticks": ""
                        },
                        "type": "contourcarpet"
                      }
                    ],
                    "heatmap": [
                      {
                        "colorbar": {
                          "outlinewidth": 0,
                          "ticks": ""
                        },
                        "colorscale": [
                          [
                            0,
                            "#0d0887"
                          ],
                          [
                            0.1111111111111111,
                            "#46039f"
                          ],
                          [
                            0.2222222222222222,
                            "#7201a8"
                          ],
                          [
                            0.3333333333333333,
                            "#9c179e"
                          ],
                          [
                            0.4444444444444444,
                            "#bd3786"
                          ],
                          [
                            0.5555555555555556,
                            "#d8576b"
                          ],
                          [
                            0.6666666666666666,
                            "#ed7953"
                          ],
                          [
                            0.7777777777777778,
                            "#fb9f3a"
                          ],
                          [
                            0.8888888888888888,
                            "#fdca26"
                          ],
                          [
                            1,
                            "#f0f921"
                          ]
                        ],
                        "type": "heatmap"
                      }
                    ],
                    "heatmapgl": [
                      {
                        "colorbar": {
                          "outlinewidth": 0,
                          "ticks": ""
                        },
                        "colorscale": [
                          [
                            0,
                            "#0d0887"
                          ],
                          [
                            0.1111111111111111,
                            "#46039f"
                          ],
                          [
                            0.2222222222222222,
                            "#7201a8"
                          ],
                          [
                            0.3333333333333333,
                            "#9c179e"
                          ],
                          [
                            0.4444444444444444,
                            "#bd3786"
                          ],
                          [
                            0.5555555555555556,
                            "#d8576b"
                          ],
                          [
                            0.6666666666666666,
                            "#ed7953"
                          ],
                          [
                            0.7777777777777778,
                            "#fb9f3a"
                          ],
                          [
                            0.8888888888888888,
                            "#fdca26"
                          ],
                          [
                            1,
                            "#f0f921"
                          ]
                        ],
                        "type": "heatmapgl"
                      }
                    ],
                    "histogram": [
                      {
                        "marker": {
                          "pattern": {
                            "fillmode": "overlay",
                            "size": 10,
                            "solidity": 0.2
                          }
                        },
                        "type": "histogram"
                      }
                    ],
                    "histogram2d": [
                      {
                        "colorbar": {
                          "outlinewidth": 0,
                          "ticks": ""
                        },
                        "colorscale": [
                          [
                            0,
                            "#0d0887"
                          ],
                          [
                            0.1111111111111111,
                            "#46039f"
                          ],
                          [
                            0.2222222222222222,
                            "#7201a8"
                          ],
                          [
                            0.3333333333333333,
                            "#9c179e"
                          ],
                          [
                            0.4444444444444444,
                            "#bd3786"
                          ],
                          [
                            0.5555555555555556,
                            "#d8576b"
                          ],
                          [
                            0.6666666666666666,
                            "#ed7953"
                          ],
                          [
                            0.7777777777777778,
                            "#fb9f3a"
                          ],
                          [
                            0.8888888888888888,
                            "#fdca26"
                          ],
                          [
                            1,
                            "#f0f921"
                          ]
                        ],
                        "type": "histogram2d"
                      }
                    ],
                    "histogram2dcontour": [
                      {
                        "colorbar": {
                          "outlinewidth": 0,
                          "ticks": ""
                        },
                        "colorscale": [
                          [
                            0,
                            "#0d0887"
                          ],
                          [
                            0.1111111111111111,
                            "#46039f"
                          ],
                          [
                            0.2222222222222222,
                            "#7201a8"
                          ],
                          [
                            0.3333333333333333,
                            "#9c179e"
                          ],
                          [
                            0.4444444444444444,
                            "#bd3786"
                          ],
                          [
                            0.5555555555555556,
                            "#d8576b"
                          ],
                          [
                            0.6666666666666666,
                            "#ed7953"
                          ],
                          [
                            0.7777777777777778,
                            "#fb9f3a"
                          ],
                          [
                            0.8888888888888888,
                            "#fdca26"
                          ],
                          [
                            1,
                            "#f0f921"
                          ]
                        ],
                        "type": "histogram2dcontour"
                      }
                    ],
                    "mesh3d": [
                      {
                        "colorbar": {
                          "outlinewidth": 0,
                          "ticks": ""
                        },
                        "type": "mesh3d"
                      }
                    ],
                    "parcoords": [
                      {
                        "line": {
                          "colorbar": {
                            "outlinewidth": 0,
                            "ticks": ""
                          }
                        },
                        "type": "parcoords"
                      }
                    ],
                    "pie": [
                      {
                        "automargin": true,
                        "type": "pie"
                      }
                    ],
                    "scatter": [
                      {
                        "fillpattern": {
                          "fillmode": "overlay",
                          "size": 10,
                          "solidity": 0.2
                        },
                        "type": "scatter"
                      }
                    ],
                    "scatter3d": [
                      {
                        "line": {
                          "colorbar": {
                            "outlinewidth": 0,
                            "ticks": ""
                          }
                        },
                        "marker": {
                          "colorbar": {
                            "outlinewidth": 0,
                            "ticks": ""
                          }
                        },
                        "type": "scatter3d"
                      }
                    ],
                    "scattercarpet": [
                      {
                        "marker": {
                          "colorbar": {
                            "outlinewidth": 0,
                            "ticks": ""
                          }
                        },
                        "type": "scattercarpet"
                      }
                    ],
                    "scattergeo": [
                      {
                        "marker": {
                          "colorbar": {
                            "outlinewidth": 0,
                            "ticks": ""
                          }
                        },
                        "type": "scattergeo"
                      }
                    ],
                    "scattergl": [
                      {
                        "marker": {
                          "colorbar": {
                            "outlinewidth": 0,
                            "ticks": ""
                          }
                        },
                        "type": "scattergl"
                      }
                    ],
                    "scattermapbox": [
                      {
                        "marker": {
                          "colorbar": {
                            "outlinewidth": 0,
                            "ticks": ""
                          }
                        },
                        "type": "scattermapbox"
                      }
                    ],
                    "scatterpolar": [
                      {
                        "marker": {
                          "colorbar": {
                            "outlinewidth": 0,
                            "ticks": ""
                          }
                        },
                        "type": "scatterpolar"
                      }
                    ],
                    "scatterpolargl": [
                      {
                        "marker": {
                          "colorbar": {
                            "outlinewidth": 0,
                            "ticks": ""
                          }
                        },
                        "type": "scatterpolargl"
                      }
                    ],
                    "scatterternary": [
                      {
                        "marker": {
                          "colorbar": {
                            "outlinewidth": 0,
                            "ticks": ""
                          }
                        },
                        "type": "scatterternary"
                      }
                    ],
                    "surface": [
                      {
                        "colorbar": {
                          "outlinewidth": 0,
                          "ticks": ""
                        },
                        "colorscale": [
                          [
                            0,
                            "#0d0887"
                          ],
                          [
                            0.1111111111111111,
                            "#46039f"
                          ],
                          [
                            0.2222222222222222,
                            "#7201a8"
                          ],
                          [
                            0.3333333333333333,
                            "#9c179e"
                          ],
                          [
                            0.4444444444444444,
                            "#bd3786"
                          ],
                          [
                            0.5555555555555556,
                            "#d8576b"
                          ],
                          [
                            0.6666666666666666,
                            "#ed7953"
                          ],
                          [
                            0.7777777777777778,
                            "#fb9f3a"
                          ],
                          [
                            0.8888888888888888,
                            "#fdca26"
                          ],
                          [
                            1,
                            "#f0f921"
                          ]
                        ],
                        "type": "surface"
                      }
                    ],
                    "table": [
                      {
                        "cells": {
                          "fill": {
                            "color": "#EBF0F8"
                          },
                          "line": {
                            "color": "white"
                          }
                        },
                        "header": {
                          "fill": {
                            "color": "#C8D4E3"
                          },
                          "line": {
                            "color": "white"
                          }
                        },
                        "type": "table"
                      }
                    ]
                  },
                  "layout": {
                    "annotationdefaults": {
                      "arrowcolor": "#2a3f5f",
                      "arrowhead": 0,
                      "arrowwidth": 1
                    },
                    "autotypenumbers": "strict",
                    "coloraxis": {
                      "colorbar": {
                        "outlinewidth": 0,
                        "ticks": ""
                      }
                    },
                    "colorscale": {
                      "diverging": [
                        [
                          0,
                          "#8e0152"
                        ],
                        [
                          0.1,
                          "#c51b7d"
                        ],
                        [
                          0.2,
                          "#de77ae"
                        ],
                        [
                          0.3,
                          "#f1b6da"
                        ],
                        [
                          0.4,
                          "#fde0ef"
                        ],
                        [
                          0.5,
                          "#f7f7f7"
                        ],
                        [
                          0.6,
                          "#e6f5d0"
                        ],
                        [
                          0.7,
                          "#b8e186"
                        ],
                        [
                          0.8,
                          "#7fbc41"
                        ],
                        [
                          0.9,
                          "#4d9221"
                        ],
                        [
                          1,
                          "#276419"
                        ]
                      ],
                      "sequential": [
                        [
                          0,
                          "#0d0887"
                        ],
                        [
                          0.1111111111111111,
                          "#46039f"
                        ],
                        [
                          0.2222222222222222,
                          "#7201a8"
                        ],
                        [
                          0.3333333333333333,
                          "#9c179e"
                        ],
                        [
                          0.4444444444444444,
                          "#bd3786"
                        ],
                        [
                          0.5555555555555556,
                          "#d8576b"
                        ],
                        [
                          0.6666666666666666,
                          "#ed7953"
                        ],
                        [
                          0.7777777777777778,
                          "#fb9f3a"
                        ],
                        [
                          0.8888888888888888,
                          "#fdca26"
                        ],
                        [
                          1,
                          "#f0f921"
                        ]
                      ],
                      "sequentialminus": [
                        [
                          0,
                          "#0d0887"
                        ],
                        [
                          0.1111111111111111,
                          "#46039f"
                        ],
                        [
                          0.2222222222222222,
                          "#7201a8"
                        ],
                        [
                          0.3333333333333333,
                          "#9c179e"
                        ],
                        [
                          0.4444444444444444,
                          "#bd3786"
                        ],
                        [
                          0.5555555555555556,
                          "#d8576b"
                        ],
                        [
                          0.6666666666666666,
                          "#ed7953"
                        ],
                        [
                          0.7777777777777778,
                          "#fb9f3a"
                        ],
                        [
                          0.8888888888888888,
                          "#fdca26"
                        ],
                        [
                          1,
                          "#f0f921"
                        ]
                      ]
                    },
                    "colorway": [
                      "#636efa",
                      "#EF553B",
                      "#00cc96",
                      "#ab63fa",
                      "#FFA15A",
                      "#19d3f3",
                      "#FF6692",
                      "#B6E880",
                      "#FF97FF",
                      "#FECB52"
                    ],
                    "font": {
                      "color": "#2a3f5f"
                    },
                    "geo": {
                      "bgcolor": "white",
                      "lakecolor": "white",
                      "landcolor": "#E5ECF6",
                      "showlakes": true,
                      "showland": true,
                      "subunitcolor": "white"
                    },
                    "hoverlabel": {
                      "align": "left"
                    },
                    "hovermode": "closest",
                    "mapbox": {
                      "style": "light"
                    },
                    "paper_bgcolor": "white",
                    "plot_bgcolor": "#E5ECF6",
                    "polar": {
                      "angularaxis": {
                        "gridcolor": "white",
                        "linecolor": "white",
                        "ticks": ""
                      },
                      "bgcolor": "#E5ECF6",
                      "radialaxis": {
                        "gridcolor": "white",
                        "linecolor": "white",
                        "ticks": ""
                      }
                    },
                    "scene": {
                      "xaxis": {
                        "backgroundcolor": "#E5ECF6",
                        "gridcolor": "white",
                        "gridwidth": 2,
                        "linecolor": "white",
                        "showbackground": true,
                        "ticks": "",
                        "zerolinecolor": "white"
                      },
                      "yaxis": {
                        "backgroundcolor": "#E5ECF6",
                        "gridcolor": "white",
                        "gridwidth": 2,
                        "linecolor": "white",
                        "showbackground": true,
                        "ticks": "",
                        "zerolinecolor": "white"
                      },
                      "zaxis": {
                        "backgroundcolor": "#E5ECF6",
                        "gridcolor": "white",
                        "gridwidth": 2,
                        "linecolor": "white",
                        "showbackground": true,
                        "ticks": "",
                        "zerolinecolor": "white"
                      }
                    },
                    "shapedefaults": {
                      "line": {
                        "color": "#2a3f5f"
                      }
                    },
                    "ternary": {
                      "aaxis": {
                        "gridcolor": "white",
                        "linecolor": "white",
                        "ticks": ""
                      },
                      "baxis": {
                        "gridcolor": "white",
                        "linecolor": "white",
                        "ticks": ""
                      },
                      "bgcolor": "#E5ECF6",
                      "caxis": {
                        "gridcolor": "white",
                        "linecolor": "white",
                        "ticks": ""
                      }
                    },
                    "title": {
                      "x": 0.05
                    },
                    "xaxis": {
                      "automargin": true,
                      "gridcolor": "white",
                      "linecolor": "white",
                      "ticks": "",
                      "title": {
                        "standoff": 15
                      },
                      "zerolinecolor": "white",
                      "zerolinewidth": 2
                    },
                    "yaxis": {
                      "automargin": true,
                      "gridcolor": "white",
                      "linecolor": "white",
                      "ticks": "",
                      "title": {
                        "standoff": 15
                      },
                      "zerolinecolor": "white",
                      "zerolinewidth": 2
                    }
                  }
                },
                "title": {
                  "text": "Relationship between humidity and meantemp"
                },
                "xaxis": {
                  "anchor": "y",
                  "domain": [
                    0,
                    1
                  ],
                  "title": {
                    "text": "humidity"
                  }
                },
                "yaxis": {
                  "anchor": "x",
                  "domain": [
                    0,
                    1
                  ],
                  "title": {
                    "text": "meantemp"
                  }
                }
              }
            }
          },
          "metadata": {},
          "output_type": "display_data"
        }
      ],
      "source": [
        "figure4 = px.scatter(data, x=\"humidity\", y=\"meantemp\", size=\"meantemp\", trendline=\"ols\", title=\"Relationship between humidity and meantemp\")\n",
        "figure4.show()"
      ]
    },
    {
      "cell_type": "markdown",
      "metadata": {
        "id": "cvgx2cbyPD8d"
      },
      "source": [
        "Analyzing Temperature change"
      ]
    },
    {
      "cell_type": "code",
      "execution_count": 18,
      "metadata": {
        "colab": {
          "base_uri": "https://localhost:8080/",
          "height": 206
        },
        "id": "H7ylJfvXOt5A",
        "outputId": "0206c51c-41cf-4cea-f98b-75c3fdf232ca"
      },
      "outputs": [
        {
          "data": {
            "application/vnd.google.colaboratory.intrinsic+json": {
              "summary": "{\n  \"name\": \"data\",\n  \"rows\": 114,\n  \"fields\": [\n    {\n      \"column\": \"date\",\n      \"properties\": {\n        \"dtype\": \"date\",\n        \"min\": \"2017-01-01 00:00:00\",\n        \"max\": \"2017-04-24 00:00:00\",\n        \"num_unique_values\": 114,\n        \"samples\": [\n          \"2017-03-22 00:00:00\",\n          \"2017-01-05 00:00:00\",\n          \"2017-02-10 00:00:00\"\n        ],\n        \"semantic_type\": \"\",\n        \"description\": \"\"\n      }\n    },\n    {\n      \"column\": \"meantemp\",\n      \"properties\": {\n        \"dtype\": \"number\",\n        \"std\": 6.360071848767035,\n        \"min\": 11.0,\n        \"max\": 34.5,\n        \"num_unique_values\": 105,\n        \"samples\": [\n          16.125,\n          19.9375,\n          20.785714285714285\n        ],\n        \"semantic_type\": \"\",\n        \"description\": \"\"\n      }\n    },\n    {\n      \"column\": \"humidity\",\n      \"properties\": {\n        \"dtype\": \"number\",\n        \"std\": 19.068082852306674,\n        \"min\": 17.75,\n        \"max\": 95.83333333333331,\n        \"num_unique_values\": 109,\n        \"samples\": [\n          49.0,\n          72.11111111111111,\n          74.94444444444444\n        ],\n        \"semantic_type\": \"\",\n        \"description\": \"\"\n      }\n    },\n    {\n      \"column\": \"wind_speed\",\n      \"properties\": {\n        \"dtype\": \"number\",\n        \"std\": 3.5880494654730275,\n        \"min\": 1.3875000000000002,\n        \"max\": 19.314285714285717,\n        \"num_unique_values\": 109,\n        \"samples\": [\n          10.187500000000002,\n          9.77222222222222,\n          3.3000000000000003\n        ],\n        \"semantic_type\": \"\",\n        \"description\": \"\"\n      }\n    },\n    {\n      \"column\": \"meanpressure\",\n      \"properties\": {\n        \"dtype\": \"number\",\n        \"std\": 89.47469204777894,\n        \"min\": 59.0,\n        \"max\": 1022.809523809524,\n        \"num_unique_values\": 109,\n        \"samples\": [\n          1011.75,\n          1016.7777777777778,\n          1014.3333333333334\n        ],\n        \"semantic_type\": \"\",\n        \"description\": \"\"\n      }\n    },\n    {\n      \"column\": \"year\",\n      \"properties\": {\n        \"dtype\": \"int32\",\n        \"num_unique_values\": 1,\n        \"samples\": [\n          2017\n        ],\n        \"semantic_type\": \"\",\n        \"description\": \"\"\n      }\n    },\n    {\n      \"column\": \"month\",\n      \"properties\": {\n        \"dtype\": \"int32\",\n        \"num_unique_values\": 4,\n        \"samples\": [\n          2\n        ],\n        \"semantic_type\": \"\",\n        \"description\": \"\"\n      }\n    }\n  ]\n}",
              "type": "dataframe",
              "variable_name": "data"
            },
            "text/html": [
              "\n",
              "  <div id=\"df-9f2c3866-2e3f-4d2a-a5d7-a8d889070e8c\" class=\"colab-df-container\">\n",
              "    <div>\n",
              "<style scoped>\n",
              "    .dataframe tbody tr th:only-of-type {\n",
              "        vertical-align: middle;\n",
              "    }\n",
              "\n",
              "    .dataframe tbody tr th {\n",
              "        vertical-align: top;\n",
              "    }\n",
              "\n",
              "    .dataframe thead th {\n",
              "        text-align: right;\n",
              "    }\n",
              "</style>\n",
              "<table border=\"1\" class=\"dataframe\">\n",
              "  <thead>\n",
              "    <tr style=\"text-align: right;\">\n",
              "      <th></th>\n",
              "      <th>date</th>\n",
              "      <th>meantemp</th>\n",
              "      <th>humidity</th>\n",
              "      <th>wind_speed</th>\n",
              "      <th>meanpressure</th>\n",
              "      <th>year</th>\n",
              "      <th>month</th>\n",
              "    </tr>\n",
              "  </thead>\n",
              "  <tbody>\n",
              "    <tr>\n",
              "      <th>0</th>\n",
              "      <td>2017-01-01</td>\n",
              "      <td>15.913043</td>\n",
              "      <td>85.869565</td>\n",
              "      <td>2.743478</td>\n",
              "      <td>59.000000</td>\n",
              "      <td>2017</td>\n",
              "      <td>1</td>\n",
              "    </tr>\n",
              "    <tr>\n",
              "      <th>1</th>\n",
              "      <td>2017-01-02</td>\n",
              "      <td>18.500000</td>\n",
              "      <td>77.222222</td>\n",
              "      <td>2.894444</td>\n",
              "      <td>1018.277778</td>\n",
              "      <td>2017</td>\n",
              "      <td>1</td>\n",
              "    </tr>\n",
              "    <tr>\n",
              "      <th>2</th>\n",
              "      <td>2017-01-03</td>\n",
              "      <td>17.111111</td>\n",
              "      <td>81.888889</td>\n",
              "      <td>4.016667</td>\n",
              "      <td>1018.333333</td>\n",
              "      <td>2017</td>\n",
              "      <td>1</td>\n",
              "    </tr>\n",
              "    <tr>\n",
              "      <th>3</th>\n",
              "      <td>2017-01-04</td>\n",
              "      <td>18.700000</td>\n",
              "      <td>70.050000</td>\n",
              "      <td>4.545000</td>\n",
              "      <td>1015.700000</td>\n",
              "      <td>2017</td>\n",
              "      <td>1</td>\n",
              "    </tr>\n",
              "    <tr>\n",
              "      <th>4</th>\n",
              "      <td>2017-01-05</td>\n",
              "      <td>18.388889</td>\n",
              "      <td>74.944444</td>\n",
              "      <td>3.300000</td>\n",
              "      <td>1014.333333</td>\n",
              "      <td>2017</td>\n",
              "      <td>1</td>\n",
              "    </tr>\n",
              "  </tbody>\n",
              "</table>\n",
              "</div>\n",
              "    <div class=\"colab-df-buttons\">\n",
              "\n",
              "  <div class=\"colab-df-container\">\n",
              "    <button class=\"colab-df-convert\" onclick=\"convertToInteractive('df-9f2c3866-2e3f-4d2a-a5d7-a8d889070e8c')\"\n",
              "            title=\"Convert this dataframe to an interactive table.\"\n",
              "            style=\"display:none;\">\n",
              "\n",
              "  <svg xmlns=\"http://www.w3.org/2000/svg\" height=\"24px\" viewBox=\"0 -960 960 960\">\n",
              "    <path d=\"M120-120v-720h720v720H120Zm60-500h600v-160H180v160Zm220 220h160v-160H400v160Zm0 220h160v-160H400v160ZM180-400h160v-160H180v160Zm440 0h160v-160H620v160ZM180-180h160v-160H180v160Zm440 0h160v-160H620v160Z\"/>\n",
              "  </svg>\n",
              "    </button>\n",
              "\n",
              "  <style>\n",
              "    .colab-df-container {\n",
              "      display:flex;\n",
              "      gap: 12px;\n",
              "    }\n",
              "\n",
              "    .colab-df-convert {\n",
              "      background-color: #E8F0FE;\n",
              "      border: none;\n",
              "      border-radius: 50%;\n",
              "      cursor: pointer;\n",
              "      display: none;\n",
              "      fill: #1967D2;\n",
              "      height: 32px;\n",
              "      padding: 0 0 0 0;\n",
              "      width: 32px;\n",
              "    }\n",
              "\n",
              "    .colab-df-convert:hover {\n",
              "      background-color: #E2EBFA;\n",
              "      box-shadow: 0px 1px 2px rgba(60, 64, 67, 0.3), 0px 1px 3px 1px rgba(60, 64, 67, 0.15);\n",
              "      fill: #174EA6;\n",
              "    }\n",
              "\n",
              "    .colab-df-buttons div {\n",
              "      margin-bottom: 4px;\n",
              "    }\n",
              "\n",
              "    [theme=dark] .colab-df-convert {\n",
              "      background-color: #3B4455;\n",
              "      fill: #D2E3FC;\n",
              "    }\n",
              "\n",
              "    [theme=dark] .colab-df-convert:hover {\n",
              "      background-color: #434B5C;\n",
              "      box-shadow: 0px 1px 3px 1px rgba(0, 0, 0, 0.15);\n",
              "      filter: drop-shadow(0px 1px 2px rgba(0, 0, 0, 0.3));\n",
              "      fill: #FFFFFF;\n",
              "    }\n",
              "  </style>\n",
              "\n",
              "    <script>\n",
              "      const buttonEl =\n",
              "        document.querySelector('#df-9f2c3866-2e3f-4d2a-a5d7-a8d889070e8c button.colab-df-convert');\n",
              "      buttonEl.style.display =\n",
              "        google.colab.kernel.accessAllowed ? 'block' : 'none';\n",
              "\n",
              "      async function convertToInteractive(key) {\n",
              "        const element = document.querySelector('#df-9f2c3866-2e3f-4d2a-a5d7-a8d889070e8c');\n",
              "        const dataTable =\n",
              "          await google.colab.kernel.invokeFunction('convertToInteractive',\n",
              "                                                    [key], {});\n",
              "        if (!dataTable) return;\n",
              "\n",
              "        const docLinkHtml = 'Like what you see? Visit the ' +\n",
              "          '<a target=\"_blank\" href=https://colab.research.google.com/notebooks/data_table.ipynb>data table notebook</a>'\n",
              "          + ' to learn more about interactive tables.';\n",
              "        element.innerHTML = '';\n",
              "        dataTable['output_type'] = 'display_data';\n",
              "        await google.colab.output.renderOutput(dataTable, element);\n",
              "        const docLink = document.createElement('div');\n",
              "        docLink.innerHTML = docLinkHtml;\n",
              "        element.appendChild(docLink);\n",
              "      }\n",
              "    </script>\n",
              "  </div>\n",
              "\n",
              "\n",
              "<div id=\"df-9e3ef8c1-07b4-4e98-ba49-505a1086912f\">\n",
              "  <button class=\"colab-df-quickchart\" onclick=\"quickchart('df-9e3ef8c1-07b4-4e98-ba49-505a1086912f')\"\n",
              "            title=\"Suggest charts\"\n",
              "            style=\"display:none;\">\n",
              "\n",
              "<svg xmlns=\"http://www.w3.org/2000/svg\" height=\"24px\"viewBox=\"0 0 24 24\"\n",
              "     width=\"24px\">\n",
              "    <g>\n",
              "        <path d=\"M19 3H5c-1.1 0-2 .9-2 2v14c0 1.1.9 2 2 2h14c1.1 0 2-.9 2-2V5c0-1.1-.9-2-2-2zM9 17H7v-7h2v7zm4 0h-2V7h2v10zm4 0h-2v-4h2v4z\"/>\n",
              "    </g>\n",
              "</svg>\n",
              "  </button>\n",
              "\n",
              "<style>\n",
              "  .colab-df-quickchart {\n",
              "      --bg-color: #E8F0FE;\n",
              "      --fill-color: #1967D2;\n",
              "      --hover-bg-color: #E2EBFA;\n",
              "      --hover-fill-color: #174EA6;\n",
              "      --disabled-fill-color: #AAA;\n",
              "      --disabled-bg-color: #DDD;\n",
              "  }\n",
              "\n",
              "  [theme=dark] .colab-df-quickchart {\n",
              "      --bg-color: #3B4455;\n",
              "      --fill-color: #D2E3FC;\n",
              "      --hover-bg-color: #434B5C;\n",
              "      --hover-fill-color: #FFFFFF;\n",
              "      --disabled-bg-color: #3B4455;\n",
              "      --disabled-fill-color: #666;\n",
              "  }\n",
              "\n",
              "  .colab-df-quickchart {\n",
              "    background-color: var(--bg-color);\n",
              "    border: none;\n",
              "    border-radius: 50%;\n",
              "    cursor: pointer;\n",
              "    display: none;\n",
              "    fill: var(--fill-color);\n",
              "    height: 32px;\n",
              "    padding: 0;\n",
              "    width: 32px;\n",
              "  }\n",
              "\n",
              "  .colab-df-quickchart:hover {\n",
              "    background-color: var(--hover-bg-color);\n",
              "    box-shadow: 0 1px 2px rgba(60, 64, 67, 0.3), 0 1px 3px 1px rgba(60, 64, 67, 0.15);\n",
              "    fill: var(--button-hover-fill-color);\n",
              "  }\n",
              "\n",
              "  .colab-df-quickchart-complete:disabled,\n",
              "  .colab-df-quickchart-complete:disabled:hover {\n",
              "    background-color: var(--disabled-bg-color);\n",
              "    fill: var(--disabled-fill-color);\n",
              "    box-shadow: none;\n",
              "  }\n",
              "\n",
              "  .colab-df-spinner {\n",
              "    border: 2px solid var(--fill-color);\n",
              "    border-color: transparent;\n",
              "    border-bottom-color: var(--fill-color);\n",
              "    animation:\n",
              "      spin 1s steps(1) infinite;\n",
              "  }\n",
              "\n",
              "  @keyframes spin {\n",
              "    0% {\n",
              "      border-color: transparent;\n",
              "      border-bottom-color: var(--fill-color);\n",
              "      border-left-color: var(--fill-color);\n",
              "    }\n",
              "    20% {\n",
              "      border-color: transparent;\n",
              "      border-left-color: var(--fill-color);\n",
              "      border-top-color: var(--fill-color);\n",
              "    }\n",
              "    30% {\n",
              "      border-color: transparent;\n",
              "      border-left-color: var(--fill-color);\n",
              "      border-top-color: var(--fill-color);\n",
              "      border-right-color: var(--fill-color);\n",
              "    }\n",
              "    40% {\n",
              "      border-color: transparent;\n",
              "      border-right-color: var(--fill-color);\n",
              "      border-top-color: var(--fill-color);\n",
              "    }\n",
              "    60% {\n",
              "      border-color: transparent;\n",
              "      border-right-color: var(--fill-color);\n",
              "    }\n",
              "    80% {\n",
              "      border-color: transparent;\n",
              "      border-right-color: var(--fill-color);\n",
              "      border-bottom-color: var(--fill-color);\n",
              "    }\n",
              "    90% {\n",
              "      border-color: transparent;\n",
              "      border-bottom-color: var(--fill-color);\n",
              "    }\n",
              "  }\n",
              "</style>\n",
              "\n",
              "  <script>\n",
              "    async function quickchart(key) {\n",
              "      const quickchartButtonEl =\n",
              "        document.querySelector('#' + key + ' button');\n",
              "      quickchartButtonEl.disabled = true;  // To prevent multiple clicks.\n",
              "      quickchartButtonEl.classList.add('colab-df-spinner');\n",
              "      try {\n",
              "        const charts = await google.colab.kernel.invokeFunction(\n",
              "            'suggestCharts', [key], {});\n",
              "      } catch (error) {\n",
              "        console.error('Error during call to suggestCharts:', error);\n",
              "      }\n",
              "      quickchartButtonEl.classList.remove('colab-df-spinner');\n",
              "      quickchartButtonEl.classList.add('colab-df-quickchart-complete');\n",
              "    }\n",
              "    (() => {\n",
              "      let quickchartButtonEl =\n",
              "        document.querySelector('#df-9e3ef8c1-07b4-4e98-ba49-505a1086912f button');\n",
              "      quickchartButtonEl.style.display =\n",
              "        google.colab.kernel.accessAllowed ? 'block' : 'none';\n",
              "    })();\n",
              "  </script>\n",
              "</div>\n",
              "\n",
              "    </div>\n",
              "  </div>\n"
            ],
            "text/plain": [
              "        date   meantemp   humidity  wind_speed  meanpressure  year  month\n",
              "0 2017-01-01  15.913043  85.869565    2.743478     59.000000  2017      1\n",
              "1 2017-01-02  18.500000  77.222222    2.894444   1018.277778  2017      1\n",
              "2 2017-01-03  17.111111  81.888889    4.016667   1018.333333  2017      1\n",
              "3 2017-01-04  18.700000  70.050000    4.545000   1015.700000  2017      1\n",
              "4 2017-01-05  18.388889  74.944444    3.300000   1014.333333  2017      1"
            ]
          },
          "execution_count": 18,
          "metadata": {},
          "output_type": "execute_result"
        }
      ],
      "source": [
        "data['date'] = pd.to_datetime(data['date'], format='%Y-%m-%d')\n",
        "data['year'] = data['date'].dt.year\n",
        "data['month'] = data['date'].dt.month\n",
        "data.head()\n"
      ]
    },
    {
      "cell_type": "code",
      "execution_count": 23,
      "metadata": {
        "colab": {
          "base_uri": "https://localhost:8080/",
          "height": 929
        },
        "id": "0BVFn29jPe-4",
        "outputId": "14b8cff3-1169-47bc-9609-6339e8d08f88"
      },
      "outputs": [
        {
          "data": {
            "image/png": "[encoded data removed]",
            "text/plain": [
              "<Figure size 1500x1000 with 1 Axes>"
            ]
          },
          "metadata": {},
          "output_type": "display_data"
        }
      ],
      "source": [
        "plt.style.use('fivethirtyeight')\n",
        "plt.figure(figsize=(15, 10))\n",
        "plt.title('Temperature Change in Delhi Over the Years')\n",
        "sns.lineplot(data=data, x='month', y='meantemp', hue='year')\n",
        "plt.show()"
      ]
    },
    {
      "cell_type": "code",
      "execution_count": 23,
      "metadata": {
        "id": "xOSg59dgQBfR"
      },
      "outputs": [],
      "source": [
        "forecast_data = data.rename(columns={'date': 'ds', 'meantemp': 'y'})\n"
      ]
    },
    {
      "cell_type": "code",
      "execution_count": 24,
      "metadata": {
        "colab": {
          "base_uri": "https://localhost:8080/",
          "height": 897
        },
        "id": "sKLS4odvQ_fC",
        "outputId": "f0018cb8-baee-4a12-9edf-f4da0ea279b8"
      },
      "outputs": [
        {
          "name": "stderr",
          "output_type": "stream",
          "text": [
            "19:02:09 - cmdstanpy - INFO - Chain [1] start processing\n",
            "19:02:09 - cmdstanpy - INFO - Chain [1] done processing\n"
          ]
        },
        {
          "data": {
            "application/vnd.plotly.v1+json": {
              "config": {
                "plotlyServerURL": "https://plot.ly"
              },
              "data": [
                {
                  "marker": {
                    "color": "black",
                    "size": 4
                  },
                  "mode": "markers",
                  "name": "Actual",
                  "type": "scatter",
                  "x": [
                    "2017-01-01T00:00:00",
                    "2017-01-02T00:00:00",
                    "2017-01-03T00:00:00",
                    "2017-01-04T00:00:00",
                    "2017-01-05T00:00:00",
                    "2017-01-06T00:00:00",
                    "2017-01-07T00:00:00",
                    "2017-01-08T00:00:00",
                    "2017-01-09T00:00:00",
                    "2017-01-10T00:00:00",
                    "2017-01-11T00:00:00",
                    "2017-01-12T00:00:00",
                    "2017-01-13T00:00:00",
                    "2017-01-14T00:00:00",
                    "2017-01-15T00:00:00",
                    "2017-01-16T00:00:00",
                    "2017-01-17T00:00:00",
                    "2017-01-18T00:00:00",
                    "2017-01-19T00:00:00",
                    "2017-01-20T00:00:00",
                    "2017-01-21T00:00:00",
                    "2017-01-22T00:00:00",
                    "2017-01-23T00:00:00",
                    "2017-01-24T00:00:00",
                    "2017-01-25T00:00:00",
                    "2017-01-26T00:00:00",
                    "2017-01-27T00:00:00",
                    "2017-01-28T00:00:00",
                    "2017-01-29T00:00:00",
                    "2017-01-30T00:00:00",
                    "2017-01-31T00:00:00",
                    "2017-02-01T00:00:00",
                    "2017-02-02T00:00:00",
                    "2017-02-03T00:00:00",
                    "2017-02-04T00:00:00",
                    "2017-02-05T00:00:00",
                    "2017-02-06T00:00:00",
                    "2017-02-07T00:00:00",
                    "2017-02-08T00:00:00",
                    "2017-02-09T00:00:00",
                    "2017-02-10T00:00:00",
                    "2017-02-11T00:00:00",
                    "2017-02-12T00:00:00",
                    "2017-02-13T00:00:00",
                    "2017-02-14T00:00:00",
                    "2017-02-15T00:00:00",
                    "2017-02-16T00:00:00",
                    "2017-02-17T00:00:00",
                    "2017-02-18T00:00:00",
                    "2017-02-19T00:00:00",
                    "2017-02-20T00:00:00",
                    "2017-02-21T00:00:00",
                    "2017-02-22T00:00:00",
                    "2017-02-23T00:00:00",
                    "2017-02-24T00:00:00",
                    "2017-02-25T00:00:00",
                    "2017-02-26T00:00:00",
                    "2017-02-27T00:00:00",
                    "2017-02-28T00:00:00",
                    "2017-03-01T00:00:00",
                    "2017-03-02T00:00:00",
                    "2017-03-03T00:00:00",
                    "2017-03-04T00:00:00",
                    "2017-03-05T00:00:00",
                    "2017-03-06T00:00:00",
                    "2017-03-07T00:00:00",
                    "2017-03-08T00:00:00",
                    "2017-03-09T00:00:00",
                    "2017-03-10T00:00:00",
                    "2017-03-11T00:00:00",
                    "2017-03-12T00:00:00",
                    "2017-03-13T00:00:00",
                    "2017-03-14T00:00:00",
                    "2017-03-15T00:00:00",
                    "2017-03-16T00:00:00",
                    "2017-03-17T00:00:00",
                    "2017-03-18T00:00:00",
                    "2017-03-19T00:00:00",
                    "2017-03-20T00:00:00",
                    "2017-03-21T00:00:00",
                    "2017-03-22T00:00:00",
                    "2017-03-23T00:00:00",
                    "2017-03-24T00:00:00",
                    "2017-03-25T00:00:00",
                    "2017-03-26T00:00:00",
                    "2017-03-27T00:00:00",
                    "2017-03-28T00:00:00",
                    "2017-03-29T00:00:00",
                    "2017-03-30T00:00:00",
                    "2017-03-31T00:00:00",
                    "2017-04-01T00:00:00",
                    "2017-04-02T00:00:00",
                    "2017-04-03T00:00:00",
                    "2017-04-04T00:00:00",
                    "2017-04-05T00:00:00",
                    "2017-04-06T00:00:00",
                    "2017-04-07T00:00:00",
                    "2017-04-08T00:00:00",
                    "2017-04-09T00:00:00",
                    "2017-04-10T00:00:00",
                    "2017-04-11T00:00:00",
                    "2017-04-12T00:00:00",
                    "2017-04-13T00:00:00",
                    "2017-04-14T00:00:00",
                    "2017-04-15T00:00:00",
                    "2017-04-16T00:00:00",
                    "2017-04-17T00:00:00",
                    "2017-04-18T00:00:00",
                    "2017-04-19T00:00:00",
                    "2017-04-20T00:00:00",
                    "2017-04-21T00:00:00",
                    "2017-04-22T00:00:00",
                    "2017-04-23T00:00:00",
                    "2017-04-24T00:00:00"
                  ],
                  "y": [
                    15.91304347826087,
                    18.5,
                    17.11111111111111,
                    18.7,
                    18.38888888888889,
                    19.318181818181817,
                    14.708333333333334,
                    15.68421052631579,
                    14.571428571428571,
                    12.11111111111111,
                    11,
                    11.789473684210526,
                    13.235294117647058,
                    13.2,
                    16.434782608695652,
                    14.65,
                    11.72222222222222,
                    13.041666666666666,
                    14.61904761904762,
                    15.263157894736842,
                    15.391304347826088,
                    18.44,
                    18.11764705882353,
                    18.347826086956523,
                    21,
                    16.178571428571427,
                    16.5,
                    14.863636363636363,
                    15.666666666666666,
                    16.444444444444443,
                    16.125,
                    15.25,
                    17.09090909090909,
                    15.636363636363637,
                    18.7,
                    18.63157894736842,
                    16.88888888888889,
                    15.125,
                    15.7,
                    15.375,
                    14.666666666666666,
                    15.625,
                    16.25,
                    16.333333333333332,
                    16.875,
                    17.571428571428573,
                    20.25,
                    21.3,
                    21.125,
                    22.363636363636363,
                    23.375,
                    21.83333333333333,
                    19.125,
                    18.625,
                    19.125,
                    19,
                    18.75,
                    19.875,
                    23.33333333333333,
                    24.46153846153846,
                    23.75,
                    20.5,
                    19.125,
                    19.75,
                    20,
                    22.625,
                    21.545454545454547,
                    20.785714285714285,
                    19.9375,
                    18.53333333333333,
                    17.375,
                    17.444444444444443,
                    18,
                    19.875,
                    24,
                    20.9,
                    24.692307692307693,
                    24.666666666666668,
                    23.33333333333333,
                    25,
                    27.25,
                    28,
                    28.916666666666668,
                    26.5,
                    29.1,
                    29.5,
                    29.88888888888889,
                    31,
                    29.285714285714285,
                    30.625,
                    31.375,
                    29.75,
                    30.5,
                    30.933333333333334,
                    29.23076923076923,
                    31.22222222222222,
                    27,
                    25.625,
                    27.125,
                    27.857142857142858,
                    29.25,
                    29.25,
                    29.666666666666668,
                    30.5,
                    31.22222222222222,
                    31,
                    32.55555555555556,
                    34,
                    33.5,
                    34.5,
                    34.25,
                    32.9,
                    32.875,
                    32
                  ]
                },
                {
                  "hoverinfo": "skip",
                  "line": {
                    "width": 0
                  },
                  "mode": "lines",
                  "type": "scatter",
                  "x": [
                    "2017-01-01T00:00:00",
                    "2017-01-02T00:00:00",
                    "2017-01-03T00:00:00",
                    "2017-01-04T00:00:00",
                    "2017-01-05T00:00:00",
                    "2017-01-06T00:00:00",
                    "2017-01-07T00:00:00",
                    "2017-01-08T00:00:00",
                    "2017-01-09T00:00:00",
                    "2017-01-10T00:00:00",
                    "2017-01-11T00:00:00",
                    "2017-01-12T00:00:00",
                    "2017-01-13T00:00:00",
                    "2017-01-14T00:00:00",
                    "2017-01-15T00:00:00",
                    "2017-01-16T00:00:00",
                    "2017-01-17T00:00:00",
                    "2017-01-18T00:00:00",
                    "2017-01-19T00:00:00",
                    "2017-01-20T00:00:00",
                    "2017-01-21T00:00:00",
                    "2017-01-22T00:00:00",
                    "2017-01-23T00:00:00",
                    "2017-01-24T00:00:00",
                    "2017-01-25T00:00:00",
                    "2017-01-26T00:00:00",
                    "2017-01-27T00:00:00",
                    "2017-01-28T00:00:00",
                    "2017-01-29T00:00:00",
                    "2017-01-30T00:00:00",
                    "2017-01-31T00:00:00",
                    "2017-02-01T00:00:00",
                    "2017-02-02T00:00:00",
                    "2017-02-03T00:00:00",
                    "2017-02-04T00:00:00",
                    "2017-02-05T00:00:00",
                    "2017-02-06T00:00:00",
                    "2017-02-07T00:00:00",
                    "2017-02-08T00:00:00",
                    "2017-02-09T00:00:00",
                    "2017-02-10T00:00:00",
                    "2017-02-11T00:00:00",
                    "2017-02-12T00:00:00",
                    "2017-02-13T00:00:00",
                    "2017-02-14T00:00:00",
                    "2017-02-15T00:00:00",
                    "2017-02-16T00:00:00",
                    "2017-02-17T00:00:00",
                    "2017-02-18T00:00:00",
                    "2017-02-19T00:00:00",
                    "2017-02-20T00:00:00",
                    "2017-02-21T00:00:00",
                    "2017-02-22T00:00:00",
                    "2017-02-23T00:00:00",
                    "2017-02-24T00:00:00",
                    "2017-02-25T00:00:00",
                    "2017-02-26T00:00:00",
                    "2017-02-27T00:00:00",
                    "2017-02-28T00:00:00",
                    "2017-03-01T00:00:00",
                    "2017-03-02T00:00:00",
                    "2017-03-03T00:00:00",
                    "2017-03-04T00:00:00",
                    "2017-03-05T00:00:00",
                    "2017-03-06T00:00:00",
                    "2017-03-07T00:00:00",
                    "2017-03-08T00:00:00",
                    "2017-03-09T00:00:00",
                    "2017-03-10T00:00:00",
                    "2017-03-11T00:00:00",
                    "2017-03-12T00:00:00",
                    "2017-03-13T00:00:00",
                    "2017-03-14T00:00:00",
                    "2017-03-15T00:00:00",
                    "2017-03-16T00:00:00",
                    "2017-03-17T00:00:00",
                    "2017-03-18T00:00:00",
                    "2017-03-19T00:00:00",
                    "2017-03-20T00:00:00",
                    "2017-03-21T00:00:00",
                    "2017-03-22T00:00:00",
                    "2017-03-23T00:00:00",
                    "2017-03-24T00:00:00",
                    "2017-03-25T00:00:00",
                    "2017-03-26T00:00:00",
                    "2017-03-27T00:00:00",
                    "2017-03-28T00:00:00",
                    "2017-03-29T00:00:00",
                    "2017-03-30T00:00:00",
                    "2017-03-31T00:00:00",
                    "2017-04-01T00:00:00",
                    "2017-04-02T00:00:00",
                    "2017-04-03T00:00:00",
                    "2017-04-04T00:00:00",
                    "2017-04-05T00:00:00",
                    "2017-04-06T00:00:00",
                    "2017-04-07T00:00:00",
                    "2017-04-08T00:00:00",
                    "2017-04-09T00:00:00",
                    "2017-04-10T00:00:00",
                    "2017-04-11T00:00:00",
                    "2017-04-12T00:00:00",
                    "2017-04-13T00:00:00",
                    "2017-04-14T00:00:00",
                    "2017-04-15T00:00:00",
                    "2017-04-16T00:00:00",
                    "2017-04-17T00:00:00",
                    "2017-04-18T00:00:00",
                    "2017-04-19T00:00:00",
                    "2017-04-20T00:00:00",
                    "2017-04-21T00:00:00",
                    "2017-04-22T00:00:00",
                    "2017-04-23T00:00:00",
                    "2017-04-24T00:00:00",
                    "2017-04-25T00:00:00",
                    "2017-04-26T00:00:00",
                    "2017-04-27T00:00:00",
                    "2017-04-28T00:00:00",
                    "2017-04-29T00:00:00",
                    "2017-04-30T00:00:00",
                    "2017-05-01T00:00:00",
                    "2017-05-02T00:00:00",
                    "2017-05-03T00:00:00",
                    "2017-05-04T00:00:00",
                    "2017-05-05T00:00:00",
                    "2017-05-06T00:00:00",
                    "2017-05-07T00:00:00",
                    "2017-05-08T00:00:00",
                    "2017-05-09T00:00:00",
                    "2017-05-10T00:00:00",
                    "2017-05-11T00:00:00",
                    "2017-05-12T00:00:00",
                    "2017-05-13T00:00:00",
                    "2017-05-14T00:00:00",
                    "2017-05-15T00:00:00",
                    "2017-05-16T00:00:00",
                    "2017-05-17T00:00:00",
                    "2017-05-18T00:00:00",
                    "2017-05-19T00:00:00",
                    "2017-05-20T00:00:00",
                    "2017-05-21T00:00:00",
                    "2017-05-22T00:00:00",
                    "2017-05-23T00:00:00",
                    "2017-05-24T00:00:00",
                    "2017-05-25T00:00:00",
                    "2017-05-26T00:00:00",
                    "2017-05-27T00:00:00",
                    "2017-05-28T00:00:00",
                    "2017-05-29T00:00:00",
                    "2017-05-30T00:00:00",
                    "2017-05-31T00:00:00",
                    "2017-06-01T00:00:00",
                    "2017-06-02T00:00:00",
                    "2017-06-03T00:00:00",
                    "2017-06-04T00:00:00",
                    "2017-06-05T00:00:00",
                    "2017-06-06T00:00:00",
                    "2017-06-07T00:00:00",
                    "2017-06-08T00:00:00",
                    "2017-06-09T00:00:00",
                    "2017-06-10T00:00:00",
                    "2017-06-11T00:00:00",
                    "2017-06-12T00:00:00",
                    "2017-06-13T00:00:00",
                    "2017-06-14T00:00:00",
                    "2017-06-15T00:00:00",
                    "2017-06-16T00:00:00",
                    "2017-06-17T00:00:00",
                    "2017-06-18T00:00:00",
                    "2017-06-19T00:00:00",
                    "2017-06-20T00:00:00",
                    "2017-06-21T00:00:00",
                    "2017-06-22T00:00:00",
                    "2017-06-23T00:00:00",
                    "2017-06-24T00:00:00",
                    "2017-06-25T00:00:00",
                    "2017-06-26T00:00:00",
                    "2017-06-27T00:00:00",
                    "2017-06-28T00:00:00",
                    "2017-06-29T00:00:00",
                    "2017-06-30T00:00:00",
                    "2017-07-01T00:00:00",
                    "2017-07-02T00:00:00",
                    "2017-07-03T00:00:00",
                    "2017-07-04T00:00:00",
                    "2017-07-05T00:00:00",
                    "2017-07-06T00:00:00",
                    "2017-07-07T00:00:00",
                    "2017-07-08T00:00:00",
                    "2017-07-09T00:00:00",
                    "2017-07-10T00:00:00",
                    "2017-07-11T00:00:00",
                    "2017-07-12T00:00:00",
                    "2017-07-13T00:00:00",
                    "2017-07-14T00:00:00",
                    "2017-07-15T00:00:00",
                    "2017-07-16T00:00:00",
                    "2017-07-17T00:00:00",
                    "2017-07-18T00:00:00",
                    "2017-07-19T00:00:00",
                    "2017-07-20T00:00:00",
                    "2017-07-21T00:00:00",
                    "2017-07-22T00:00:00",
                    "2017-07-23T00:00:00",
                    "2017-07-24T00:00:00",
                    "2017-07-25T00:00:00",
                    "2017-07-26T00:00:00",
                    "2017-07-27T00:00:00",
                    "2017-07-28T00:00:00",
                    "2017-07-29T00:00:00",
                    "2017-07-30T00:00:00",
                    "2017-07-31T00:00:00",
                    "2017-08-01T00:00:00",
                    "2017-08-02T00:00:00",
                    "2017-08-03T00:00:00",
                    "2017-08-04T00:00:00",
                    "2017-08-05T00:00:00",
                    "2017-08-06T00:00:00",
                    "2017-08-07T00:00:00",
                    "2017-08-08T00:00:00",
                    "2017-08-09T00:00:00",
                    "2017-08-10T00:00:00",
                    "2017-08-11T00:00:00",
                    "2017-08-12T00:00:00",
                    "2017-08-13T00:00:00",
                    "2017-08-14T00:00:00",
                    "2017-08-15T00:00:00",
                    "2017-08-16T00:00:00",
                    "2017-08-17T00:00:00",
                    "2017-08-18T00:00:00",
                    "2017-08-19T00:00:00",
                    "2017-08-20T00:00:00",
                    "2017-08-21T00:00:00",
                    "2017-08-22T00:00:00",
                    "2017-08-23T00:00:00",
                    "2017-08-24T00:00:00",
                    "2017-08-25T00:00:00",
                    "2017-08-26T00:00:00",
                    "2017-08-27T00:00:00",
                    "2017-08-28T00:00:00",
                    "2017-08-29T00:00:00",
                    "2017-08-30T00:00:00",
                    "2017-08-31T00:00:00",
                    "2017-09-01T00:00:00",
                    "2017-09-02T00:00:00",
                    "2017-09-03T00:00:00",
                    "2017-09-04T00:00:00",
                    "2017-09-05T00:00:00",
                    "2017-09-06T00:00:00",
                    "2017-09-07T00:00:00",
                    "2017-09-08T00:00:00",
                    "2017-09-09T00:00:00",
                    "2017-09-10T00:00:00",
                    "2017-09-11T00:00:00",
                    "2017-09-12T00:00:00",
                    "2017-09-13T00:00:00",
                    "2017-09-14T00:00:00",
                    "2017-09-15T00:00:00",
                    "2017-09-16T00:00:00",
                    "2017-09-17T00:00:00",
                    "2017-09-18T00:00:00",
                    "2017-09-19T00:00:00",
                    "2017-09-20T00:00:00",
                    "2017-09-21T00:00:00",
                    "2017-09-22T00:00:00",
                    "2017-09-23T00:00:00",
                    "2017-09-24T00:00:00",
                    "2017-09-25T00:00:00",
                    "2017-09-26T00:00:00",
                    "2017-09-27T00:00:00",
                    "2017-09-28T00:00:00",
                    "2017-09-29T00:00:00",
                    "2017-09-30T00:00:00",
                    "2017-10-01T00:00:00",
                    "2017-10-02T00:00:00",
                    "2017-10-03T00:00:00",
                    "2017-10-04T00:00:00",
                    "2017-10-05T00:00:00",
                    "2017-10-06T00:00:00",
                    "2017-10-07T00:00:00",
                    "2017-10-08T00:00:00",
                    "2017-10-09T00:00:00",
                    "2017-10-10T00:00:00",
                    "2017-10-11T00:00:00",
                    "2017-10-12T00:00:00",
                    "2017-10-13T00:00:00",
                    "2017-10-14T00:00:00",
                    "2017-10-15T00:00:00",
                    "2017-10-16T00:00:00",
                    "2017-10-17T00:00:00",
                    "2017-10-18T00:00:00",
                    "2017-10-19T00:00:00",
                    "2017-10-20T00:00:00",
                    "2017-10-21T00:00:00",
                    "2017-10-22T00:00:00",
                    "2017-10-23T00:00:00",
                    "2017-10-24T00:00:00",
                    "2017-10-25T00:00:00",
                    "2017-10-26T00:00:00",
                    "2017-10-27T00:00:00",
                    "2017-10-28T00:00:00",
                    "2017-10-29T00:00:00",
                    "2017-10-30T00:00:00",
                    "2017-10-31T00:00:00",
                    "2017-11-01T00:00:00",
                    "2017-11-02T00:00:00",
                    "2017-11-03T00:00:00",
                    "2017-11-04T00:00:00",
                    "2017-11-05T00:00:00",
                    "2017-11-06T00:00:00",
                    "2017-11-07T00:00:00",
                    "2017-11-08T00:00:00",
                    "2017-11-09T00:00:00",
                    "2017-11-10T00:00:00",
                    "2017-11-11T00:00:00",
                    "2017-11-12T00:00:00",
                    "2017-11-13T00:00:00",
                    "2017-11-14T00:00:00",
                    "2017-11-15T00:00:00",
                    "2017-11-16T00:00:00",
                    "2017-11-17T00:00:00",
                    "2017-11-18T00:00:00",
                    "2017-11-19T00:00:00",
                    "2017-11-20T00:00:00",
                    "2017-11-21T00:00:00",
                    "2017-11-22T00:00:00",
                    "2017-11-23T00:00:00",
                    "2017-11-24T00:00:00",
                    "2017-11-25T00:00:00",
                    "2017-11-26T00:00:00",
                    "2017-11-27T00:00:00",
                    "2017-11-28T00:00:00",
                    "2017-11-29T00:00:00",
                    "2017-11-30T00:00:00",
                    "2017-12-01T00:00:00",
                    "2017-12-02T00:00:00",
                    "2017-12-03T00:00:00",
                    "2017-12-04T00:00:00",
                    "2017-12-05T00:00:00",
                    "2017-12-06T00:00:00",
                    "2017-12-07T00:00:00",
                    "2017-12-08T00:00:00",
                    "2017-12-09T00:00:00",
                    "2017-12-10T00:00:00",
                    "2017-12-11T00:00:00",
                    "2017-12-12T00:00:00",
                    "2017-12-13T00:00:00",
                    "2017-12-14T00:00:00",
                    "2017-12-15T00:00:00",
                    "2017-12-16T00:00:00",
                    "2017-12-17T00:00:00",
                    "2017-12-18T00:00:00",
                    "2017-12-19T00:00:00",
                    "2017-12-20T00:00:00",
                    "2017-12-21T00:00:00",
                    "2017-12-22T00:00:00",
                    "2017-12-23T00:00:00",
                    "2017-12-24T00:00:00",
                    "2017-12-25T00:00:00",
                    "2017-12-26T00:00:00",
                    "2017-12-27T00:00:00",
                    "2017-12-28T00:00:00",
                    "2017-12-29T00:00:00",
                    "2017-12-30T00:00:00",
                    "2017-12-31T00:00:00",
                    "2018-01-01T00:00:00",
                    "2018-01-02T00:00:00",
                    "2018-01-03T00:00:00",
                    "2018-01-04T00:00:00",
                    "2018-01-05T00:00:00",
                    "2018-01-06T00:00:00",
                    "2018-01-07T00:00:00",
                    "2018-01-08T00:00:00",
                    "2018-01-09T00:00:00",
                    "2018-01-10T00:00:00",
                    "2018-01-11T00:00:00",
                    "2018-01-12T00:00:00",
                    "2018-01-13T00:00:00",
                    "2018-01-14T00:00:00",
                    "2018-01-15T00:00:00",
                    "2018-01-16T00:00:00",
                    "2018-01-17T00:00:00",
                    "2018-01-18T00:00:00",
                    "2018-01-19T00:00:00",
                    "2018-01-20T00:00:00",
                    "2018-01-21T00:00:00",
                    "2018-01-22T00:00:00",
                    "2018-01-23T00:00:00",
                    "2018-01-24T00:00:00",
                    "2018-01-25T00:00:00",
                    "2018-01-26T00:00:00",
                    "2018-01-27T00:00:00",
                    "2018-01-28T00:00:00",
                    "2018-01-29T00:00:00",
                    "2018-01-30T00:00:00",
                    "2018-01-31T00:00:00",
                    "2018-02-01T00:00:00",
                    "2018-02-02T00:00:00",
                    "2018-02-03T00:00:00",
                    "2018-02-04T00:00:00",
                    "2018-02-05T00:00:00",
                    "2018-02-06T00:00:00",
                    "2018-02-07T00:00:00",
                    "2018-02-08T00:00:00",
                    "2018-02-09T00:00:00",
                    "2018-02-10T00:00:00",
                    "2018-02-11T00:00:00",
                    "2018-02-12T00:00:00",
                    "2018-02-13T00:00:00",
                    "2018-02-14T00:00:00",
                    "2018-02-15T00:00:00",
                    "2018-02-16T00:00:00",
                    "2018-02-17T00:00:00",
                    "2018-02-18T00:00:00",
                    "2018-02-19T00:00:00",
                    "2018-02-20T00:00:00",
                    "2018-02-21T00:00:00",
                    "2018-02-22T00:00:00",
                    "2018-02-23T00:00:00",
                    "2018-02-24T00:00:00",
                    "2018-02-25T00:00:00",
                    "2018-02-26T00:00:00",
                    "2018-02-27T00:00:00",
                    "2018-02-28T00:00:00",
                    "2018-03-01T00:00:00",
                    "2018-03-02T00:00:00",
                    "2018-03-03T00:00:00",
                    "2018-03-04T00:00:00",
                    "2018-03-05T00:00:00",
                    "2018-03-06T00:00:00",
                    "2018-03-07T00:00:00",
                    "2018-03-08T00:00:00",
                    "2018-03-09T00:00:00",
                    "2018-03-10T00:00:00",
                    "2018-03-11T00:00:00",
                    "2018-03-12T00:00:00",
                    "2018-03-13T00:00:00",
                    "2018-03-14T00:00:00",
                    "2018-03-15T00:00:00",
                    "2018-03-16T00:00:00",
                    "2018-03-17T00:00:00",
                    "2018-03-18T00:00:00",
                    "2018-03-19T00:00:00",
                    "2018-03-20T00:00:00",
                    "2018-03-21T00:00:00",
                    "2018-03-22T00:00:00",
                    "2018-03-23T00:00:00",
                    "2018-03-24T00:00:00",
                    "2018-03-25T00:00:00",
                    "2018-03-26T00:00:00",
                    "2018-03-27T00:00:00",
                    "2018-03-28T00:00:00",
                    "2018-03-29T00:00:00",
                    "2018-03-30T00:00:00",
                    "2018-03-31T00:00:00",
                    "2018-04-01T00:00:00",
                    "2018-04-02T00:00:00",
                    "2018-04-03T00:00:00",
                    "2018-04-04T00:00:00",
                    "2018-04-05T00:00:00",
                    "2018-04-06T00:00:00",
                    "2018-04-07T00:00:00",
                    "2018-04-08T00:00:00",
                    "2018-04-09T00:00:00",
                    "2018-04-10T00:00:00",
                    "2018-04-11T00:00:00",
                    "2018-04-12T00:00:00",
                    "2018-04-13T00:00:00",
                    "2018-04-14T00:00:00",
                    "2018-04-15T00:00:00",
                    "2018-04-16T00:00:00",
                    "2018-04-17T00:00:00",
                    "2018-04-18T00:00:00",
                    "2018-04-19T00:00:00",
                    "2018-04-20T00:00:00",
                    "2018-04-21T00:00:00",
                    "2018-04-22T00:00:00",
                    "2018-04-23T00:00:00",
                    "2018-04-24T00:00:00"
                  ],
                  "y": [
                    10.902339483200786,
                    11.147207060661053,
                    11.0953407688011,
                    11.407951442200792,
                    11.409499183140237,
                    11.311622024091825,
                    10.918344332886305,
                    11.733392167312209,
                    11.812946566558892,
                    11.856319268568647,
                    12.004804283060947,
                    12.302143951538394,
                    11.488283608405776,
                    11.491236539772345,
                    12.287556326748252,
                    12.454452354722024,
                    12.652385799350805,
                    12.768717767566635,
                    12.787004396671911,
                    12.728634866058734,
                    12.532650653823715,
                    12.808799845623543,
                    13.40189240012358,
                    13.297081531454246,
                    13.28858465053086,
                    13.67909001114927,
                    13.197663961270413,
                    13.156903217294426,
                    13.934151532644778,
                    13.599461082080278,
                    13.827694117371754,
                    14.397406854335573,
                    14.73795931396821,
                    14.062581650751572,
                    13.605902689891213,
                    14.66315660856332,
                    14.620752175174855,
                    14.701079355774318,
                    14.88472284666699,
                    15.411043682317619,
                    14.824348136596067,
                    14.469906876919282,
                    15.529311036474748,
                    15.510853091654353,
                    15.573066946261136,
                    15.934441552813341,
                    16.16969329696162,
                    15.875537297147474,
                    15.517615247207367,
                    16.3692661447744,
                    16.29223741454599,
                    16.407825044952556,
                    16.558988447060983,
                    17.156711979312043,
                    16.727167507648783,
                    16.299720474276217,
                    17.34333175685956,
                    17.065305964534094,
                    17.50418894227216,
                    17.77917104501158,
                    18.183406617721655,
                    17.998180798170512,
                    17.702088757586708,
                    18.31515155907931,
                    18.848958048816844,
                    18.78735111659612,
                    18.857200880976112,
                    19.646914984353717,
                    19.295644392257913,
                    19.218597258428698,
                    19.929468101205046,
                    19.963805302164065,
                    20.341410596940936,
                    20.79880730227257,
                    21.169161537609703,
                    21.088118612392048,
                    20.528738479460156,
                    21.775147844908325,
                    21.860755962866172,
                    22.188084801466584,
                    22.60045889518981,
                    23.041130860509888,
                    22.528900588681864,
                    22.559230937567634,
                    23.367379341548194,
                    23.586555967329122,
                    23.89032660930285,
                    24.211093683689025,
                    24.739151354376087,
                    24.25549704831834,
                    24.44516844194316,
                    24.90333761181481,
                    25.385102640721918,
                    25.567780942089747,
                    25.964562550647752,
                    26.43781414478137,
                    26.04786864469963,
                    26.11039920988533,
                    26.923019228441987,
                    26.95934064197661,
                    27.198563743399884,
                    27.75349584016266,
                    28.104673869508666,
                    27.60797287848373,
                    27.488597036546082,
                    28.449336626663044,
                    28.49830708900689,
                    28.917585356737472,
                    29.587676945322716,
                    29.9256012578285,
                    29.513634827111805,
                    29.51400438468775,
                    30.139190555013435,
                    30.481080757390114,
                    30.657251140552923,
                    31.12948675317422,
                    31.623683944931845,
                    31.42239070108959,
                    31.03035530774467,
                    32.07721113054467,
                    32.00287500301356,
                    32.21264307511817,
                    33.0171796996884,
                    33.38037360528133,
                    32.97033353768255,
                    32.63964808143696,
                    33.68180165112029,
                    34.14764589164093,
                    34.26741304334393,
                    34.73599751795281,
                    35.0142254121558,
                    34.88019849289412,
                    34.50625858625769,
                    35.30263630870571,
                    35.875635679534774,
                    36.17791356560444,
                    36.375794663160924,
                    36.54994292776283,
                    36.202509313410275,
                    36.43611661096949,
                    37.23326460714493,
                    37.18481053299993,
                    37.652119272282505,
                    38.1055559820381,
                    38.40241046015626,
                    38.18662261006582,
                    37.96050618692135,
                    38.9327416991586,
                    39.12747695070034,
                    39.33463586782131,
                    39.72697253489337,
                    40.31044399295479,
                    39.870911661955915,
                    39.69465464661169,
                    40.51580137600833,
                    40.88793986028773,
                    41.2240645441565,
                    41.172682538964494,
                    41.75097803665573,
                    41.5232999764199,
                    41.23158465532244,
                    42.31943082771503,
                    42.256071885787144,
                    42.56893632959706,
                    42.87083624470462,
                    43.12112620134061,
                    43.204382169516016,
                    42.75764409912728,
                    43.754030276171406,
                    44.13912391963487,
                    44.38325200256932,
                    44.78326374827027,
                    45.18087613366891,
                    44.898852412358885,
                    44.50494399434811,
                    45.60788139954591,
                    45.612129701155716,
                    45.99830676595746,
                    46.13443752891067,
                    46.524891086153104,
                    46.53569599060101,
                    46.21441066397561,
                    47.00755523213782,
                    47.61993784441155,
                    47.531028510033416,
                    48.14485711009057,
                    48.567131159168206,
                    47.81637399273845,
                    47.89221949841525,
                    48.57965218232029,
                    48.88386262849353,
                    49.29190036212721,
                    49.65404606450956,
                    50.00837544041996,
                    49.39273570196405,
                    49.28742313123108,
                    50.03372446257505,
                    50.256722327009165,
                    50.71691238741249,
                    51.274508887379326,
                    51.60398823893532,
                    51.15541139490046,
                    50.7835161090707,
                    51.8397333105928,
                    51.75113889360382,
                    52.58863053379121,
                    52.54667798304353,
                    53.11927007300006,
                    52.60709541126407,
                    52.47355095697389,
                    53.67265721731475,
                    53.63040285294257,
                    53.69506158935234,
                    54.19578318567889,
                    54.577826944551155,
                    54.39620162671733,
                    53.91274508048708,
                    54.905834000485605,
                    55.25411849949664,
                    55.499808207135544,
                    55.74179311981318,
                    56.05534046682245,
                    55.53502994162622,
                    55.52276502327085,
                    56.54372643890475,
                    56.43888220416393,
                    56.72563372592123,
                    57.109093293160896,
                    57.84370735434585,
                    57.45946987718326,
                    56.98031254834734,
                    57.960090198431104,
                    58.32759953864541,
                    58.39946451473999,
                    58.73241876282217,
                    58.948026958631175,
                    58.838935462988594,
                    58.25840951391011,
                    59.31287016504644,
                    59.445960827233975,
                    59.73350880933088,
                    60.0135789864221,
                    60.47345722529635,
                    60.087696002175484,
                    60.227386296855336,
                    61.068999117297786,
                    61.07522005759708,
                    61.36544697523701,
                    61.70271525095392,
                    62.28681300612995,
                    61.78425738411425,
                    61.46197256149149,
                    62.23549770790613,
                    62.95965236082296,
                    62.915076552174924,
                    63.07254145678862,
                    63.58950557549664,
                    63.22381094254552,
                    62.996745206877755,
                    63.69343366979911,
                    63.78235949982284,
                    64.22188698827345,
                    64.83344276219972,
                    64.93973159533566,
                    64.72688174181418,
                    64.37152030611703,
                    65.45041338181998,
                    65.20569231839126,
                    65.36405274381093,
                    65.9962269260782,
                    66.46520945262729,
                    66.27948370851757,
                    65.84682001324175,
                    66.78021453849743,
                    66.95489689748538,
                    66.90290989772404,
                    67.18779601329534,
                    67.95954470146563,
                    67.21432050458138,
                    67.10144177926456,
                    68.05714004040111,
                    68.21503928322187,
                    68.26386776138577,
                    68.76211644598125,
                    68.86698816754333,
                    68.89158700490133,
                    68.3037987964469,
                    69.40826662472463,
                    69.70525923514789,
                    70.05818819760064,
                    70.19333133867914,
                    70.64174808584816,
                    70.44623982815081,
                    70.42217096330614,
                    70.75234853572893,
                    71.10438732759422,
                    71.29477470138963,
                    71.59020877900956,
                    72.13444634424147,
                    71.96045896909902,
                    71.48788223515034,
                    72.50413666086497,
                    72.40800401178795,
                    72.53489334980316,
                    72.7752623313341,
                    73.22408279144237,
                    73.40824919213495,
                    72.89708572129095,
                    73.37741210783895,
                    73.98057502070866,
                    74.08515588284186,
                    74.36725404709091,
                    74.34539276299952,
                    74.35959344532982,
                    74.37254087664556,
                    74.79738615327294,
                    74.95923151101813,
                    75.22113707815546,
                    75.63061550527334,
                    76.14620865151394,
                    75.84634779201505,
                    75.28274208818404,
                    76.6713410388167,
                    76.11163291605519,
                    76.99738019046099,
                    77.22336391448788,
                    77.76305119154199,
                    76.8567293416212,
                    76.80322401750703,
                    77.6130638654365,
                    77.71843080541419,
                    77.81244870534204,
                    78.15854323044856,
                    78.54014049611934,
                    78.46648726420443,
                    78.01715932082277,
                    79.07176073069326,
                    79.28928620490412,
                    79.72679950780618,
                    79.89298371163687,
                    80.19000709013285,
                    80.09302675841933,
                    79.09708298210764,
                    80.27150352553379,
                    80.49853739502952,
                    80.89054160557737,
                    81.15870870481693,
                    81.13249011616864,
                    81.27052733937295,
                    80.66660399986338,
                    81.92265506288915,
                    82.25453679897994,
                    81.99347933737158,
                    82.86764959963304,
                    82.96132206058822,
                    82.33097583529694,
                    82.60306686172618,
                    83.30434381855653,
                    83.12790205421892,
                    83.44844644681152,
                    83.32862411639364,
                    84.04672936323584,
                    83.34614451362549,
                    83.27317483552454,
                    84.49400189325247,
                    83.93323736368929,
                    84.46152910093045,
                    85.0640319914273,
                    85.09190793085126,
                    85.10023249509895,
                    84.36850948450206,
                    85.6490084590803,
                    86.05896638140618,
                    85.8081553760288,
                    86.25156476354599,
                    86.21914089504548,
                    86.06541330020002,
                    85.70611846995574,
                    86.97644318274364,
                    86.80323711461695,
                    86.87428292035955,
                    87.92102460255734,
                    87.98371619658322,
                    87.54913523102893,
                    87.0349085682111,
                    88.62978092116795,
                    88.46602479880909,
                    88.11406748175843,
                    88.22313560510726,
                    89.49461791212472,
                    89.01653915927574,
                    88.41271978733914,
                    89.46315877791638,
                    89.60140460844687,
                    89.69350584044969,
                    90.22362382093932,
                    90.72810616564519,
                    90.26524330163959,
                    89.50831070426298,
                    90.66175728709953,
                    90.81616205179962,
                    91.044889799001,
                    91.20977330518672,
                    92.14562576149149,
                    91.3772274634108,
                    91.27643939709887,
                    91.86347408352786,
                    91.76116812039163,
                    92.06994279181215,
                    92.89054093909287,
                    93.67279636026902,
                    92.6837755130701,
                    92.8534940471196,
                    93.46107808584192,
                    93.1547022799897,
                    94.24362923450077,
                    94.00402771275787,
                    94.26894281929481,
                    93.93844559428143,
                    93.40786143263988,
                    94.83712593451469,
                    93.9518446342196,
                    94.84853226044784,
                    94.95908248858304,
                    95.59424853020847,
                    94.39440023506609,
                    94.79004765422573,
                    95.59975372889532,
                    95.40510494123717,
                    96.24953651522712,
                    96.66132261960567,
                    96.91769803693302,
                    96.62658464787194,
                    96.0669317302931,
                    96.83336844209293,
                    96.90312059724754,
                    97.03781572252693,
                    97.20321264335652,
                    97.98425105270485,
                    97.62112043244728,
                    97.30382990890432,
                    98.07208211843661,
                    98.5188637352274,
                    98.42728991216306,
                    99.4057800891237,
                    99.48531813493499,
                    99.07109669402969,
                    99.14269190193299,
                    99.18558493903701,
                    99.19346538802476,
                    99.5602736196096,
                    99.592355288951,
                    100.46155893233218,
                    99.95420106828622,
                    99.80669872846376,
                    100.65889494956663,
                    101.0287893163165,
                    100.57871106237332,
                    101.53199764395168,
                    101.6215428173242,
                    100.95164373390676,
                    101.33747144783086,
                    101.78048598128278,
                    101.57833180882442,
                    102.45450138942472,
                    102.81262308577976,
                    103.06739394043367,
                    102.9017394623176,
                    101.58076621032556,
                    103.02160839067756,
                    103.08361023425046,
                    103.71635291396478,
                    103.103688966088,
                    103.87777274113144,
                    104.28936401610181,
                    103.54318558269901,
                    104.50794191417609,
                    104.19037446979456,
                    103.99084176609766
                  ]
                },
                {
                  "fill": "tonexty",
                  "fillcolor": "rgba(0, 114, 178, 0.2)",
                  "line": {
                    "color": "#0072B2",
                    "width": 2
                  },
                  "mode": "lines",
                  "name": "Predicted",
                  "type": "scatter",
                  "x": [
                    "2017-01-01T00:00:00",
                    "2017-01-02T00:00:00",
                    "2017-01-03T00:00:00",
                    "2017-01-04T00:00:00",
                    "2017-01-05T00:00:00",
                    "2017-01-06T00:00:00",
                    "2017-01-07T00:00:00",
                    "2017-01-08T00:00:00",
                    "2017-01-09T00:00:00",
                    "2017-01-10T00:00:00",
                    "2017-01-11T00:00:00",
                    "2017-01-12T00:00:00",
                    "2017-01-13T00:00:00",
                    "2017-01-14T00:00:00",
                    "2017-01-15T00:00:00",
                    "2017-01-16T00:00:00",
                    "2017-01-17T00:00:00",
                    "2017-01-18T00:00:00",
                    "2017-01-19T00:00:00",
                    "2017-01-20T00:00:00",
                    "2017-01-21T00:00:00",
                    "2017-01-22T00:00:00",
                    "2017-01-23T00:00:00",
                    "2017-01-24T00:00:00",
                    "2017-01-25T00:00:00",
                    "2017-01-26T00:00:00",
                    "2017-01-27T00:00:00",
                    "2017-01-28T00:00:00",
                    "2017-01-29T00:00:00",
                    "2017-01-30T00:00:00",
                    "2017-01-31T00:00:00",
                    "2017-02-01T00:00:00",
                    "2017-02-02T00:00:00",
                    "2017-02-03T00:00:00",
                    "2017-02-04T00:00:00",
                    "2017-02-05T00:00:00",
                    "2017-02-06T00:00:00",
                    "2017-02-07T00:00:00",
                    "2017-02-08T00:00:00",
                    "2017-02-09T00:00:00",
                    "2017-02-10T00:00:00",
                    "2017-02-11T00:00:00",
                    "2017-02-12T00:00:00",
                    "2017-02-13T00:00:00",
                    "2017-02-14T00:00:00",
                    "2017-02-15T00:00:00",
                    "2017-02-16T00:00:00",
                    "2017-02-17T00:00:00",
                    "2017-02-18T00:00:00",
                    "2017-02-19T00:00:00",
                    "2017-02-20T00:00:00",
                    "2017-02-21T00:00:00",
                    "2017-02-22T00:00:00",
                    "2017-02-23T00:00:00",
                    "2017-02-24T00:00:00",
                    "2017-02-25T00:00:00",
                    "2017-02-26T00:00:00",
                    "2017-02-27T00:00:00",
                    "2017-02-28T00:00:00",
                    "2017-03-01T00:00:00",
                    "2017-03-02T00:00:00",
                    "2017-03-03T00:00:00",
                    "2017-03-04T00:00:00",
                    "2017-03-05T00:00:00",
                    "2017-03-06T00:00:00",
                    "2017-03-07T00:00:00",
                    "2017-03-08T00:00:00",
                    "2017-03-09T00:00:00",
                    "2017-03-10T00:00:00",
                    "2017-03-11T00:00:00",
                    "2017-03-12T00:00:00",
                    "2017-03-13T00:00:00",
                    "2017-03-14T00:00:00",
                    "2017-03-15T00:00:00",
                    "2017-03-16T00:00:00",
                    "2017-03-17T00:00:00",
                    "2017-03-18T00:00:00",
                    "2017-03-19T00:00:00",
                    "2017-03-20T00:00:00",
                    "2017-03-21T00:00:00",
                    "2017-03-22T00:00:00",
                    "2017-03-23T00:00:00",
                    "2017-03-24T00:00:00",
                    "2017-03-25T00:00:00",
                    "2017-03-26T00:00:00",
                    "2017-03-27T00:00:00",
                    "2017-03-28T00:00:00",
                    "2017-03-29T00:00:00",
                    "2017-03-30T00:00:00",
                    "2017-03-31T00:00:00",
                    "2017-04-01T00:00:00",
                    "2017-04-02T00:00:00",
                    "2017-04-03T00:00:00",
                    "2017-04-04T00:00:00",
                    "2017-04-05T00:00:00",
                    "2017-04-06T00:00:00",
                    "2017-04-07T00:00:00",
                    "2017-04-08T00:00:00",
                    "2017-04-09T00:00:00",
                    "2017-04-10T00:00:00",
                    "2017-04-11T00:00:00",
                    "2017-04-12T00:00:00",
                    "2017-04-13T00:00:00",
                    "2017-04-14T00:00:00",
                    "2017-04-15T00:00:00",
                    "2017-04-16T00:00:00",
                    "2017-04-17T00:00:00",
                    "2017-04-18T00:00:00",
                    "2017-04-19T00:00:00",
                    "2017-04-20T00:00:00",
                    "2017-04-21T00:00:00",
                    "2017-04-22T00:00:00",
                    "2017-04-23T00:00:00",
                    "2017-04-24T00:00:00",
                    "2017-04-25T00:00:00",
                    "2017-04-26T00:00:00",
                    "2017-04-27T00:00:00",
                    "2017-04-28T00:00:00",
                    "2017-04-29T00:00:00",
                    "2017-04-30T00:00:00",
                    "2017-05-01T00:00:00",
                    "2017-05-02T00:00:00",
                    "2017-05-03T00:00:00",
                    "2017-05-04T00:00:00",
                    "2017-05-05T00:00:00",
                    "2017-05-06T00:00:00",
                    "2017-05-07T00:00:00",
                    "2017-05-08T00:00:00",
                    "2017-05-09T00:00:00",
                    "2017-05-10T00:00:00",
                    "2017-05-11T00:00:00",
                    "2017-05-12T00:00:00",
                    "2017-05-13T00:00:00",
                    "2017-05-14T00:00:00",
                    "2017-05-15T00:00:00",
                    "2017-05-16T00:00:00",
                    "2017-05-17T00:00:00",
                    "2017-05-18T00:00:00",
                    "2017-05-19T00:00:00",
                    "2017-05-20T00:00:00",
                    "2017-05-21T00:00:00",
                    "2017-05-22T00:00:00",
                    "2017-05-23T00:00:00",
                    "2017-05-24T00:00:00",
                    "2017-05-25T00:00:00",
                    "2017-05-26T00:00:00",
                    "2017-05-27T00:00:00",
                    "2017-05-28T00:00:00",
                    "2017-05-29T00:00:00",
                    "2017-05-30T00:00:00",
                    "2017-05-31T00:00:00",
                    "2017-06-01T00:00:00",
                    "2017-06-02T00:00:00",
                    "2017-06-03T00:00:00",
                    "2017-06-04T00:00:00",
                    "2017-06-05T00:00:00",
                    "2017-06-06T00:00:00",
                    "2017-06-07T00:00:00",
                    "2017-06-08T00:00:00",
                    "2017-06-09T00:00:00",
                    "2017-06-10T00:00:00",
                    "2017-06-11T00:00:00",
                    "2017-06-12T00:00:00",
                    "2017-06-13T00:00:00",
                    "2017-06-14T00:00:00",
                    "2017-06-15T00:00:00",
                    "2017-06-16T00:00:00",
                    "2017-06-17T00:00:00",
                    "2017-06-18T00:00:00",
                    "2017-06-19T00:00:00",
                    "2017-06-20T00:00:00",
                    "2017-06-21T00:00:00",
                    "2017-06-22T00:00:00",
                    "2017-06-23T00:00:00",
                    "2017-06-24T00:00:00",
                    "2017-06-25T00:00:00",
                    "2017-06-26T00:00:00",
                    "2017-06-27T00:00:00",
                    "2017-06-28T00:00:00",
                    "2017-06-29T00:00:00",
                    "2017-06-30T00:00:00",
                    "2017-07-01T00:00:00",
                    "2017-07-02T00:00:00",
                    "2017-07-03T00:00:00",
                    "2017-07-04T00:00:00",
                    "2017-07-05T00:00:00",
                    "2017-07-06T00:00:00",
                    "2017-07-07T00:00:00",
                    "2017-07-08T00:00:00",
                    "2017-07-09T00:00:00",
                    "2017-07-10T00:00:00",
                    "2017-07-11T00:00:00",
                    "2017-07-12T00:00:00",
                    "2017-07-13T00:00:00",
                    "2017-07-14T00:00:00",
                    "2017-07-15T00:00:00",
                    "2017-07-16T00:00:00",
                    "2017-07-17T00:00:00",
                    "2017-07-18T00:00:00",
                    "2017-07-19T00:00:00",
                    "2017-07-20T00:00:00",
                    "2017-07-21T00:00:00",
                    "2017-07-22T00:00:00",
                    "2017-07-23T00:00:00",
                    "2017-07-24T00:00:00",
                    "2017-07-25T00:00:00",
                    "2017-07-26T00:00:00",
                    "2017-07-27T00:00:00",
                    "2017-07-28T00:00:00",
                    "2017-07-29T00:00:00",
                    "2017-07-30T00:00:00",
                    "2017-07-31T00:00:00",
                    "2017-08-01T00:00:00",
                    "2017-08-02T00:00:00",
                    "2017-08-03T00:00:00",
                    "2017-08-04T00:00:00",
                    "2017-08-05T00:00:00",
                    "2017-08-06T00:00:00",
                    "2017-08-07T00:00:00",
                    "2017-08-08T00:00:00",
                    "2017-08-09T00:00:00",
                    "2017-08-10T00:00:00",
                    "2017-08-11T00:00:00",
                    "2017-08-12T00:00:00",
                    "2017-08-13T00:00:00",
                    "2017-08-14T00:00:00",
                    "2017-08-15T00:00:00",
                    "2017-08-16T00:00:00",
                    "2017-08-17T00:00:00",
                    "2017-08-18T00:00:00",
                    "2017-08-19T00:00:00",
                    "2017-08-20T00:00:00",
                    "2017-08-21T00:00:00",
                    "2017-08-22T00:00:00",
                    "2017-08-23T00:00:00",
                    "2017-08-24T00:00:00",
                    "2017-08-25T00:00:00",
                    "2017-08-26T00:00:00",
                    "2017-08-27T00:00:00",
                    "2017-08-28T00:00:00",
                    "2017-08-29T00:00:00",
                    "2017-08-30T00:00:00",
                    "2017-08-31T00:00:00",
                    "2017-09-01T00:00:00",
                    "2017-09-02T00:00:00",
                    "2017-09-03T00:00:00",
                    "2017-09-04T00:00:00",
                    "2017-09-05T00:00:00",
                    "2017-09-06T00:00:00",
                    "2017-09-07T00:00:00",
                    "2017-09-08T00:00:00",
                    "2017-09-09T00:00:00",
                    "2017-09-10T00:00:00",
                    "2017-09-11T00:00:00",
                    "2017-09-12T00:00:00",
                    "2017-09-13T00:00:00",
                    "2017-09-14T00:00:00",
                    "2017-09-15T00:00:00",
                    "2017-09-16T00:00:00",
                    "2017-09-17T00:00:00",
                    "2017-09-18T00:00:00",
                    "2017-09-19T00:00:00",
                    "2017-09-20T00:00:00",
                    "2017-09-21T00:00:00",
                    "2017-09-22T00:00:00",
                    "2017-09-23T00:00:00",
                    "2017-09-24T00:00:00",
                    "2017-09-25T00:00:00",
                    "2017-09-26T00:00:00",
                    "2017-09-27T00:00:00",
                    "2017-09-28T00:00:00",
                    "2017-09-29T00:00:00",
                    "2017-09-30T00:00:00",
                    "2017-10-01T00:00:00",
                    "2017-10-02T00:00:00",
                    "2017-10-03T00:00:00",
                    "2017-10-04T00:00:00",
                    "2017-10-05T00:00:00",
                    "2017-10-06T00:00:00",
                    "2017-10-07T00:00:00",
                    "2017-10-08T00:00:00",
                    "2017-10-09T00:00:00",
                    "2017-10-10T00:00:00",
                    "2017-10-11T00:00:00",
                    "2017-10-12T00:00:00",
                    "2017-10-13T00:00:00",
                    "2017-10-14T00:00:00",
                    "2017-10-15T00:00:00",
                    "2017-10-16T00:00:00",
                    "2017-10-17T00:00:00",
                    "2017-10-18T00:00:00",
                    "2017-10-19T00:00:00",
                    "2017-10-20T00:00:00",
                    "2017-10-21T00:00:00",
                    "2017-10-22T00:00:00",
                    "2017-10-23T00:00:00",
                    "2017-10-24T00:00:00",
                    "2017-10-25T00:00:00",
                    "2017-10-26T00:00:00",
                    "2017-10-27T00:00:00",
                    "2017-10-28T00:00:00",
                    "2017-10-29T00:00:00",
                    "2017-10-30T00:00:00",
                    "2017-10-31T00:00:00",
                    "2017-11-01T00:00:00",
                    "2017-11-02T00:00:00",
                    "2017-11-03T00:00:00",
                    "2017-11-04T00:00:00",
                    "2017-11-05T00:00:00",
                    "2017-11-06T00:00:00",
                    "2017-11-07T00:00:00",
                    "2017-11-08T00:00:00",
                    "2017-11-09T00:00:00",
                    "2017-11-10T00:00:00",
                    "2017-11-11T00:00:00",
                    "2017-11-12T00:00:00",
                    "2017-11-13T00:00:00",
                    "2017-11-14T00:00:00",
                    "2017-11-15T00:00:00",
                    "2017-11-16T00:00:00",
                    "2017-11-17T00:00:00",
                    "2017-11-18T00:00:00",
                    "2017-11-19T00:00:00",
                    "2017-11-20T00:00:00",
                    "2017-11-21T00:00:00",
                    "2017-11-22T00:00:00",
                    "2017-11-23T00:00:00",
                    "2017-11-24T00:00:00",
                    "2017-11-25T00:00:00",
                    "2017-11-26T00:00:00",
                    "2017-11-27T00:00:00",
                    "2017-11-28T00:00:00",
                    "2017-11-29T00:00:00",
                    "2017-11-30T00:00:00",
                    "2017-12-01T00:00:00",
                    "2017-12-02T00:00:00",
                    "2017-12-03T00:00:00",
                    "2017-12-04T00:00:00",
                    "2017-12-05T00:00:00",
                    "2017-12-06T00:00:00",
                    "2017-12-07T00:00:00",
                    "2017-12-08T00:00:00",
                    "2017-12-09T00:00:00",
                    "2017-12-10T00:00:00",
                    "2017-12-11T00:00:00",
                    "2017-12-12T00:00:00",
                    "2017-12-13T00:00:00",
                    "2017-12-14T00:00:00",
                    "2017-12-15T00:00:00",
                    "2017-12-16T00:00:00",
                    "2017-12-17T00:00:00",
                    "2017-12-18T00:00:00",
                    "2017-12-19T00:00:00",
                    "2017-12-20T00:00:00",
                    "2017-12-21T00:00:00",
                    "2017-12-22T00:00:00",
                    "2017-12-23T00:00:00",
                    "2017-12-24T00:00:00",
                    "2017-12-25T00:00:00",
                    "2017-12-26T00:00:00",
                    "2017-12-27T00:00:00",
                    "2017-12-28T00:00:00",
                    "2017-12-29T00:00:00",
                    "2017-12-30T00:00:00",
                    "2017-12-31T00:00:00",
                    "2018-01-01T00:00:00",
                    "2018-01-02T00:00:00",
                    "2018-01-03T00:00:00",
                    "2018-01-04T00:00:00",
                    "2018-01-05T00:00:00",
                    "2018-01-06T00:00:00",
                    "2018-01-07T00:00:00",
                    "2018-01-08T00:00:00",
                    "2018-01-09T00:00:00",
                    "2018-01-10T00:00:00",
                    "2018-01-11T00:00:00",
                    "2018-01-12T00:00:00",
                    "2018-01-13T00:00:00",
                    "2018-01-14T00:00:00",
                    "2018-01-15T00:00:00",
                    "2018-01-16T00:00:00",
                    "2018-01-17T00:00:00",
                    "2018-01-18T00:00:00",
                    "2018-01-19T00:00:00",
                    "2018-01-20T00:00:00",
                    "2018-01-21T00:00:00",
                    "2018-01-22T00:00:00",
                    "2018-01-23T00:00:00",
                    "2018-01-24T00:00:00",
                    "2018-01-25T00:00:00",
                    "2018-01-26T00:00:00",
                    "2018-01-27T00:00:00",
                    "2018-01-28T00:00:00",
                    "2018-01-29T00:00:00",
                    "2018-01-30T00:00:00",
                    "2018-01-31T00:00:00",
                    "2018-02-01T00:00:00",
                    "2018-02-02T00:00:00",
                    "2018-02-03T00:00:00",
                    "2018-02-04T00:00:00",
                    "2018-02-05T00:00:00",
                    "2018-02-06T00:00:00",
                    "2018-02-07T00:00:00",
                    "2018-02-08T00:00:00",
                    "2018-02-09T00:00:00",
                    "2018-02-10T00:00:00",
                    "2018-02-11T00:00:00",
                    "2018-02-12T00:00:00",
                    "2018-02-13T00:00:00",
                    "2018-02-14T00:00:00",
                    "2018-02-15T00:00:00",
                    "2018-02-16T00:00:00",
                    "2018-02-17T00:00:00",
                    "2018-02-18T00:00:00",
                    "2018-02-19T00:00:00",
                    "2018-02-20T00:00:00",
                    "2018-02-21T00:00:00",
                    "2018-02-22T00:00:00",
                    "2018-02-23T00:00:00",
                    "2018-02-24T00:00:00",
                    "2018-02-25T00:00:00",
                    "2018-02-26T00:00:00",
                    "2018-02-27T00:00:00",
                    "2018-02-28T00:00:00",
                    "2018-03-01T00:00:00",
                    "2018-03-02T00:00:00",
                    "2018-03-03T00:00:00",
                    "2018-03-04T00:00:00",
                    "2018-03-05T00:00:00",
                    "2018-03-06T00:00:00",
                    "2018-03-07T00:00:00",
                    "2018-03-08T00:00:00",
                    "2018-03-09T00:00:00",
                    "2018-03-10T00:00:00",
                    "2018-03-11T00:00:00",
                    "2018-03-12T00:00:00",
                    "2018-03-13T00:00:00",
                    "2018-03-14T00:00:00",
                    "2018-03-15T00:00:00",
                    "2018-03-16T00:00:00",
                    "2018-03-17T00:00:00",
                    "2018-03-18T00:00:00",
                    "2018-03-19T00:00:00",
                    "2018-03-20T00:00:00",
                    "2018-03-21T00:00:00",
                    "2018-03-22T00:00:00",
                    "2018-03-23T00:00:00",
                    "2018-03-24T00:00:00",
                    "2018-03-25T00:00:00",
                    "2018-03-26T00:00:00",
                    "2018-03-27T00:00:00",
                    "2018-03-28T00:00:00",
                    "2018-03-29T00:00:00",
                    "2018-03-30T00:00:00",
                    "2018-03-31T00:00:00",
                    "2018-04-01T00:00:00",
                    "2018-04-02T00:00:00",
                    "2018-04-03T00:00:00",
                    "2018-04-04T00:00:00",
                    "2018-04-05T00:00:00",
                    "2018-04-06T00:00:00",
                    "2018-04-07T00:00:00",
                    "2018-04-08T00:00:00",
                    "2018-04-09T00:00:00",
                    "2018-04-10T00:00:00",
                    "2018-04-11T00:00:00",
                    "2018-04-12T00:00:00",
                    "2018-04-13T00:00:00",
                    "2018-04-14T00:00:00",
                    "2018-04-15T00:00:00",
                    "2018-04-16T00:00:00",
                    "2018-04-17T00:00:00",
                    "2018-04-18T00:00:00",
                    "2018-04-19T00:00:00",
                    "2018-04-20T00:00:00",
                    "2018-04-21T00:00:00",
                    "2018-04-22T00:00:00",
                    "2018-04-23T00:00:00",
                    "2018-04-24T00:00:00"
                  ],
                  "y": [
                    13.83107732760389,
                    13.890550039590563,
                    14.062943664866943,
                    14.321152702168018,
                    14.629741367959928,
                    14.196368715887605,
                    13.80652686105666,
                    14.56954371912614,
                    14.629016431617956,
                    14.80141005739967,
                    15.059619095207754,
                    15.368207761505172,
                    14.934835111001698,
                    14.544993257740948,
                    15.308010117379492,
                    15.367482830819666,
                    15.539876457550031,
                    15.798085496305722,
                    16.106674163551446,
                    15.673302559559232,
                    15.283461752810771,
                    16.046479658960855,
                    16.10595341826825,
                    16.27835508206052,
                    16.53657215787801,
                    16.84516886218707,
                    16.41180577187288,
                    16.021973478801804,
                    16.784999898629582,
                    16.844482171614665,
                    17.01788215142921,
                    17.27709754326844,
                    17.586692563597534,
                    17.15438404547014,
                    16.765606324585228,
                    17.52968731659926,
                    17.590224161769758,
                    17.76465763823904,
                    18.0249065267321,
                    18.33553504371775,
                    17.904202243598363,
                    17.52349924160812,
                    18.295654952514685,
                    18.36426651657995,
                    18.554950744818818,
                    18.83145038508324,
                    19.15832965383707,
                    18.743247605488307,
                    18.381298772966474,
                    19.17220865334261,
                    19.259574386876395,
                    19.470834873080015,
                    19.767910771307957,
                    20.115366298028626,
                    19.720860507643874,
                    19.384984210518997,
                    20.20196662629475,
                    20.31540489522617,
                    20.54176407744795,
                    20.871563744702524,
                    21.25174304044973,
                    20.889961019089903,
                    20.59196160028472,
                    21.44682089437832,
                    21.598136041629044,
                    21.8623721021687,
                    22.22817138977851,
                    22.644350305877893,
                    22.318567904872996,
                    22.05290732058165,
                    22.940105449188703,
                    23.123759430952035,
                    23.420334326005705,
                    23.816055494146532,
                    24.26215629077741,
                    23.966295770302764,
                    23.713966047073047,
                    24.617936152229174,
                    24.818362110540992,
                    25.131708982142374,
                    25.53087126424202,
                    25.980413174832965,
                    25.687993768319867,
                    25.43910515904805,
                    26.34307526497564,
                    26.543501224058588,
                    26.856848096432035,
                    27.256010377189373,
                    27.705552286437072,
                    27.413132878581685,
                    27.16424426796703,
                    28.068214371842352,
                    28.268640328873687,
                    28.5819871991947,
                    28.98114948154087,
                    29.43069139237751,
                    29.13827198611264,
                    28.88938337708643,
                    29.793353480961635,
                    29.993779437992778,
                    30.307126308313467,
                    30.706288590660204,
                    31.155830501497427,
                    30.86341109523039,
                    30.614522486205303,
                    31.51849259008076,
                    31.718918547111866,
                    32.03226541743219,
                    32.43142769977877,
                    32.88096961061556,
                    32.588550204348145,
                    32.33966159532417,
                    33.2436316991992,
                    33.44405765623072,
                    33.75740452655154,
                    34.15656680889817,
                    34.60610871973493,
                    34.313689313468124,
                    34.06480070444275,
                    34.968770808318325,
                    35.16919676534957,
                    35.4825436356709,
                    35.88170591801755,
                    36.33124782885306,
                    36.03882842258667,
                    35.789939813562135,
                    36.69390991743676,
                    36.89433587446818,
                    37.20768274478962,
                    37.60684502713606,
                    38.05638693797244,
                    37.76396753170521,
                    37.51507892268154,
                    38.41904902655489,
                    38.61947498358751,
                    38.932821853908386,
                    39.331984136254626,
                    39.78152604709092,
                    39.48910664082296,
                    39.24021803180011,
                    40.14418813567416,
                    40.34461409270611,
                    40.65796096302715,
                    41.05712324537396,
                    41.506665156210836,
                    41.214245749943714,
                    40.96535714091898,
                    41.86932724479345,
                    42.069753201824966,
                    42.383100072146505,
                    42.78226235449164,
                    43.23180426532933,
                    42.93938485906147,
                    42.690496250037036,
                    43.59446635391272,
                    43.794892310943816,
                    44.10823918126463,
                    44.507401463611856,
                    44.9569433744478,
                    44.66452396818001,
                    44.41563535915613,
                    45.319605463030854,
                    45.52003142006267,
                    45.83337829038398,
                    46.23254057273042,
                    46.68208248356629,
                    46.389663077299204,
                    46.14077446827501,
                    47.04474457215029,
                    47.24517052918152,
                    47.558517399502115,
                    47.95767968184811,
                    48.4072215926862,
                    48.11480218641774,
                    47.8659135773944,
                    48.76988368126942,
                    48.970309638300364,
                    49.283656508621426,
                    49.6828187909675,
                    50.1323607018038,
                    49.839941295536285,
                    49.59105268651275,
                    50.495022790387544,
                    50.69544874741923,
                    51.00879561774019,
                    51.407957900086075,
                    51.857499810923166,
                    51.56508040465849,
                    51.31619179563184,
                    52.22016189950682,
                    52.420587856538305,
                    52.73393472685896,
                    53.133097009206274,
                    53.58263892004309,
                    53.29021951377624,
                    53.041330904750716,
                    53.94530100862595,
                    54.14572696565716,
                    54.459073835977684,
                    54.85823611832397,
                    55.307778029161575,
                    55.01535862289479,
                    54.766470013869586,
                    55.670440117745386,
                    55.870866074776494,
                    56.18421294509703,
                    56.583375227443355,
                    57.03291713828095,
                    56.74049773201253,
                    56.49160912298816,
                    57.39557922686351,
                    57.5960051838951,
                    57.909352054215795,
                    58.30851433656275,
                    58.758056247398734,
                    58.4656368411333,
                    58.216748232107555,
                    59.120718335982794,
                    59.32114429301371,
                    59.63449116333515,
                    60.03365344568126,
                    60.4831953565181,
                    60.19077595025105,
                    59.94188734122643,
                    60.84585744510208,
                    61.04628340213304,
                    61.35963027245328,
                    61.758792554799825,
                    62.20833446563658,
                    61.9159150593688,
                    61.66702645034583,
                    62.570996554219356,
                    62.77142251125165,
                    63.08476938157263,
                    63.48393166391922,
                    63.93347357475596,
                    63.64105416848957,
                    63.39216555946387,
                    64.29613566333865,
                    64.4965616203705,
                    64.809908490692,
                    65.20907077303778,
                    65.658612683875,
                    65.36619327760732,
                    65.11730466858326,
                    66.02127477245791,
                    66.2217007294891,
                    66.53504759981013,
                    66.93420988215706,
                    67.38375179299346,
                    67.09133238672585,
                    66.84244377770267,
                    67.74641388157605,
                    67.94683983860821,
                    68.26018670892947,
                    68.65934899127562,
                    69.10889090211195,
                    68.81647149584362,
                    68.56758288682042,
                    69.47155299069549,
                    69.67197894772707,
                    69.98532581804824,
                    70.38448810039502,
                    70.83403001123187,
                    70.54161060496361,
                    70.2927219959398,
                    71.19669209981461,
                    71.3971180568459,
                    71.7104649271676,
                    72.10962720951271,
                    72.55916912034947,
                    72.26674971408214,
                    72.01786110505816,
                    72.9218312089339,
                    73.12225716596477,
                    73.43560403628568,
                    73.83476631863127,
                    74.28430822946885,
                    73.99188882320068,
                    73.74300021417727,
                    74.64697031805201,
                    74.84739627508385,
                    75.16074314540445,
                    75.55990542775147,
                    76.00944733858732,
                    75.71702793231987,
                    75.46813932329614,
                    76.37210942717115,
                    76.57253538420244,
                    76.88588225452321,
                    77.28504453686917,
                    77.73458644770723,
                    77.44216704144063,
                    77.193278432415,
                    78.09724853629059,
                    78.29767449332131,
                    78.61102136364252,
                    79.01018364598855,
                    79.45972555682661,
                    79.16730615055837,
                    78.91841754153388,
                    79.8223876454087,
                    80.02281360244065,
                    80.33616047276128,
                    80.73532275510796,
                    81.1848646659442,
                    80.89244525967915,
                    80.64355665065297,
                    81.54752675452798,
                    81.74795271155949,
                    82.06129958188063,
                    82.46046186422733,
                    82.91000377506411,
                    82.6175843687969,
                    82.36869575977185,
                    83.27266586364726,
                    83.47309182067833,
                    83.78643869099878,
                    84.18560097334503,
                    84.63514288418224,
                    84.34272347791543,
                    84.09383486889125,
                    84.99780497276655,
                    85.19823092979743,
                    85.51157780011813,
                    85.91074008246441,
                    86.36028199330164,
                    86.06786258703399,
                    85.81897397800928,
                    86.72294408188466,
                    86.92337003891603,
                    87.23671690923689,
                    87.635879191583,
                    88.08542110242065,
                    87.79300169615396,
                    87.5441130871287,
                    88.44808319100312,
                    88.64850914803463,
                    88.96185601835566,
                    89.36101830070231,
                    89.81056021153914,
                    89.51814080527173,
                    89.26925219624755,
                    90.17322230012223,
                    90.37364825715373,
                    90.68699512747438,
                    91.08615740982081,
                    91.53569932065761,
                    91.24327991438946,
                    90.99439130536643,
                    91.89836140924069,
                    92.09878736627259,
                    92.41213423659373,
                    92.81129651894022,
                    93.260838429777,
                    92.96841902350944,
                    92.719530414485,
                    93.6235005183598,
                    93.82392647539145,
                    94.1372733457131,
                    94.53643562805789,
                    94.98597753889511,
                    94.69355813262798,
                    94.44466952360358,
                    95.34863962747909,
                    95.54906558451005,
                    95.86241245483181,
                    96.2615747371773,
                    96.7111166480145,
                    96.41869724174651,
                    96.16980863272245,
                    97.07377873659722,
                    97.27420469362939,
                    97.58755156395057,
                    97.98671384629668,
                    98.436255757133,
                    98.14383635086426,
                    97.89494774184155,
                    98.79891784571649,
                    98.99934380274799,
                    99.3126906730687,
                    99.71185295541609,
                    100.1613948662529,
                    99.86897545998504,
                    99.6200868509599,
                    100.52405695483579,
                    100.72448291186683,
                    101.03782978218801,
                    101.43699206453375,
                    101.88653397537138,
                    101.59411456910424,
                    101.34522596007929,
                    102.24919606395505,
                    102.44962202098569,
                    102.76296889130678,
                    103.16213117365396,
                    103.61167308448987,
                    103.31925367822356,
                    103.0703650691984,
                    103.97433517307319,
                    104.17476113010454,
                    104.48810800042612,
                    104.88727028277255,
                    105.33681219360835,
                    105.04439278734273,
                    104.79550417831726,
                    105.69947428219261,
                    105.89990023922388,
                    106.21324710954431,
                    106.61240939189021,
                    107.06195130272826,
                    106.76953189646129,
                    106.52064328743666,
                    107.42461339131175,
                    107.62503934834297,
                    107.93838621866362,
                    108.3375485010096,
                    108.78709041184587,
                    108.49467100557982,
                    108.24578239655501,
                    109.14975250042987,
                    109.35017845746157,
                    109.66352532778238,
                    110.06268761012818,
                    110.51222952096578,
                    110.2198101146998,
                    109.97092150567411,
                    110.87489160954914,
                    111.07531756658042,
                    111.38866443690115,
                    111.78782671924841,
                    112.2373686300839,
                    111.94494922381756,
                    111.69606061479297,
                    112.60003071866744,
                    112.80045667569904,
                    113.11380354601985,
                    113.51296582836608,
                    113.96250773920329,
                    113.6700883329361,
                    113.42119972391184,
                    114.32516982778587,
                    114.52559578481836,
                    114.83894265513922,
                    115.23810493748547,
                    115.68764684832266,
                    115.39522744205385,
                    115.14633883303043,
                    116.05030893690501,
                    116.25073489393696,
                    116.56408176425798,
                    116.96324404660399,
                    117.41278595744079,
                    117.12036655117463,
                    116.87147794214981,
                    117.77544804602428,
                    117.97587400305558,
                    118.28922087337735,
                    118.68838315572246,
                    119.13792506656016,
                    118.84550566029237,
                    118.59661705126871,
                    119.5005871551434,
                    119.70101311217492,
                    120.01435998249546,
                    120.41352226484189,
                    120.86306417567864,
                    120.57064476941011,
                    120.32175616038697,
                    121.22572626426168,
                    121.42615222129352,
                    121.73949909161483,
                    122.13866137396127,
                    122.58820328479803,
                    122.29578387853088,
                    122.04689526950533,
                    122.95086537338098,
                    123.15129133041236,
                    123.46463820073296
                  ]
                },
                {
                  "fill": "tonexty",
                  "fillcolor": "rgba(0, 114, 178, 0.2)",
                  "hoverinfo": "skip",
                  "line": {
                    "width": 0
                  },
                  "mode": "lines",
                  "type": "scatter",
                  "x": [
                    "2017-01-01T00:00:00",
                    "2017-01-02T00:00:00",
                    "2017-01-03T00:00:00",
                    "2017-01-04T00:00:00",
                    "2017-01-05T00:00:00",
                    "2017-01-06T00:00:00",
                    "2017-01-07T00:00:00",
                    "2017-01-08T00:00:00",
                    "2017-01-09T00:00:00",
                    "2017-01-10T00:00:00",
                    "2017-01-11T00:00:00",
                    "2017-01-12T00:00:00",
                    "2017-01-13T00:00:00",
                    "2017-01-14T00:00:00",
                    "2017-01-15T00:00:00",
                    "2017-01-16T00:00:00",
                    "2017-01-17T00:00:00",
                    "2017-01-18T00:00:00",
                    "2017-01-19T00:00:00",
                    "2017-01-20T00:00:00",
                    "2017-01-21T00:00:00",
                    "2017-01-22T00:00:00",
                    "2017-01-23T00:00:00",
                    "2017-01-24T00:00:00",
                    "2017-01-25T00:00:00",
                    "2017-01-26T00:00:00",
                    "2017-01-27T00:00:00",
                    "2017-01-28T00:00:00",
                    "2017-01-29T00:00:00",
                    "2017-01-30T00:00:00",
                    "2017-01-31T00:00:00",
                    "2017-02-01T00:00:00",
                    "2017-02-02T00:00:00",
                    "2017-02-03T00:00:00",
                    "2017-02-04T00:00:00",
                    "2017-02-05T00:00:00",
                    "2017-02-06T00:00:00",
                    "2017-02-07T00:00:00",
                    "2017-02-08T00:00:00",
                    "2017-02-09T00:00:00",
                    "2017-02-10T00:00:00",
                    "2017-02-11T00:00:00",
                    "2017-02-12T00:00:00",
                    "2017-02-13T00:00:00",
                    "2017-02-14T00:00:00",
                    "2017-02-15T00:00:00",
                    "2017-02-16T00:00:00",
                    "2017-02-17T00:00:00",
                    "2017-02-18T00:00:00",
                    "2017-02-19T00:00:00",
                    "2017-02-20T00:00:00",
                    "2017-02-21T00:00:00",
                    "2017-02-22T00:00:00",
                    "2017-02-23T00:00:00",
                    "2017-02-24T00:00:00",
                    "2017-02-25T00:00:00",
                    "2017-02-26T00:00:00",
                    "2017-02-27T00:00:00",
                    "2017-02-28T00:00:00",
                    "2017-03-01T00:00:00",
                    "2017-03-02T00:00:00",
                    "2017-03-03T00:00:00",
                    "2017-03-04T00:00:00",
                    "2017-03-05T00:00:00",
                    "2017-03-06T00:00:00",
                    "2017-03-07T00:00:00",
                    "2017-03-08T00:00:00",
                    "2017-03-09T00:00:00",
                    "2017-03-10T00:00:00",
                    "2017-03-11T00:00:00",
                    "2017-03-12T00:00:00",
                    "2017-03-13T00:00:00",
                    "2017-03-14T00:00:00",
                    "2017-03-15T00:00:00",
                    "2017-03-16T00:00:00",
                    "2017-03-17T00:00:00",
                    "2017-03-18T00:00:00",
                    "2017-03-19T00:00:00",
                    "2017-03-20T00:00:00",
                    "2017-03-21T00:00:00",
                    "2017-03-22T00:00:00",
                    "2017-03-23T00:00:00",
                    "2017-03-24T00:00:00",
                    "2017-03-25T00:00:00",
                    "2017-03-26T00:00:00",
                    "2017-03-27T00:00:00",
                    "2017-03-28T00:00:00",
                    "2017-03-29T00:00:00",
                    "2017-03-30T00:00:00",
                    "2017-03-31T00:00:00",
                    "2017-04-01T00:00:00",
                    "2017-04-02T00:00:00",
                    "2017-04-03T00:00:00",
                    "2017-04-04T00:00:00",
                    "2017-04-05T00:00:00",
                    "2017-04-06T00:00:00",
                    "2017-04-07T00:00:00",
                    "2017-04-08T00:00:00",
                    "2017-04-09T00:00:00",
                    "2017-04-10T00:00:00",
                    "2017-04-11T00:00:00",
                    "2017-04-12T00:00:00",
                    "2017-04-13T00:00:00",
                    "2017-04-14T00:00:00",
                    "2017-04-15T00:00:00",
                    "2017-04-16T00:00:00",
                    "2017-04-17T00:00:00",
                    "2017-04-18T00:00:00",
                    "2017-04-19T00:00:00",
                    "2017-04-20T00:00:00",
                    "2017-04-21T00:00:00",
                    "2017-04-22T00:00:00",
                    "2017-04-23T00:00:00",
                    "2017-04-24T00:00:00",
                    "2017-04-25T00:00:00",
                    "2017-04-26T00:00:00",
                    "2017-04-27T00:00:00",
                    "2017-04-28T00:00:00",
                    "2017-04-29T00:00:00",
                    "2017-04-30T00:00:00",
                    "2017-05-01T00:00:00",
                    "2017-05-02T00:00:00",
                    "2017-05-03T00:00:00",
                    "2017-05-04T00:00:00",
                    "2017-05-05T00:00:00",
                    "2017-05-06T00:00:00",
                    "2017-05-07T00:00:00",
                    "2017-05-08T00:00:00",
                    "2017-05-09T00:00:00",
                    "2017-05-10T00:00:00",
                    "2017-05-11T00:00:00",
                    "2017-05-12T00:00:00",
                    "2017-05-13T00:00:00",
                    "2017-05-14T00:00:00",
                    "2017-05-15T00:00:00",
                    "2017-05-16T00:00:00",
                    "2017-05-17T00:00:00",
                    "2017-05-18T00:00:00",
                    "2017-05-19T00:00:00",
                    "2017-05-20T00:00:00",
                    "2017-05-21T00:00:00",
                    "2017-05-22T00:00:00",
                    "2017-05-23T00:00:00",
                    "2017-05-24T00:00:00",
                    "2017-05-25T00:00:00",
                    "2017-05-26T00:00:00",
                    "2017-05-27T00:00:00",
                    "2017-05-28T00:00:00",
                    "2017-05-29T00:00:00",
                    "2017-05-30T00:00:00",
                    "2017-05-31T00:00:00",
                    "2017-06-01T00:00:00",
                    "2017-06-02T00:00:00",
                    "2017-06-03T00:00:00",
                    "2017-06-04T00:00:00",
                    "2017-06-05T00:00:00",
                    "2017-06-06T00:00:00",
                    "2017-06-07T00:00:00",
                    "2017-06-08T00:00:00",
                    "2017-06-09T00:00:00",
                    "2017-06-10T00:00:00",
                    "2017-06-11T00:00:00",
                    "2017-06-12T00:00:00",
                    "2017-06-13T00:00:00",
                    "2017-06-14T00:00:00",
                    "2017-06-15T00:00:00",
                    "2017-06-16T00:00:00",
                    "2017-06-17T00:00:00",
                    "2017-06-18T00:00:00",
                    "2017-06-19T00:00:00",
                    "2017-06-20T00:00:00",
                    "2017-06-21T00:00:00",
                    "2017-06-22T00:00:00",
                    "2017-06-23T00:00:00",
                    "2017-06-24T00:00:00",
                    "2017-06-25T00:00:00",
                    "2017-06-26T00:00:00",
                    "2017-06-27T00:00:00",
                    "2017-06-28T00:00:00",
                    "2017-06-29T00:00:00",
                    "2017-06-30T00:00:00",
                    "2017-07-01T00:00:00",
                    "2017-07-02T00:00:00",
                    "2017-07-03T00:00:00",
                    "2017-07-04T00:00:00",
                    "2017-07-05T00:00:00",
                    "2017-07-06T00:00:00",
                    "2017-07-07T00:00:00",
                    "2017-07-08T00:00:00",
                    "2017-07-09T00:00:00",
                    "2017-07-10T00:00:00",
                    "2017-07-11T00:00:00",
                    "2017-07-12T00:00:00",
                    "2017-07-13T00:00:00",
                    "2017-07-14T00:00:00",
                    "2017-07-15T00:00:00",
                    "2017-07-16T00:00:00",
                    "2017-07-17T00:00:00",
                    "2017-07-18T00:00:00",
                    "2017-07-19T00:00:00",
                    "2017-07-20T00:00:00",
                    "2017-07-21T00:00:00",
                    "2017-07-22T00:00:00",
                    "2017-07-23T00:00:00",
                    "2017-07-24T00:00:00",
                    "2017-07-25T00:00:00",
                    "2017-07-26T00:00:00",
                    "2017-07-27T00:00:00",
                    "2017-07-28T00:00:00",
                    "2017-07-29T00:00:00",
                    "2017-07-30T00:00:00",
                    "2017-07-31T00:00:00",
                    "2017-08-01T00:00:00",
                    "2017-08-02T00:00:00",
                    "2017-08-03T00:00:00",
                    "2017-08-04T00:00:00",
                    "2017-08-05T00:00:00",
                    "2017-08-06T00:00:00",
                    "2017-08-07T00:00:00",
                    "2017-08-08T00:00:00",
                    "2017-08-09T00:00:00",
                    "2017-08-10T00:00:00",
                    "2017-08-11T00:00:00",
                    "2017-08-12T00:00:00",
                    "2017-08-13T00:00:00",
                    "2017-08-14T00:00:00",
                    "2017-08-15T00:00:00",
                    "2017-08-16T00:00:00",
                    "2017-08-17T00:00:00",
                    "2017-08-18T00:00:00",
                    "2017-08-19T00:00:00",
                    "2017-08-20T00:00:00",
                    "2017-08-21T00:00:00",
                    "2017-08-22T00:00:00",
                    "2017-08-23T00:00:00",
                    "2017-08-24T00:00:00",
                    "2017-08-25T00:00:00",
                    "2017-08-26T00:00:00",
                    "2017-08-27T00:00:00",
                    "2017-08-28T00:00:00",
                    "2017-08-29T00:00:00",
                    "2017-08-30T00:00:00",
                    "2017-08-31T00:00:00",
                    "2017-09-01T00:00:00",
                    "2017-09-02T00:00:00",
                    "2017-09-03T00:00:00",
                    "2017-09-04T00:00:00",
                    "2017-09-05T00:00:00",
                    "2017-09-06T00:00:00",
                    "2017-09-07T00:00:00",
                    "2017-09-08T00:00:00",
                    "2017-09-09T00:00:00",
                    "2017-09-10T00:00:00",
                    "2017-09-11T00:00:00",
                    "2017-09-12T00:00:00",
                    "2017-09-13T00:00:00",
                    "2017-09-14T00:00:00",
                    "2017-09-15T00:00:00",
                    "2017-09-16T00:00:00",
                    "2017-09-17T00:00:00",
                    "2017-09-18T00:00:00",
                    "2017-09-19T00:00:00",
                    "2017-09-20T00:00:00",
                    "2017-09-21T00:00:00",
                    "2017-09-22T00:00:00",
                    "2017-09-23T00:00:00",
                    "2017-09-24T00:00:00",
                    "2017-09-25T00:00:00",
                    "2017-09-26T00:00:00",
                    "2017-09-27T00:00:00",
                    "2017-09-28T00:00:00",
                    "2017-09-29T00:00:00",
                    "2017-09-30T00:00:00",
                    "2017-10-01T00:00:00",
                    "2017-10-02T00:00:00",
                    "2017-10-03T00:00:00",
                    "2017-10-04T00:00:00",
                    "2017-10-05T00:00:00",
                    "2017-10-06T00:00:00",
                    "2017-10-07T00:00:00",
                    "2017-10-08T00:00:00",
                    "2017-10-09T00:00:00",
                    "2017-10-10T00:00:00",
                    "2017-10-11T00:00:00",
                    "2017-10-12T00:00:00",
                    "2017-10-13T00:00:00",
                    "2017-10-14T00:00:00",
                    "2017-10-15T00:00:00",
                    "2017-10-16T00:00:00",
                    "2017-10-17T00:00:00",
                    "2017-10-18T00:00:00",
                    "2017-10-19T00:00:00",
                    "2017-10-20T00:00:00",
                    "2017-10-21T00:00:00",
                    "2017-10-22T00:00:00",
                    "2017-10-23T00:00:00",
                    "2017-10-24T00:00:00",
                    "2017-10-25T00:00:00",
                    "2017-10-26T00:00:00",
                    "2017-10-27T00:00:00",
                    "2017-10-28T00:00:00",
                    "2017-10-29T00:00:00",
                    "2017-10-30T00:00:00",
                    "2017-10-31T00:00:00",
                    "2017-11-01T00:00:00",
                    "2017-11-02T00:00:00",
                    "2017-11-03T00:00:00",
                    "2017-11-04T00:00:00",
                    "2017-11-05T00:00:00",
                    "2017-11-06T00:00:00",
                    "2017-11-07T00:00:00",
                    "2017-11-08T00:00:00",
                    "2017-11-09T00:00:00",
                    "2017-11-10T00:00:00",
                    "2017-11-11T00:00:00",
                    "2017-11-12T00:00:00",
                    "2017-11-13T00:00:00",
                    "2017-11-14T00:00:00",
                    "2017-11-15T00:00:00",
                    "2017-11-16T00:00:00",
                    "2017-11-17T00:00:00",
                    "2017-11-18T00:00:00",
                    "2017-11-19T00:00:00",
                    "2017-11-20T00:00:00",
                    "2017-11-21T00:00:00",
                    "2017-11-22T00:00:00",
                    "2017-11-23T00:00:00",
                    "2017-11-24T00:00:00",
                    "2017-11-25T00:00:00",
                    "2017-11-26T00:00:00",
                    "2017-11-27T00:00:00",
                    "2017-11-28T00:00:00",
                    "2017-11-29T00:00:00",
                    "2017-11-30T00:00:00",
                    "2017-12-01T00:00:00",
                    "2017-12-02T00:00:00",
                    "2017-12-03T00:00:00",
                    "2017-12-04T00:00:00",
                    "2017-12-05T00:00:00",
                    "2017-12-06T00:00:00",
                    "2017-12-07T00:00:00",
                    "2017-12-08T00:00:00",
                    "2017-12-09T00:00:00",
                    "2017-12-10T00:00:00",
                    "2017-12-11T00:00:00",
                    "2017-12-12T00:00:00",
                    "2017-12-13T00:00:00",
                    "2017-12-14T00:00:00",
                    "2017-12-15T00:00:00",
                    "2017-12-16T00:00:00",
                    "2017-12-17T00:00:00",
                    "2017-12-18T00:00:00",
                    "2017-12-19T00:00:00",
                    "2017-12-20T00:00:00",
                    "2017-12-21T00:00:00",
                    "2017-12-22T00:00:00",
                    "2017-12-23T00:00:00",
                    "2017-12-24T00:00:00",
                    "2017-12-25T00:00:00",
                    "2017-12-26T00:00:00",
                    "2017-12-27T00:00:00",
                    "2017-12-28T00:00:00",
                    "2017-12-29T00:00:00",
                    "2017-12-30T00:00:00",
                    "2017-12-31T00:00:00",
                    "2018-01-01T00:00:00",
                    "2018-01-02T00:00:00",
                    "2018-01-03T00:00:00",
                    "2018-01-04T00:00:00",
                    "2018-01-05T00:00:00",
                    "2018-01-06T00:00:00",
                    "2018-01-07T00:00:00",
                    "2018-01-08T00:00:00",
                    "2018-01-09T00:00:00",
                    "2018-01-10T00:00:00",
                    "2018-01-11T00:00:00",
                    "2018-01-12T00:00:00",
                    "2018-01-13T00:00:00",
                    "2018-01-14T00:00:00",
                    "2018-01-15T00:00:00",
                    "2018-01-16T00:00:00",
                    "2018-01-17T00:00:00",
                    "2018-01-18T00:00:00",
                    "2018-01-19T00:00:00",
                    "2018-01-20T00:00:00",
                    "2018-01-21T00:00:00",
                    "2018-01-22T00:00:00",
                    "2018-01-23T00:00:00",
                    "2018-01-24T00:00:00",
                    "2018-01-25T00:00:00",
                    "2018-01-26T00:00:00",
                    "2018-01-27T00:00:00",
                    "2018-01-28T00:00:00",
                    "2018-01-29T00:00:00",
                    "2018-01-30T00:00:00",
                    "2018-01-31T00:00:00",
                    "2018-02-01T00:00:00",
                    "2018-02-02T00:00:00",
                    "2018-02-03T00:00:00",
                    "2018-02-04T00:00:00",
                    "2018-02-05T00:00:00",
                    "2018-02-06T00:00:00",
                    "2018-02-07T00:00:00",
                    "2018-02-08T00:00:00",
                    "2018-02-09T00:00:00",
                    "2018-02-10T00:00:00",
                    "2018-02-11T00:00:00",
                    "2018-02-12T00:00:00",
                    "2018-02-13T00:00:00",
                    "2018-02-14T00:00:00",
                    "2018-02-15T00:00:00",
                    "2018-02-16T00:00:00",
                    "2018-02-17T00:00:00",
                    "2018-02-18T00:00:00",
                    "2018-02-19T00:00:00",
                    "2018-02-20T00:00:00",
                    "2018-02-21T00:00:00",
                    "2018-02-22T00:00:00",
                    "2018-02-23T00:00:00",
                    "2018-02-24T00:00:00",
                    "2018-02-25T00:00:00",
                    "2018-02-26T00:00:00",
                    "2018-02-27T00:00:00",
                    "2018-02-28T00:00:00",
                    "2018-03-01T00:00:00",
                    "2018-03-02T00:00:00",
                    "2018-03-03T00:00:00",
                    "2018-03-04T00:00:00",
                    "2018-03-05T00:00:00",
                    "2018-03-06T00:00:00",
                    "2018-03-07T00:00:00",
                    "2018-03-08T00:00:00",
                    "2018-03-09T00:00:00",
                    "2018-03-10T00:00:00",
                    "2018-03-11T00:00:00",
                    "2018-03-12T00:00:00",
                    "2018-03-13T00:00:00",
                    "2018-03-14T00:00:00",
                    "2018-03-15T00:00:00",
                    "2018-03-16T00:00:00",
                    "2018-03-17T00:00:00",
                    "2018-03-18T00:00:00",
                    "2018-03-19T00:00:00",
                    "2018-03-20T00:00:00",
                    "2018-03-21T00:00:00",
                    "2018-03-22T00:00:00",
                    "2018-03-23T00:00:00",
                    "2018-03-24T00:00:00",
                    "2018-03-25T00:00:00",
                    "2018-03-26T00:00:00",
                    "2018-03-27T00:00:00",
                    "2018-03-28T00:00:00",
                    "2018-03-29T00:00:00",
                    "2018-03-30T00:00:00",
                    "2018-03-31T00:00:00",
                    "2018-04-01T00:00:00",
                    "2018-04-02T00:00:00",
                    "2018-04-03T00:00:00",
                    "2018-04-04T00:00:00",
                    "2018-04-05T00:00:00",
                    "2018-04-06T00:00:00",
                    "2018-04-07T00:00:00",
                    "2018-04-08T00:00:00",
                    "2018-04-09T00:00:00",
                    "2018-04-10T00:00:00",
                    "2018-04-11T00:00:00",
                    "2018-04-12T00:00:00",
                    "2018-04-13T00:00:00",
                    "2018-04-14T00:00:00",
                    "2018-04-15T00:00:00",
                    "2018-04-16T00:00:00",
                    "2018-04-17T00:00:00",
                    "2018-04-18T00:00:00",
                    "2018-04-19T00:00:00",
                    "2018-04-20T00:00:00",
                    "2018-04-21T00:00:00",
                    "2018-04-22T00:00:00",
                    "2018-04-23T00:00:00",
                    "2018-04-24T00:00:00"
                  ],
                  "y": [
                    16.904157897507517,
                    16.94709185645254,
                    17.212534885191335,
                    17.25507168361724,
                    17.616855414988844,
                    17.42888188189884,
                    16.8215353850305,
                    17.467682247992347,
                    17.737978747663387,
                    18.080115801791397,
                    18.148472098256995,
                    18.48406217845236,
                    17.730595568818213,
                    17.583829720386152,
                    18.301858976866164,
                    18.186093905181814,
                    18.51985325127841,
                    18.909519934880493,
                    18.88936311772704,
                    18.723768117553345,
                    18.12215123565868,
                    19.082830356990936,
                    19.121378972790225,
                    19.15803135657349,
                    19.654322853131582,
                    19.730517963389172,
                    19.574762986234333,
                    19.086696540124578,
                    19.905156210236974,
                    19.95817457894557,
                    19.920710254486863,
                    20.47691545338337,
                    20.79162396497129,
                    20.291368465571985,
                    19.745321375128412,
                    20.38790412469396,
                    20.588678946289885,
                    20.76932126819477,
                    21.04803714823822,
                    21.501033877933754,
                    21.157041024629883,
                    20.484748999080086,
                    21.429527927780764,
                    21.523875096989784,
                    21.69161323224718,
                    22.02766873817303,
                    22.38900849975063,
                    22.012909890526558,
                    21.47919321507086,
                    22.133495486099612,
                    22.197844924010102,
                    22.454303516701813,
                    22.508014144088214,
                    22.815632684569064,
                    22.787175069574367,
                    22.15094011159096,
                    23.345638039122804,
                    23.23653653108103,
                    23.632266877340783,
                    23.82789720100538,
                    24.612876556171074,
                    23.7379893011259,
                    23.651858805740652,
                    24.318197384798488,
                    24.754111564358546,
                    24.9561526233599,
                    25.14292274274525,
                    25.733210394031982,
                    25.519523716064498,
                    25.051678940793007,
                    25.821423999154444,
                    26.3447469309397,
                    26.249018831576894,
                    26.956805726559683,
                    27.46941264558649,
                    26.957723865343723,
                    26.712775606534713,
                    27.8655747818075,
                    27.900836713413657,
                    28.118056369030782,
                    28.34116148819419,
                    28.958517119769702,
                    28.587720722857338,
                    28.64587913264596,
                    29.433843847296348,
                    29.594300768275478,
                    30.020115738763995,
                    30.186824807253775,
                    30.792177769187326,
                    30.3723885885034,
                    30.26790636287604,
                    31.173736509389627,
                    31.322370349083624,
                    31.603239200162292,
                    31.79026228721545,
                    32.80978187652804,
                    32.36151858255378,
                    31.824992528553132,
                    32.58943161943455,
                    32.756162948083094,
                    33.30270955872767,
                    33.58265996096245,
                    34.13968970045583,
                    33.659350629249985,
                    33.48821727680916,
                    34.49104768491926,
                    34.76269402255175,
                    35.0534973691386,
                    35.24839350570608,
                    35.83890989487461,
                    35.57590218207457,
                    35.29453413115646,
                    36.314020958696474,
                    36.32406546053841,
                    36.54864218215699,
                    37.15141170744493,
                    37.60494855069373,
                    37.39714685650772,
                    37.119562442218786,
                    38.04959367638146,
                    38.033664118563905,
                    38.734245493759694,
                    39.0575750913321,
                    39.407445652705334,
                    38.941638533865095,
                    38.85977166947988,
                    39.78735685217217,
                    39.834981466493474,
                    40.24741690045824,
                    40.681632776869236,
                    41.107425895604834,
                    40.977529387460685,
                    40.77073012190488,
                    41.283468486403756,
                    41.76704059391399,
                    42.09415482717873,
                    42.34814054861016,
                    42.90409547937743,
                    42.4161221441136,
                    42.417558465674645,
                    43.16631769132541,
                    43.424642490604384,
                    43.48678573795782,
                    44.005080141238864,
                    44.37526408394067,
                    44.32745168357231,
                    43.92348964372585,
                    45.11663308888749,
                    45.28695656049709,
                    45.461403952138966,
                    45.67386708408908,
                    46.15876786727533,
                    45.92234066632915,
                    45.891584123466004,
                    47.00197906473916,
                    46.89607596326141,
                    47.26885815238225,
                    47.62182692858713,
                    48.10394058446822,
                    47.86262166166424,
                    47.615600027860914,
                    48.48427238991473,
                    48.794727831310674,
                    49.030771205259306,
                    49.46956362785198,
                    49.86374333690985,
                    49.56651163661284,
                    49.223665592186414,
                    50.32968753114149,
                    50.64589732766054,
                    50.688121131130075,
                    51.27131043574061,
                    51.893474724918285,
                    51.25491726493747,
                    50.97213133235067,
                    52.12831512055662,
                    52.34360448612597,
                    52.9022660888435,
                    52.90410686547582,
                    53.826711168802575,
                    53.32977083092305,
                    52.98230164424814,
                    53.578665922822154,
                    53.967691146776815,
                    54.539474176921104,
                    54.921039653377136,
                    55.665999807168966,
                    55.23330237661287,
                    54.52503637353723,
                    55.617475211943855,
                    56.03355409199426,
                    56.27592653070668,
                    56.57171461401551,
                    57.28689485889859,
                    56.9814546370462,
                    56.60608567290999,
                    57.61381760678136,
                    57.763422640225166,
                    58.29860602513253,
                    58.366430105154635,
                    59.267746446919155,
                    58.51797661045816,
                    58.57855627555241,
                    59.3183031995403,
                    59.63189548493281,
                    60.001894712773904,
                    60.60698166623525,
                    61.01718342486583,
                    60.56715453006957,
                    60.44465594057429,
                    61.62127651350221,
                    61.71549225440284,
                    61.88087365641035,
                    62.437797573546405,
                    62.74620024741725,
                    62.540694551592395,
                    62.443473744084024,
                    63.25231345809269,
                    63.428432674871615,
                    63.62632157374399,
                    64.23870562157562,
                    64.97500798619394,
                    64.90170008078124,
                    64.39771478636202,
                    65.38000913803316,
                    65.38587891897556,
                    65.87294480544044,
                    66.27948700154096,
                    66.69149071202915,
                    66.55663549905019,
                    65.97986967946176,
                    67.24059041638164,
                    67.18182069698516,
                    67.88783386659988,
                    68.00791552910947,
                    68.46606835057891,
                    68.56846559465954,
                    68.39571441455756,
                    69.29684236063618,
                    69.45267895850066,
                    69.92826733584722,
                    70.34300982450672,
                    70.34061583298666,
                    70.32963935428843,
                    70.18290534390611,
                    71.30924697337689,
                    71.84982604018542,
                    71.44845896726936,
                    72.3438185828745,
                    72.61788538941049,
                    72.05791256939132,
                    72.0797662660758,
                    72.99075791972757,
                    73.56253266082332,
                    73.79181772867719,
                    74.36243754494318,
                    74.66610198374076,
                    74.46222985054119,
                    74.5608081887289,
                    75.16083301715682,
                    75.7570765930082,
                    75.9478204992309,
                    75.93627859829941,
                    76.76371194981985,
                    76.65738547041725,
                    76.3731666748663,
                    77.19264253872664,
                    77.50375501877997,
                    77.60545258031803,
                    78.28700344121648,
                    78.76699598086168,
                    78.58816052204297,
                    78.55487329865085,
                    79.2294640327567,
                    79.42513346647077,
                    79.75508342814994,
                    80.55839736684473,
                    80.4441561994978,
                    80.48044200427378,
                    80.17873017656234,
                    81.28359694403888,
                    81.41932722406713,
                    82.49311135071802,
                    82.62902131589139,
                    82.70512893856814,
                    82.81222531295757,
                    82.3953908990569,
                    83.6182773269021,
                    84.0474964642198,
                    84.0365050495905,
                    84.75083483431294,
                    84.94004336885024,
                    84.57622679923722,
                    84.43654380511146,
                    85.51399234498693,
                    85.72860038324062,
                    85.93545246983643,
                    86.73190980962188,
                    87.13795775930038,
                    86.64846981775472,
                    86.5866072530581,
                    87.59951248590798,
                    88.14407430383821,
                    88.67351012164326,
                    88.73374208359644,
                    89.16088731579123,
                    88.70224224893529,
                    88.8938914821667,
                    89.8695943521796,
                    90.08498644827502,
                    90.20139478098277,
                    91.24597321155035,
                    91.35503031767614,
                    90.69590142384939,
                    91.03228512219862,
                    91.7748718640056,
                    92.06939261586483,
                    92.6440435987059,
                    92.98304661831297,
                    93.33958164467656,
                    93.23062598573071,
                    92.95971075181113,
                    93.95744926197032,
                    94.18243320953209,
                    94.5332300192066,
                    95.26815916658869,
                    95.18667677704684,
                    95.50362855320603,
                    95.01112250472157,
                    95.88212685700908,
                    96.45056228556052,
                    96.6166297272275,
                    96.99660997957201,
                    97.58505247977855,
                    97.29522934804002,
                    97.05222061622686,
                    98.52489308232568,
                    98.81946800958553,
                    99.1182726112857,
                    98.79305994701326,
                    99.92350190615598,
                    99.78304756369712,
                    99.38504270556847,
                    100.55813364170432,
                    100.89023183434354,
                    100.61854034566228,
                    101.1063839168317,
                    102.03806315283715,
                    101.87608276376248,
                    101.91077804394651,
                    102.4909282772298,
                    102.4533459827787,
                    102.83641249562048,
                    103.7562062384999,
                    103.65200010731043,
                    103.92549637570224,
                    103.55177924616669,
                    104.62285074514823,
                    104.51481210771,
                    105.61776237542836,
                    105.6722542637266,
                    106.56955253641887,
                    106.11168325810888,
                    105.62969640429738,
                    107.25942200870806,
                    107.16251225555196,
                    107.54637133647944,
                    108.2293185391361,
                    108.89904421569399,
                    108.0225883406962,
                    107.89663875540215,
                    108.65332090207882,
                    109.00870495593149,
                    109.21462282781053,
                    109.74347161517804,
                    110.45863492349021,
                    110.30783768650522,
                    109.9887118872503,
                    111.3363006471404,
                    111.74101067986504,
                    111.21901154671288,
                    112.14641803793467,
                    112.34162422549404,
                    112.78950260321056,
                    112.57679802344346,
                    113.1742606232464,
                    113.69843054204041,
                    113.97013949030203,
                    114.44351983628452,
                    115.03858206622127,
                    114.30744826758216,
                    114.51919165568114,
                    114.88821549937504,
                    115.16976059008476,
                    116.15918726265326,
                    116.66815064301652,
                    116.85884365662727,
                    116.63051754880793,
                    116.6313143687605,
                    117.30516398006115,
                    117.60301858360019,
                    118.37191155268309,
                    118.52298888701816,
                    119.57425998787197,
                    119.22043031945282,
                    118.5751316648432,
                    119.90525783270193,
                    120.10351567360452,
                    120.3756165186484,
                    120.96101874819878,
                    121.52242537583496,
                    121.18052211238074,
                    120.75117922795211,
                    122.19986627215388,
                    122.20825479875037,
                    122.78638676621318,
                    123.17438834565306,
                    124.15696905142956,
                    123.71938951963654,
                    123.40070515044238,
                    124.8043844478227,
                    124.209657418031,
                    125.22414775186746,
                    125.63733626239053,
                    125.89243641167648,
                    125.69645136275146,
                    125.58730929392469,
                    126.15426402879012,
                    126.53109845903667,
                    127.01338302231927,
                    127.16443654087098,
                    127.86666366337788,
                    127.8906047309003,
                    127.82220639502792,
                    128.60261753548352,
                    128.94105453599124,
                    129.0241943482906,
                    129.68645362704888,
                    130.18295391624085,
                    130.04034159189547,
                    130.07668448089183,
                    131.0290629565178,
                    131.08610451147277,
                    131.4939027177085,
                    132.06125018748986,
                    132.8581136331791,
                    132.78480216300542,
                    132.43257677369954,
                    133.07794475842775,
                    133.3669960345513,
                    133.657446567689,
                    134.5742759605686,
                    134.68040908608873,
                    134.89747883957492,
                    134.26972191576675,
                    134.93606850181217,
                    135.75845838761734,
                    136.31794526535404,
                    136.05178611568718,
                    137.47434453473159,
                    137.02453951161726,
                    136.53397692017046,
                    137.30862683521693,
                    137.82410336667195,
                    138.14659070254336,
                    138.85599286435834,
                    139.14942026449603,
                    139.35211841247136,
                    138.21377393761935,
                    139.66199198053906,
                    140.4027003901356,
                    140.78783306305488,
                    140.67684340860234,
                    141.7616875945307,
                    141.02784485050273,
                    141.41458899798073,
                    142.15819218159908,
                    142.54699622612227,
                    142.8879279637735
                  ]
                }
              ],
              "layout": {
                "height": 600,
                "showlegend": false,
                "template": {
                  "data": {
                    "bar": [
                      {
                        "error_x": {
                          "color": "#2a3f5f"
                        },
                        "error_y": {
                          "color": "#2a3f5f"
                        },
                        "marker": {
                          "line": {
                            "color": "#E5ECF6",
                            "width": 0.5
                          },
                          "pattern": {
                            "fillmode": "overlay",
                            "size": 10,
                            "solidity": 0.2
                          }
                        },
                        "type": "bar"
                      }
                    ],
                    "barpolar": [
                      {
                        "marker": {
                          "line": {
                            "color": "#E5ECF6",
                            "width": 0.5
                          },
                          "pattern": {
                            "fillmode": "overlay",
                            "size": 10,
                            "solidity": 0.2
                          }
                        },
                        "type": "barpolar"
                      }
                    ],
                    "carpet": [
                      {
                        "aaxis": {
                          "endlinecolor": "#2a3f5f",
                          "gridcolor": "white",
                          "linecolor": "white",
                          "minorgridcolor": "white",
                          "startlinecolor": "#2a3f5f"
                        },
                        "baxis": {
                          "endlinecolor": "#2a3f5f",
                          "gridcolor": "white",
                          "linecolor": "white",
                          "minorgridcolor": "white",
                          "startlinecolor": "#2a3f5f"
                        },
                        "type": "carpet"
                      }
                    ],
                    "choropleth": [
                      {
                        "colorbar": {
                          "outlinewidth": 0,
                          "ticks": ""
                        },
                        "type": "choropleth"
                      }
                    ],
                    "contour": [
                      {
                        "colorbar": {
                          "outlinewidth": 0,
                          "ticks": ""
                        },
                        "colorscale": [
                          [
                            0,
                            "#0d0887"
                          ],
                          [
                            0.1111111111111111,
                            "#46039f"
                          ],
                          [
                            0.2222222222222222,
                            "#7201a8"
                          ],
                          [
                            0.3333333333333333,
                            "#9c179e"
                          ],
                          [
                            0.4444444444444444,
                            "#bd3786"
                          ],
                          [
                            0.5555555555555556,
                            "#d8576b"
                          ],
                          [
                            0.6666666666666666,
                            "#ed7953"
                          ],
                          [
                            0.7777777777777778,
                            "#fb9f3a"
                          ],
                          [
                            0.8888888888888888,
                            "#fdca26"
                          ],
                          [
                            1,
                            "#f0f921"
                          ]
                        ],
                        "type": "contour"
                      }
                    ],
                    "contourcarpet": [
                      {
                        "colorbar": {
                          "outlinewidth": 0,
                          "ticks": ""
                        },
                        "type": "contourcarpet"
                      }
                    ],
                    "heatmap": [
                      {
                        "colorbar": {
                          "outlinewidth": 0,
                          "ticks": ""
                        },
                        "colorscale": [
                          [
                            0,
                            "#0d0887"
                          ],
                          [
                            0.1111111111111111,
                            "#46039f"
                          ],
                          [
                            0.2222222222222222,
                            "#7201a8"
                          ],
                          [
                            0.3333333333333333,
                            "#9c179e"
                          ],
                          [
                            0.4444444444444444,
                            "#bd3786"
                          ],
                          [
                            0.5555555555555556,
                            "#d8576b"
                          ],
                          [
                            0.6666666666666666,
                            "#ed7953"
                          ],
                          [
                            0.7777777777777778,
                            "#fb9f3a"
                          ],
                          [
                            0.8888888888888888,
                            "#fdca26"
                          ],
                          [
                            1,
                            "#f0f921"
                          ]
                        ],
                        "type": "heatmap"
                      }
                    ],
                    "heatmapgl": [
                      {
                        "colorbar": {
                          "outlinewidth": 0,
                          "ticks": ""
                        },
                        "colorscale": [
                          [
                            0,
                            "#0d0887"
                          ],
                          [
                            0.1111111111111111,
                            "#46039f"
                          ],
                          [
                            0.2222222222222222,
                            "#7201a8"
                          ],
                          [
                            0.3333333333333333,
                            "#9c179e"
                          ],
                          [
                            0.4444444444444444,
                            "#bd3786"
                          ],
                          [
                            0.5555555555555556,
                            "#d8576b"
                          ],
                          [
                            0.6666666666666666,
                            "#ed7953"
                          ],
                          [
                            0.7777777777777778,
                            "#fb9f3a"
                          ],
                          [
                            0.8888888888888888,
                            "#fdca26"
                          ],
                          [
                            1,
                            "#f0f921"
                          ]
                        ],
                        "type": "heatmapgl"
                      }
                    ],
                    "histogram": [
                      {
                        "marker": {
                          "pattern": {
                            "fillmode": "overlay",
                            "size": 10,
                            "solidity": 0.2
                          }
                        },
                        "type": "histogram"
                      }
                    ],
                    "histogram2d": [
                      {
                        "colorbar": {
                          "outlinewidth": 0,
                          "ticks": ""
                        },
                        "colorscale": [
                          [
                            0,
                            "#0d0887"
                          ],
                          [
                            0.1111111111111111,
                            "#46039f"
                          ],
                          [
                            0.2222222222222222,
                            "#7201a8"
                          ],
                          [
                            0.3333333333333333,
                            "#9c179e"
                          ],
                          [
                            0.4444444444444444,
                            "#bd3786"
                          ],
                          [
                            0.5555555555555556,
                            "#d8576b"
                          ],
                          [
                            0.6666666666666666,
                            "#ed7953"
                          ],
                          [
                            0.7777777777777778,
                            "#fb9f3a"
                          ],
                          [
                            0.8888888888888888,
                            "#fdca26"
                          ],
                          [
                            1,
                            "#f0f921"
                          ]
                        ],
                        "type": "histogram2d"
                      }
                    ],
                    "histogram2dcontour": [
                      {
                        "colorbar": {
                          "outlinewidth": 0,
                          "ticks": ""
                        },
                        "colorscale": [
                          [
                            0,
                            "#0d0887"
                          ],
                          [
                            0.1111111111111111,
                            "#46039f"
                          ],
                          [
                            0.2222222222222222,
                            "#7201a8"
                          ],
                          [
                            0.3333333333333333,
                            "#9c179e"
                          ],
                          [
                            0.4444444444444444,
                            "#bd3786"
                          ],
                          [
                            0.5555555555555556,
                            "#d8576b"
                          ],
                          [
                            0.6666666666666666,
                            "#ed7953"
                          ],
                          [
                            0.7777777777777778,
                            "#fb9f3a"
                          ],
                          [
                            0.8888888888888888,
                            "#fdca26"
                          ],
                          [
                            1,
                            "#f0f921"
                          ]
                        ],
                        "type": "histogram2dcontour"
                      }
                    ],
                    "mesh3d": [
                      {
                        "colorbar": {
                          "outlinewidth": 0,
                          "ticks": ""
                        },
                        "type": "mesh3d"
                      }
                    ],
                    "parcoords": [
                      {
                        "line": {
                          "colorbar": {
                            "outlinewidth": 0,
                            "ticks": ""
                          }
                        },
                        "type": "parcoords"
                      }
                    ],
                    "pie": [
                      {
                        "automargin": true,
                        "type": "pie"
                      }
                    ],
                    "scatter": [
                      {
                        "fillpattern": {
                          "fillmode": "overlay",
                          "size": 10,
                          "solidity": 0.2
                        },
                        "type": "scatter"
                      }
                    ],
                    "scatter3d": [
                      {
                        "line": {
                          "colorbar": {
                            "outlinewidth": 0,
                            "ticks": ""
                          }
                        },
                        "marker": {
                          "colorbar": {
                            "outlinewidth": 0,
                            "ticks": ""
                          }
                        },
                        "type": "scatter3d"
                      }
                    ],
                    "scattercarpet": [
                      {
                        "marker": {
                          "colorbar": {
                            "outlinewidth": 0,
                            "ticks": ""
                          }
                        },
                        "type": "scattercarpet"
                      }
                    ],
                    "scattergeo": [
                      {
                        "marker": {
                          "colorbar": {
                            "outlinewidth": 0,
                            "ticks": ""
                          }
                        },
                        "type": "scattergeo"
                      }
                    ],
                    "scattergl": [
                      {
                        "marker": {
                          "colorbar": {
                            "outlinewidth": 0,
                            "ticks": ""
                          }
                        },
                        "type": "scattergl"
                      }
                    ],
                    "scattermapbox": [
                      {
                        "marker": {
                          "colorbar": {
                            "outlinewidth": 0,
                            "ticks": ""
                          }
                        },
                        "type": "scattermapbox"
                      }
                    ],
                    "scatterpolar": [
                      {
                        "marker": {
                          "colorbar": {
                            "outlinewidth": 0,
                            "ticks": ""
                          }
                        },
                        "type": "scatterpolar"
                      }
                    ],
                    "scatterpolargl": [
                      {
                        "marker": {
                          "colorbar": {
                            "outlinewidth": 0,
                            "ticks": ""
                          }
                        },
                        "type": "scatterpolargl"
                      }
                    ],
                    "scatterternary": [
                      {
                        "marker": {
                          "colorbar": {
                            "outlinewidth": 0,
                            "ticks": ""
                          }
                        },
                        "type": "scatterternary"
                      }
                    ],
                    "surface": [
                      {
                        "colorbar": {
                          "outlinewidth": 0,
                          "ticks": ""
                        },
                        "colorscale": [
                          [
                            0,
                            "#0d0887"
                          ],
                          [
                            0.1111111111111111,
                            "#46039f"
                          ],
                          [
                            0.2222222222222222,
                            "#7201a8"
                          ],
                          [
                            0.3333333333333333,
                            "#9c179e"
                          ],
                          [
                            0.4444444444444444,
                            "#bd3786"
                          ],
                          [
                            0.5555555555555556,
                            "#d8576b"
                          ],
                          [
                            0.6666666666666666,
                            "#ed7953"
                          ],
                          [
                            0.7777777777777778,
                            "#fb9f3a"
                          ],
                          [
                            0.8888888888888888,
                            "#fdca26"
                          ],
                          [
                            1,
                            "#f0f921"
                          ]
                        ],
                        "type": "surface"
                      }
                    ],
                    "table": [
                      {
                        "cells": {
                          "fill": {
                            "color": "#EBF0F8"
                          },
                          "line": {
                            "color": "white"
                          }
                        },
                        "header": {
                          "fill": {
                            "color": "#C8D4E3"
                          },
                          "line": {
                            "color": "white"
                          }
                        },
                        "type": "table"
                      }
                    ]
                  },
                  "layout": {
                    "annotationdefaults": {
                      "arrowcolor": "#2a3f5f",
                      "arrowhead": 0,
                      "arrowwidth": 1
                    },
                    "autotypenumbers": "strict",
                    "coloraxis": {
                      "colorbar": {
                        "outlinewidth": 0,
                        "ticks": ""
                      }
                    },
                    "colorscale": {
                      "diverging": [
                        [
                          0,
                          "#8e0152"
                        ],
                        [
                          0.1,
                          "#c51b7d"
                        ],
                        [
                          0.2,
                          "#de77ae"
                        ],
                        [
                          0.3,
                          "#f1b6da"
                        ],
                        [
                          0.4,
                          "#fde0ef"
                        ],
                        [
                          0.5,
                          "#f7f7f7"
                        ],
                        [
                          0.6,
                          "#e6f5d0"
                        ],
                        [
                          0.7,
                          "#b8e186"
                        ],
                        [
                          0.8,
                          "#7fbc41"
                        ],
                        [
                          0.9,
                          "#4d9221"
                        ],
                        [
                          1,
                          "#276419"
                        ]
                      ],
                      "sequential": [
                        [
                          0,
                          "#0d0887"
                        ],
                        [
                          0.1111111111111111,
                          "#46039f"
                        ],
                        [
                          0.2222222222222222,
                          "#7201a8"
                        ],
                        [
                          0.3333333333333333,
                          "#9c179e"
                        ],
                        [
                          0.4444444444444444,
                          "#bd3786"
                        ],
                        [
                          0.5555555555555556,
                          "#d8576b"
                        ],
                        [
                          0.6666666666666666,
                          "#ed7953"
                        ],
                        [
                          0.7777777777777778,
                          "#fb9f3a"
                        ],
                        [
                          0.8888888888888888,
                          "#fdca26"
                        ],
                        [
                          1,
                          "#f0f921"
                        ]
                      ],
                      "sequentialminus": [
                        [
                          0,
                          "#0d0887"
                        ],
                        [
                          0.1111111111111111,
                          "#46039f"
                        ],
                        [
                          0.2222222222222222,
                          "#7201a8"
                        ],
                        [
                          0.3333333333333333,
                          "#9c179e"
                        ],
                        [
                          0.4444444444444444,
                          "#bd3786"
                        ],
                        [
                          0.5555555555555556,
                          "#d8576b"
                        ],
                        [
                          0.6666666666666666,
                          "#ed7953"
                        ],
                        [
                          0.7777777777777778,
                          "#fb9f3a"
                        ],
                        [
                          0.8888888888888888,
                          "#fdca26"
                        ],
                        [
                          1,
                          "#f0f921"
                        ]
                      ]
                    },
                    "colorway": [
                      "#636efa",
                      "#EF553B",
                      "#00cc96",
                      "#ab63fa",
                      "#FFA15A",
                      "#19d3f3",
                      "#FF6692",
                      "#B6E880",
                      "#FF97FF",
                      "#FECB52"
                    ],
                    "font": {
                      "color": "#2a3f5f"
                    },
                    "geo": {
                      "bgcolor": "white",
                      "lakecolor": "white",
                      "landcolor": "#E5ECF6",
                      "showlakes": true,
                      "showland": true,
                      "subunitcolor": "white"
                    },
                    "hoverlabel": {
                      "align": "left"
                    },
                    "hovermode": "closest",
                    "mapbox": {
                      "style": "light"
                    },
                    "paper_bgcolor": "white",
                    "plot_bgcolor": "#E5ECF6",
                    "polar": {
                      "angularaxis": {
                        "gridcolor": "white",
                        "linecolor": "white",
                        "ticks": ""
                      },
                      "bgcolor": "#E5ECF6",
                      "radialaxis": {
                        "gridcolor": "white",
                        "linecolor": "white",
                        "ticks": ""
                      }
                    },
                    "scene": {
                      "xaxis": {
                        "backgroundcolor": "#E5ECF6",
                        "gridcolor": "white",
                        "gridwidth": 2,
                        "linecolor": "white",
                        "showbackground": true,
                        "ticks": "",
                        "zerolinecolor": "white"
                      },
                      "yaxis": {
                        "backgroundcolor": "#E5ECF6",
                        "gridcolor": "white",
                        "gridwidth": 2,
                        "linecolor": "white",
                        "showbackground": true,
                        "ticks": "",
                        "zerolinecolor": "white"
                      },
                      "zaxis": {
                        "backgroundcolor": "#E5ECF6",
                        "gridcolor": "white",
                        "gridwidth": 2,
                        "linecolor": "white",
                        "showbackground": true,
                        "ticks": "",
                        "zerolinecolor": "white"
                      }
                    },
                    "shapedefaults": {
                      "line": {
                        "color": "#2a3f5f"
                      }
                    },
                    "ternary": {
                      "aaxis": {
                        "gridcolor": "white",
                        "linecolor": "white",
                        "ticks": ""
                      },
                      "baxis": {
                        "gridcolor": "white",
                        "linecolor": "white",
                        "ticks": ""
                      },
                      "bgcolor": "#E5ECF6",
                      "caxis": {
                        "gridcolor": "white",
                        "linecolor": "white",
                        "ticks": ""
                      }
                    },
                    "title": {
                      "x": 0.05
                    },
                    "xaxis": {
                      "automargin": true,
                      "gridcolor": "white",
                      "linecolor": "white",
                      "ticks": "",
                      "title": {
                        "standoff": 15
                      },
                      "zerolinecolor": "white",
                      "zerolinewidth": 2
                    },
                    "yaxis": {
                      "automargin": true,
                      "gridcolor": "white",
                      "linecolor": "white",
                      "ticks": "",
                      "title": {
                        "standoff": 15
                      },
                      "zerolinecolor": "white",
                      "zerolinewidth": 2
                    }
                  }
                },
                "width": 900,
                "xaxis": {
                  "rangeselector": {
                    "buttons": [
                      {
                        "count": 7,
                        "label": "1w",
                        "step": "day",
                        "stepmode": "backward"
                      },
                      {
                        "count": 1,
                        "label": "1m",
                        "step": "month",
                        "stepmode": "backward"
                      },
                      {
                        "count": 6,
                        "label": "6m",
                        "step": "month",
                        "stepmode": "backward"
                      },
                      {
                        "count": 1,
                        "label": "1y",
                        "step": "year",
                        "stepmode": "backward"
                      },
                      {
                        "step": "all"
                      }
                    ]
                  },
                  "rangeslider": {
                    "visible": true
                  },
                  "title": {
                    "text": "ds"
                  },
                  "type": "date"
                },
                "yaxis": {
                  "title": {
                    "text": "y"
                  }
                }
              }
            }
          },
          "metadata": {},
          "output_type": "display_data"
        }
      ],
      "source": [
        "from prophet import Prophet\n",
        "from prophet.plot import plot_plotly, plot_components_plotly\n",
        "model = Prophet()\n",
        "model.fit(forecast_data)\n",
        "forecast = model.make_future_dataframe(periods=365)\n",
        "prediction = model.predict(forecast)\n",
        "plot_plotly(model, prediction)\n"
      ]
    },
    {
      "cell_type": "code",
      "execution_count": null,
      "metadata": {
        "id": "QgpB3P64RqgF"
      },
      "outputs": [],
      "source": []
    }
  ],
  "metadata": {
    "colab": {
      "provenance": []
    },
    "kernelspec": {
      "display_name": "Python 3",
      "name": "python3"
    },
    "language_info": {
      "codemirror_mode": {
        "name": "ipython",
        "version": 3
      },
      "file_extension": ".py",
      "mimetype": "text/x-python",
      "name": "python",
      "nbconvert_exporter": "python",
      "pygments_lexer": "ipython3",
      "version": "3.12.4"
    }
  },
  "nbformat": 4,
  "nbformat_minor": 0
}
